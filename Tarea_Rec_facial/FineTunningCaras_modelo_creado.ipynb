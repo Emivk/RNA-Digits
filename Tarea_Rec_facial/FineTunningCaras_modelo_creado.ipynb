{
  "nbformat": 4,
  "nbformat_minor": 0,
  "metadata": {
    "colab": {
      "provenance": []
    },
    "kernelspec": {
      "name": "python3",
      "display_name": "Python 3"
    },
    "language_info": {
      "name": "python"
    }
  },
  "cells": [
    {
      "cell_type": "markdown",
      "source": [
        "Enlazamos Drive para obtener las imagenes de entrenamiento y testeo, además del modelo que creamos"
      ],
      "metadata": {
        "id": "rsTQ7oAGtPBz"
      }
    },
    {
      "cell_type": "code",
      "source": [
        "from google.colab import drive\n",
        "\n",
        "# Ruta para trabajar desde drive\n",
        "drive.mount('/content/drive')\n"
      ],
      "metadata": {
        "colab": {
          "base_uri": "https://localhost:8080/"
        },
        "id": "UbG71nVeOx7Y",
        "outputId": "ba5cec36-8001-4eb9-f62b-db1868f13b85"
      },
      "execution_count": 1,
      "outputs": [
        {
          "output_type": "stream",
          "name": "stdout",
          "text": [
            "Mounted at /content/drive\n"
          ]
        }
      ]
    },
    {
      "cell_type": "code",
      "source": [
        "!unzip -qq /content/drive/MyDrive/Datasets/img_align_celeba.zip"
      ],
      "metadata": {
        "id": "lukiDdSyTIJR"
      },
      "execution_count": null,
      "outputs": []
    },
    {
      "cell_type": "markdown",
      "source": [
        "Cargamos el modelo creado"
      ],
      "metadata": {
        "id": "ebIVNW4Vtah0"
      }
    },
    {
      "cell_type": "code",
      "source": [
        "from tensorflow.keras.models import load_model\n",
        "from keras.api._v2.keras import callbacks\n",
        "from tensorflow.keras.callbacks import ModelCheckpoint\n",
        "\n",
        "modeloc=load_model('/content/drive/MyDrive/Datasets/caras_checkpoints.h5')\n",
        "modeloc.summary()"
      ],
      "metadata": {
        "colab": {
          "base_uri": "https://localhost:8080/"
        },
        "id": "HiOx6UC9OtKG",
        "outputId": "41b4c3e9-474f-4d39-dbaf-e38b91522e02"
      },
      "execution_count": 5,
      "outputs": [
        {
          "output_type": "stream",
          "name": "stdout",
          "text": [
            "Model: \"sequential\"\n",
            "_________________________________________________________________\n",
            " Layer (type)                Output Shape              Param #   \n",
            "=================================================================\n",
            " conv2d (Conv2D)             (None, 178, 178, 64)      1792      \n",
            "                                                                 \n",
            " batch_normalization (Batch  (None, 178, 178, 64)      256       \n",
            " Normalization)                                                  \n",
            "                                                                 \n",
            " activation (Activation)     (None, 178, 178, 64)      0         \n",
            "                                                                 \n",
            " max_pooling2d (MaxPooling2  (None, 89, 89, 64)        0         \n",
            " D)                                                              \n",
            "                                                                 \n",
            " conv2d_1 (Conv2D)           (None, 87, 87, 128)       73856     \n",
            "                                                                 \n",
            " batch_normalization_1 (Bat  (None, 87, 87, 128)       512       \n",
            " chNormalization)                                                \n",
            "                                                                 \n",
            " activation_1 (Activation)   (None, 87, 87, 128)       0         \n",
            "                                                                 \n",
            " max_pooling2d_1 (MaxPoolin  (None, 43, 43, 128)       0         \n",
            " g2D)                                                            \n",
            "                                                                 \n",
            " conv2d_2 (Conv2D)           (None, 41, 41, 256)       295168    \n",
            "                                                                 \n",
            " batch_normalization_2 (Bat  (None, 41, 41, 256)       1024      \n",
            " chNormalization)                                                \n",
            "                                                                 \n",
            " activation_2 (Activation)   (None, 41, 41, 256)       0         \n",
            "                                                                 \n",
            " max_pooling2d_2 (MaxPoolin  (None, 20, 20, 256)       0         \n",
            " g2D)                                                            \n",
            "                                                                 \n",
            " conv2d_3 (Conv2D)           (None, 18, 18, 512)       1180160   \n",
            "                                                                 \n",
            " batch_normalization_3 (Bat  (None, 18, 18, 512)       2048      \n",
            " chNormalization)                                                \n",
            "                                                                 \n",
            " activation_3 (Activation)   (None, 18, 18, 512)       0         \n",
            "                                                                 \n",
            " max_pooling2d_3 (MaxPoolin  (None, 9, 9, 512)         0         \n",
            " g2D)                                                            \n",
            "                                                                 \n",
            " flatten (Flatten)           (None, 41472)             0         \n",
            "                                                                 \n",
            " dense (Dense)               (None, 256)               10617088  \n",
            "                                                                 \n",
            " dense_1 (Dense)             (None, 40)                10280     \n",
            "                                                                 \n",
            "=================================================================\n",
            "Total params: 12182184 (46.47 MB)\n",
            "Trainable params: 12180264 (46.46 MB)\n",
            "Non-trainable params: 1920 (7.50 KB)\n",
            "_________________________________________________________________\n"
          ]
        }
      ]
    },
    {
      "cell_type": "markdown",
      "source": [
        "Aquí empezamos a hacer un fine-tunning.\n",
        "En este caso, quitamos las últimas 3 capas de la red creada, encargadas de realizar a clasificación de las características de la imagen (las capas densas).\n",
        "\n",
        "una vez seleccionadas las capas que queremos, congelamos las primeras capas, y dejamos disponibles para entrenamiento el ultimo bloque de capa convolucional (Conv2D, batchnormalization, activación, maxpooling)\n",
        "\n",
        "Estas capas las guardamos en un nuevo modelo secuencial, agregandole un bloque convoluciónal nuevo (sin max pooling)"
      ],
      "metadata": {
        "id": "ihVQDygqteak"
      }
    },
    {
      "cell_type": "code",
      "execution_count": 62,
      "metadata": {
        "colab": {
          "base_uri": "https://localhost:8080/"
        },
        "id": "DkaO5KHZOnDY",
        "outputId": "ba2448ba-f496-40b8-c63d-e4f2e3897fc3"
      },
      "outputs": [
        {
          "output_type": "stream",
          "name": "stdout",
          "text": [
            "Model: \"sequential_8\"\n",
            "_________________________________________________________________\n",
            " Layer (type)                Output Shape              Param #   \n",
            "=================================================================\n",
            " conv2d (Conv2D)             (None, 178, 178, 64)      1792      \n",
            "                                                                 \n",
            " batch_normalization (Batch  (None, 178, 178, 64)      256       \n",
            " Normalization)                                                  \n",
            "                                                                 \n",
            " activation (Activation)     (None, 178, 178, 64)      0         \n",
            "                                                                 \n",
            " max_pooling2d (MaxPooling2  (None, 89, 89, 64)        0         \n",
            " D)                                                              \n",
            "                                                                 \n",
            " conv2d_1 (Conv2D)           (None, 87, 87, 128)       73856     \n",
            "                                                                 \n",
            " batch_normalization_1 (Bat  (None, 87, 87, 128)       512       \n",
            " chNormalization)                                                \n",
            "                                                                 \n",
            " activation_1 (Activation)   (None, 87, 87, 128)       0         \n",
            "                                                                 \n",
            " max_pooling2d_1 (MaxPoolin  (None, 43, 43, 128)       0         \n",
            " g2D)                                                            \n",
            "                                                                 \n",
            " conv2d_2 (Conv2D)           (None, 41, 41, 256)       295168    \n",
            "                                                                 \n",
            " batch_normalization_2 (Bat  (None, 41, 41, 256)       1024      \n",
            " chNormalization)                                                \n",
            "                                                                 \n",
            " activation_2 (Activation)   (None, 41, 41, 256)       0         \n",
            "                                                                 \n",
            " max_pooling2d_2 (MaxPoolin  (None, 20, 20, 256)       0         \n",
            " g2D)                                                            \n",
            "                                                                 \n",
            " conv2d_3 (Conv2D)           (None, 18, 18, 512)       1180160   \n",
            "                                                                 \n",
            " batch_normalization_3 (Bat  (None, 18, 18, 512)       2048      \n",
            " chNormalization)                                                \n",
            "                                                                 \n",
            " activation_3 (Activation)   (None, 18, 18, 512)       0         \n",
            "                                                                 \n",
            " agregadaconv (Conv2D)       (None, 16, 16, 128)       589952    \n",
            "                                                                 \n",
            " agregadoact (Activation)    (None, 16, 16, 128)       0         \n",
            "                                                                 \n",
            " agregadobn (BatchNormaliza  (None, 16, 16, 128)       512       \n",
            " tion)                                                           \n",
            "                                                                 \n",
            "=================================================================\n",
            "Total params: 2145280 (8.18 MB)\n",
            "Trainable params: 1771392 (6.76 MB)\n",
            "Non-trainable params: 373888 (1.43 MB)\n",
            "_________________________________________________________________\n"
          ]
        }
      ],
      "source": [
        "import tensorflow as tf\n",
        "from tensorflow.keras.models import Sequential, load_model\n",
        "from tensorflow.keras.layers import Dense, Conv2D, Activation, MaxPooling2D, Flatten, BatchNormalization, Dropout\n",
        "from tensorflow.keras.optimizers import Adam, SGD, RMSprop\n",
        "from keras.api._v2.keras import callbacks\n",
        "from tensorflow.keras.callbacks import ModelCheckpoint\n",
        "\n",
        "modeloc.trainable=True\n",
        "modeloc_capas=Sequential()\n",
        "i=0\n",
        "for capas in modeloc.layers[:-3]:\n",
        "  if i <12:\n",
        "    capas.trainable=False\n",
        "    modeloc_capas.add(capas)\n",
        "  else:\n",
        "    modeloc_capas.add(capas)\n",
        "  i+=1\n",
        "modeloc_capas.add(Conv2D(128,(3,3),name='agregadaconv'))\n",
        "modeloc_capas.add(Activation('relu',name='agregadoact'))\n",
        "modeloc_capas.add(BatchNormalization( name='agregadobn'))\n",
        "modeloc_capas.summary()"
      ]
    },
    {
      "cell_type": "markdown",
      "source": [
        "Ocupé este bloque de código para guardar algunas imagenes de la base de datos de celebA, el mismo número que las imagenes que me tomé con mi celular (112 para training y 112 para test)"
      ],
      "metadata": {
        "id": "hvletPDvu3n0"
      }
    },
    {
      "cell_type": "code",
      "source": [
        "import os\n",
        "import shutil\n",
        "\n",
        "# Ruta de la carpeta de origen\n",
        "carpeta_origen = \"/content/img_align_celeba\"\n",
        "\n",
        "# Ruta de la carpeta de destino\n",
        "carpeta_destino_tr = \"/content/Caras/Train/Celab\"\n",
        "carpeta_destino_ts = \"/content/Caras/Test/Celab\"\n",
        "\n",
        "\n",
        "# Obtener la lista de archivos en la carpeta de origen\n",
        "archivos = os.listdir(carpeta_origen)\n",
        "\n",
        "# Filtrar solo archivos JPG\n",
        "imagenes_jpg = [archivo for archivo in archivos if archivo.lower().endswith(\".jpg\")]\n",
        "\n",
        "# Ordenar las imágenes por fecha de modificación (últimas primero)\n",
        "imagenes_jpg.sort(key=lambda x: os.path.getmtime(os.path.join(carpeta_origen, x)), reverse=True)\n",
        "\n",
        "# Seleccionar las últimas 112 imágenes\n",
        "ultimas_imagenes = imagenes_jpg[:224]\n",
        "\n",
        "# Mover las imágenes seleccionadas a la carpeta de destino\n",
        "i=1\n",
        "for imagen in ultimas_imagenes:\n",
        "    origen = os.path.join(carpeta_origen, imagen)\n",
        "    if i<=112:\n",
        "      destino = os.path.join(carpeta_destino_tr, imagen)\n",
        "    else:\n",
        "      destino= os.path.join(carpeta_destino_ts, imagen)\n",
        "    shutil.move(origen, destino)\n",
        "    i+=1\n"
      ],
      "metadata": {
        "id": "VulHYAGIcm3j"
      },
      "execution_count": 4,
      "outputs": []
    },
    {
      "cell_type": "markdown",
      "source": [
        "Guardamos las imagenes en las estructuras de los datasets para manejarlos dentro del código"
      ],
      "metadata": {
        "id": "AumaJmlUvTw3"
      }
    },
    {
      "cell_type": "code",
      "source": [
        "from tensorflow.keras.preprocessing.image import ImageDataGenerator\n",
        "from tensorflow import keras\n",
        "\n",
        "gentrain = ImageDataGenerator(rescale=1. / 255., #indica que reescale cada canal con valor entre 0 y 1.\n",
        "                              rotation_range=40,\n",
        "                              width_shift_range=0.2,\n",
        "                              height_shift_range=0.2,\n",
        "                              shear_range=0.2,\n",
        "                              zoom_range=0.2,\n",
        "                              horizontal_flip=True,\n",
        "                              fill_mode='nearest')\n",
        "\n",
        "gentest = ImageDataGenerator(rescale=1./255.)\n",
        "\n",
        "train = gentrain.flow_from_directory('/content/drive/MyDrive/Datasets/Caras/Train',\n",
        "                batch_size=23,\n",
        "                target_size=(180, 180),\n",
        "                class_mode='binary')\n",
        "\n",
        "test = gentest.flow_from_directory('/content/drive/MyDrive/Datasets/Caras/Test',\n",
        "                batch_size=23,\n",
        "                target_size=(180, 180),\n",
        "                class_mode='binary')"
      ],
      "metadata": {
        "colab": {
          "base_uri": "https://localhost:8080/"
        },
        "id": "P-aAkBYsTD7i",
        "outputId": "2f0a654c-654c-4f5c-d98d-9ea780c5154b"
      },
      "execution_count": 7,
      "outputs": [
        {
          "output_type": "stream",
          "name": "stdout",
          "text": [
            "Found 224 images belonging to 2 classes.\n",
            "Found 224 images belonging to 2 classes.\n"
          ]
        }
      ]
    },
    {
      "cell_type": "markdown",
      "source": [
        "Creamos una nueva arquitectura de red, usando las capas convolucionales de la red que acabamos de guardar en el nuevo modelo de capas, agregandole un clasificador para determinar si existe mi cara en a imagen que se va a procesar."
      ],
      "metadata": {
        "id": "5GKwyKqlvcCB"
      }
    },
    {
      "cell_type": "code",
      "source": [
        "inputs= keras.Input(shape=(180,180,3))\n",
        "x=modeloc_capas(inputs)\n",
        "x=Flatten()(x)\n",
        "x=Dense(512)(x)\n",
        "outputs =Dense(1,activation='sigmoid')(x)\n",
        "modelcar2= keras.Model(inputs,outputs)\n",
        "modelcar2.summary()"
      ],
      "metadata": {
        "colab": {
          "base_uri": "https://localhost:8080/"
        },
        "id": "-1b6HwTFd2gn",
        "outputId": "681ea7f7-69ea-441d-96f7-222d14d80e2f"
      },
      "execution_count": 27,
      "outputs": [
        {
          "output_type": "stream",
          "name": "stdout",
          "text": [
            "Model: \"model_3\"\n",
            "_________________________________________________________________\n",
            " Layer (type)                Output Shape              Param #   \n",
            "=================================================================\n",
            " input_6 (InputLayer)        [(None, 180, 180, 3)]     0         \n",
            "                                                                 \n",
            " sequential_5 (Sequential)   (None, 7, 7, 128)         2145280   \n",
            "                                                                 \n",
            " flatten_4 (Flatten)         (None, 6272)              0         \n",
            "                                                                 \n",
            " dense_6 (Dense)             (None, 512)               3211776   \n",
            "                                                                 \n",
            " dense_7 (Dense)             (None, 1)                 513       \n",
            "                                                                 \n",
            "=================================================================\n",
            "Total params: 5357569 (20.44 MB)\n",
            "Trainable params: 4983681 (19.01 MB)\n",
            "Non-trainable params: 373888 (1.43 MB)\n",
            "_________________________________________________________________\n"
          ]
        }
      ]
    },
    {
      "cell_type": "code",
      "source": [
        "checkpoint = callbacks.ModelCheckpoint('fc.hdf5', monitor='val_loss', verbose=1, save_best_only=True, mode='min')\n",
        "\n",
        "modelcar2.compile(loss='binary_crossentropy', optimizer='Adam', metrics=['accuracy'])\n",
        "\n",
        "historial=modelcar2.fit(train, epochs=30, validation_data=test, verbose=1, callbacks=[checkpoint] )"
      ],
      "metadata": {
        "colab": {
          "base_uri": "https://localhost:8080/"
        },
        "id": "Ljr74S4rfm7x",
        "outputId": "b667ce5f-dfcc-4cf0-b745-e9082177623e"
      },
      "execution_count": null,
      "outputs": [
        {
          "output_type": "stream",
          "name": "stdout",
          "text": [
            "Epoch 1/30\n",
            "10/10 [==============================] - ETA: 0s - loss: 0.4759 - accuracy: 0.8705\n",
            "Epoch 1: val_loss improved from inf to 0.59556, saving model to fc.hdf5\n",
            "10/10 [==============================] - 85s 9s/step - loss: 0.4759 - accuracy: 0.8705 - val_loss: 0.5956 - val_accuracy: 0.6920\n",
            "Epoch 2/30\n",
            "10/10 [==============================] - ETA: 0s - loss: 0.2502 - accuracy: 0.9062\n",
            "Epoch 2: val_loss did not improve from 0.59556\n",
            "10/10 [==============================] - 81s 8s/step - loss: 0.2502 - accuracy: 0.9062 - val_loss: 0.6323 - val_accuracy: 0.6295\n",
            "Epoch 3/30\n",
            "10/10 [==============================] - ETA: 0s - loss: 0.3557 - accuracy: 0.8705\n",
            "Epoch 3: val_loss did not improve from 0.59556\n",
            "10/10 [==============================] - 81s 8s/step - loss: 0.3557 - accuracy: 0.8705 - val_loss: 0.7532 - val_accuracy: 0.5893\n",
            "Epoch 4/30\n",
            "10/10 [==============================] - ETA: 0s - loss: 0.2826 - accuracy: 0.9018\n",
            "Epoch 4: val_loss did not improve from 0.59556\n",
            "10/10 [==============================] - 82s 8s/step - loss: 0.2826 - accuracy: 0.9018 - val_loss: 0.6213 - val_accuracy: 0.6250\n",
            "Epoch 5/30\n",
            "10/10 [==============================] - ETA: 0s - loss: 0.2801 - accuracy: 0.8973\n",
            "Epoch 5: val_loss improved from 0.59556 to 0.59507, saving model to fc.hdf5\n",
            "10/10 [==============================] - 81s 8s/step - loss: 0.2801 - accuracy: 0.8973 - val_loss: 0.5951 - val_accuracy: 0.6741\n",
            "Epoch 6/30\n",
            "10/10 [==============================] - ETA: 0s - loss: 0.3689 - accuracy: 0.8750\n",
            "Epoch 6: val_loss improved from 0.59507 to 0.57414, saving model to fc.hdf5\n",
            "10/10 [==============================] - 74s 8s/step - loss: 0.3689 - accuracy: 0.8750 - val_loss: 0.5741 - val_accuracy: 0.6875\n",
            "Epoch 7/30\n",
            "10/10 [==============================] - ETA: 0s - loss: 0.2512 - accuracy: 0.9062\n",
            "Epoch 7: val_loss did not improve from 0.57414\n",
            "10/10 [==============================] - 81s 8s/step - loss: 0.2512 - accuracy: 0.9062 - val_loss: 0.5860 - val_accuracy: 0.6607\n",
            "Epoch 8/30\n",
            "10/10 [==============================] - ETA: 0s - loss: 0.2345 - accuracy: 0.9062\n",
            "Epoch 8: val_loss did not improve from 0.57414\n",
            "10/10 [==============================] - 81s 8s/step - loss: 0.2345 - accuracy: 0.9062 - val_loss: 0.6301 - val_accuracy: 0.6518\n",
            "Epoch 9/30\n",
            "10/10 [==============================] - ETA: 0s - loss: 0.2476 - accuracy: 0.8973\n",
            "Epoch 9: val_loss did not improve from 0.57414\n",
            "10/10 [==============================] - 81s 8s/step - loss: 0.2476 - accuracy: 0.8973 - val_loss: 0.6257 - val_accuracy: 0.6429\n",
            "Epoch 10/30\n",
            "10/10 [==============================] - ETA: 0s - loss: 0.4583 - accuracy: 0.8482\n",
            "Epoch 10: val_loss did not improve from 0.57414\n",
            "10/10 [==============================] - 82s 8s/step - loss: 0.4583 - accuracy: 0.8482 - val_loss: 0.7079 - val_accuracy: 0.6384\n",
            "Epoch 11/30\n",
            "10/10 [==============================] - ETA: 0s - loss: 0.2698 - accuracy: 0.9107\n",
            "Epoch 11: val_loss did not improve from 0.57414\n",
            "10/10 [==============================] - 80s 8s/step - loss: 0.2698 - accuracy: 0.9107 - val_loss: 0.6223 - val_accuracy: 0.6473\n",
            "Epoch 12/30\n",
            "10/10 [==============================] - ETA: 0s - loss: 0.2623 - accuracy: 0.9152\n",
            "Epoch 12: val_loss did not improve from 0.57414\n",
            "10/10 [==============================] - 81s 9s/step - loss: 0.2623 - accuracy: 0.9152 - val_loss: 0.6264 - val_accuracy: 0.6429\n",
            "Epoch 13/30\n",
            "10/10 [==============================] - ETA: 0s - loss: 0.2640 - accuracy: 0.9018\n",
            "Epoch 13: val_loss did not improve from 0.57414\n",
            "10/10 [==============================] - 81s 8s/step - loss: 0.2640 - accuracy: 0.9018 - val_loss: 0.6511 - val_accuracy: 0.6339\n",
            "Epoch 14/30\n",
            "10/10 [==============================] - ETA: 0s - loss: 0.2307 - accuracy: 0.9196\n",
            "Epoch 14: val_loss did not improve from 0.57414\n",
            "10/10 [==============================] - 82s 9s/step - loss: 0.2307 - accuracy: 0.9196 - val_loss: 0.6586 - val_accuracy: 0.6071\n",
            "Epoch 15/30\n",
            "10/10 [==============================] - ETA: 0s - loss: 0.2501 - accuracy: 0.8929\n",
            "Epoch 15: val_loss did not improve from 0.57414\n",
            "10/10 [==============================] - 74s 8s/step - loss: 0.2501 - accuracy: 0.8929 - val_loss: 0.6474 - val_accuracy: 0.6384\n",
            "Epoch 16/30\n",
            "10/10 [==============================] - ETA: 0s - loss: 0.3133 - accuracy: 0.9062\n",
            "Epoch 16: val_loss did not improve from 0.57414\n",
            "10/10 [==============================] - 81s 8s/step - loss: 0.3133 - accuracy: 0.9062 - val_loss: 0.6626 - val_accuracy: 0.6429\n",
            "Epoch 17/30\n",
            "10/10 [==============================] - ETA: 0s - loss: 0.2629 - accuracy: 0.8839\n",
            "Epoch 17: val_loss did not improve from 0.57414\n",
            "10/10 [==============================] - 80s 8s/step - loss: 0.2629 - accuracy: 0.8839 - val_loss: 0.6762 - val_accuracy: 0.6250\n",
            "Epoch 18/30\n",
            "10/10 [==============================] - ETA: 0s - loss: 0.2157 - accuracy: 0.9196\n",
            "Epoch 18: val_loss did not improve from 0.57414\n",
            "10/10 [==============================] - 83s 8s/step - loss: 0.2157 - accuracy: 0.9196 - val_loss: 0.7286 - val_accuracy: 0.5982\n",
            "Epoch 19/30\n",
            "10/10 [==============================] - ETA: 0s - loss: 0.2515 - accuracy: 0.9107\n",
            "Epoch 19: val_loss did not improve from 0.57414\n",
            "10/10 [==============================] - 80s 8s/step - loss: 0.2515 - accuracy: 0.9107 - val_loss: 0.6261 - val_accuracy: 0.6205\n",
            "Epoch 20/30\n",
            "10/10 [==============================] - ETA: 0s - loss: 0.2328 - accuracy: 0.9062\n",
            "Epoch 20: val_loss did not improve from 0.57414\n",
            "10/10 [==============================] - 80s 8s/step - loss: 0.2328 - accuracy: 0.9062 - val_loss: 0.6290 - val_accuracy: 0.5982\n",
            "Epoch 21/30\n",
            "10/10 [==============================] - ETA: 0s - loss: 0.2659 - accuracy: 0.8884\n",
            "Epoch 21: val_loss did not improve from 0.57414\n",
            "10/10 [==============================] - 80s 8s/step - loss: 0.2659 - accuracy: 0.8884 - val_loss: 0.6830 - val_accuracy: 0.5893\n",
            "Epoch 22/30\n",
            "10/10 [==============================] - ETA: 0s - loss: 0.2235 - accuracy: 0.9107"
          ]
        }
      ]
    },
    {
      "cell_type": "markdown",
      "source": [
        "Al parecer, con los parámetros elegidos para este entrenamiento, hubo un mal resultado en el costo de la validación (aunque cercano a 0)"
      ],
      "metadata": {
        "id": "iiWqWVqHwHps"
      }
    },
    {
      "cell_type": "code",
      "source": [
        "import matplotlib.pyplot as plt\n",
        "plt.plot(historial.history['loss'])\n",
        "plt.plot(historial.history['val_loss'])\n",
        "plt.title('Progreso de entrenamiento: función de costo vs epoca')\n",
        "plt.xlabel('Epocas')\n",
        "plt.ylabel('Valor de la función de costo')\n",
        "plt.legend(['Loss','Val_loss'])"
      ],
      "metadata": {
        "id": "9BCygp7QjaY5",
        "colab": {
          "base_uri": "https://localhost:8080/",
          "height": 489
        },
        "outputId": "74699838-3d20-4f60-aa6b-39ca9af0c282"
      },
      "execution_count": 37,
      "outputs": [
        {
          "output_type": "execute_result",
          "data": {
            "text/plain": [
              "<matplotlib.legend.Legend at 0x7b1a12388490>"
            ]
          },
          "metadata": {},
          "execution_count": 37
        },
        {
          "output_type": "display_data",
          "data": {
            "text/plain": [
              "<Figure size 640x480 with 1 Axes>"
            ],
            "image/png": "[encoded data removed]"
          },
          "metadata": {}
        }
      ]
    },
    {
      "cell_type": "markdown",
      "source": [
        "Para este entrenamiento, probé aumentar el número de epocas, ademas de una capa dropout de 0.2, logrando mejores resultados"
      ],
      "metadata": {
        "id": "su-nhOcOweL2"
      }
    },
    {
      "cell_type": "code",
      "source": [
        "inputs= keras.Input(shape=(180,180,3))\n",
        "x=modeloc_capas(inputs)\n",
        "x=Flatten()(x)\n",
        "x=Dense(512)(x)\n",
        "x=Dropout(0.2)(x)\n",
        "outputs =Dense(1,activation='sigmoid')(x)\n",
        "modelcar2= keras.Model(inputs,outputs)\n",
        "modelcar2.summary()\n",
        "\n",
        "checkpoint = callbacks.ModelCheckpoint('fc.hdf5', monitor='val_loss', verbose=1, save_best_only=True, mode='min')\n",
        "\n",
        "modelcar2.compile(loss='binary_crossentropy', optimizer='adam', metrics=['accuracy'])\n",
        "\n",
        "historial=modelcar2.fit(train, epochs=60, validation_data=test, verbose=1, callbacks=[checkpoint] )"
      ],
      "metadata": {
        "colab": {
          "base_uri": "https://localhost:8080/"
        },
        "id": "rqn67j4LuxJm",
        "outputId": "da357066-2b4e-4be7-e3ed-17d24a94c977"
      },
      "execution_count": 47,
      "outputs": [
        {
          "output_type": "stream",
          "name": "stdout",
          "text": [
            "Model: \"model_10\"\n",
            "_________________________________________________________________\n",
            " Layer (type)                Output Shape              Param #   \n",
            "=================================================================\n",
            " input_13 (InputLayer)       [(None, 180, 180, 3)]     0         \n",
            "                                                                 \n",
            " sequential_7 (Sequential)   (None, 7, 7, 128)         2145280   \n",
            "                                                                 \n",
            " flatten_11 (Flatten)        (None, 6272)              0         \n",
            "                                                                 \n",
            " dense_20 (Dense)            (None, 512)               3211776   \n",
            "                                                                 \n",
            " dropout_5 (Dropout)         (None, 512)               0         \n",
            "                                                                 \n",
            " dense_21 (Dense)            (None, 1)                 513       \n",
            "                                                                 \n",
            "=================================================================\n",
            "Total params: 5357569 (20.44 MB)\n",
            "Trainable params: 4983681 (19.01 MB)\n",
            "Non-trainable params: 373888 (1.43 MB)\n",
            "_________________________________________________________________\n",
            "Epoch 1/60\n",
            "10/10 [==============================] - ETA: 0s - loss: 1.4539 - accuracy: 0.7946\n",
            "Epoch 1: val_loss improved from inf to 5.60244, saving model to fc.hdf5\n",
            "10/10 [==============================] - 123s 9s/step - loss: 1.4539 - accuracy: 0.7946 - val_loss: 5.6024 - val_accuracy: 0.6920\n",
            "Epoch 2/60\n",
            "10/10 [==============================] - ETA: 0s - loss: 0.6045 - accuracy: 0.9464\n",
            "Epoch 2: val_loss improved from 5.60244 to 4.28550, saving model to fc.hdf5\n",
            "10/10 [==============================] - 81s 8s/step - loss: 0.6045 - accuracy: 0.9464 - val_loss: 4.2855 - val_accuracy: 0.7455\n",
            "Epoch 3/60\n",
            "10/10 [==============================] - ETA: 0s - loss: 0.6845 - accuracy: 0.9241\n",
            "Epoch 3: val_loss improved from 4.28550 to 2.66540, saving model to fc.hdf5\n",
            "10/10 [==============================] - 81s 8s/step - loss: 0.6845 - accuracy: 0.9241 - val_loss: 2.6654 - val_accuracy: 0.7768\n",
            "Epoch 4/60\n",
            "10/10 [==============================] - ETA: 0s - loss: 0.6545 - accuracy: 0.9107\n",
            "Epoch 4: val_loss improved from 2.66540 to 1.56582, saving model to fc.hdf5\n",
            "10/10 [==============================] - 81s 8s/step - loss: 0.6545 - accuracy: 0.9107 - val_loss: 1.5658 - val_accuracy: 0.7946\n",
            "Epoch 5/60\n",
            "10/10 [==============================] - ETA: 0s - loss: 0.5855 - accuracy: 0.8973\n",
            "Epoch 5: val_loss improved from 1.56582 to 0.73716, saving model to fc.hdf5\n",
            "10/10 [==============================] - 81s 8s/step - loss: 0.5855 - accuracy: 0.8973 - val_loss: 0.7372 - val_accuracy: 0.7812\n",
            "Epoch 6/60\n",
            "10/10 [==============================] - ETA: 0s - loss: 0.3266 - accuracy: 0.9152\n",
            "Epoch 6: val_loss improved from 0.73716 to 0.69404, saving model to fc.hdf5\n",
            "10/10 [==============================] - 82s 8s/step - loss: 0.3266 - accuracy: 0.9152 - val_loss: 0.6940 - val_accuracy: 0.7946\n",
            "Epoch 7/60\n",
            "10/10 [==============================] - ETA: 0s - loss: 0.1676 - accuracy: 0.9554\n",
            "Epoch 7: val_loss did not improve from 0.69404\n",
            "10/10 [==============================] - 81s 8s/step - loss: 0.1676 - accuracy: 0.9554 - val_loss: 0.7497 - val_accuracy: 0.7902\n",
            "Epoch 8/60\n",
            "10/10 [==============================] - ETA: 0s - loss: 0.1911 - accuracy: 0.9643\n",
            "Epoch 8: val_loss improved from 0.69404 to 0.65558, saving model to fc.hdf5\n",
            "10/10 [==============================] - 80s 8s/step - loss: 0.1911 - accuracy: 0.9643 - val_loss: 0.6556 - val_accuracy: 0.7857\n",
            "Epoch 9/60\n",
            "10/10 [==============================] - ETA: 0s - loss: 0.2032 - accuracy: 0.9509\n",
            "Epoch 9: val_loss did not improve from 0.65558\n",
            "10/10 [==============================] - 80s 8s/step - loss: 0.2032 - accuracy: 0.9509 - val_loss: 0.9206 - val_accuracy: 0.7366\n",
            "Epoch 10/60\n",
            "10/10 [==============================] - ETA: 0s - loss: 0.3207 - accuracy: 0.9286\n",
            "Epoch 10: val_loss improved from 0.65558 to 0.60618, saving model to fc.hdf5\n",
            "10/10 [==============================] - 83s 9s/step - loss: 0.3207 - accuracy: 0.9286 - val_loss: 0.6062 - val_accuracy: 0.7679\n",
            "Epoch 11/60\n",
            "10/10 [==============================] - ETA: 0s - loss: 0.2475 - accuracy: 0.9152\n",
            "Epoch 11: val_loss did not improve from 0.60618\n",
            "10/10 [==============================] - 80s 8s/step - loss: 0.2475 - accuracy: 0.9152 - val_loss: 1.0038 - val_accuracy: 0.6964\n",
            "Epoch 12/60\n",
            "10/10 [==============================] - ETA: 0s - loss: 0.2516 - accuracy: 0.9241\n",
            "Epoch 12: val_loss improved from 0.60618 to 0.51442, saving model to fc.hdf5\n",
            "10/10 [==============================] - 80s 8s/step - loss: 0.2516 - accuracy: 0.9241 - val_loss: 0.5144 - val_accuracy: 0.7902\n",
            "Epoch 13/60\n",
            "10/10 [==============================] - ETA: 0s - loss: 0.1391 - accuracy: 0.9330\n",
            "Epoch 13: val_loss did not improve from 0.51442\n",
            "10/10 [==============================] - 81s 8s/step - loss: 0.1391 - accuracy: 0.9330 - val_loss: 0.8693 - val_accuracy: 0.7455\n",
            "Epoch 14/60\n",
            "10/10 [==============================] - ETA: 0s - loss: 0.2120 - accuracy: 0.9330\n",
            "Epoch 14: val_loss did not improve from 0.51442\n",
            "10/10 [==============================] - 81s 8s/step - loss: 0.2120 - accuracy: 0.9330 - val_loss: 0.7981 - val_accuracy: 0.7455\n",
            "Epoch 15/60\n",
            "10/10 [==============================] - ETA: 0s - loss: 0.2169 - accuracy: 0.9330\n",
            "Epoch 15: val_loss did not improve from 0.51442\n",
            "10/10 [==============================] - 72s 7s/step - loss: 0.2169 - accuracy: 0.9330 - val_loss: 1.2330 - val_accuracy: 0.7009\n",
            "Epoch 16/60\n",
            "10/10 [==============================] - ETA: 0s - loss: 0.0601 - accuracy: 0.9821\n",
            "Epoch 16: val_loss did not improve from 0.51442\n",
            "10/10 [==============================] - 81s 8s/step - loss: 0.0601 - accuracy: 0.9821 - val_loss: 1.0730 - val_accuracy: 0.7143\n",
            "Epoch 17/60\n",
            "10/10 [==============================] - ETA: 0s - loss: 0.1739 - accuracy: 0.9598\n",
            "Epoch 17: val_loss did not improve from 0.51442\n",
            "10/10 [==============================] - 81s 8s/step - loss: 0.1739 - accuracy: 0.9598 - val_loss: 1.2489 - val_accuracy: 0.6875\n",
            "Epoch 18/60\n",
            "10/10 [==============================] - ETA: 0s - loss: 0.1261 - accuracy: 0.9643\n",
            "Epoch 18: val_loss did not improve from 0.51442\n",
            "10/10 [==============================] - 81s 8s/step - loss: 0.1261 - accuracy: 0.9643 - val_loss: 0.7698 - val_accuracy: 0.7455\n",
            "Epoch 19/60\n",
            "10/10 [==============================] - ETA: 0s - loss: 0.1200 - accuracy: 0.9643\n",
            "Epoch 19: val_loss did not improve from 0.51442\n",
            "10/10 [==============================] - 80s 8s/step - loss: 0.1200 - accuracy: 0.9643 - val_loss: 1.3356 - val_accuracy: 0.6786\n",
            "Epoch 20/60\n",
            "10/10 [==============================] - ETA: 0s - loss: 0.1734 - accuracy: 0.9330\n",
            "Epoch 20: val_loss did not improve from 0.51442\n",
            "10/10 [==============================] - 82s 8s/step - loss: 0.1734 - accuracy: 0.9330 - val_loss: 0.7548 - val_accuracy: 0.7411\n",
            "Epoch 21/60\n",
            "10/10 [==============================] - ETA: 0s - loss: 0.1331 - accuracy: 0.9598\n",
            "Epoch 21: val_loss did not improve from 0.51442\n",
            "10/10 [==============================] - 74s 8s/step - loss: 0.1331 - accuracy: 0.9598 - val_loss: 1.4422 - val_accuracy: 0.6741\n",
            "Epoch 22/60\n",
            "10/10 [==============================] - ETA: 0s - loss: 0.1594 - accuracy: 0.9598\n",
            "Epoch 22: val_loss did not improve from 0.51442\n",
            "10/10 [==============================] - 81s 8s/step - loss: 0.1594 - accuracy: 0.9598 - val_loss: 1.7386 - val_accuracy: 0.6339\n",
            "Epoch 23/60\n",
            "10/10 [==============================] - ETA: 0s - loss: 0.1304 - accuracy: 0.9688\n",
            "Epoch 23: val_loss did not improve from 0.51442\n",
            "10/10 [==============================] - 81s 8s/step - loss: 0.1304 - accuracy: 0.9688 - val_loss: 1.0913 - val_accuracy: 0.6875\n",
            "Epoch 24/60\n",
            "10/10 [==============================] - ETA: 0s - loss: 0.1024 - accuracy: 0.9688\n",
            "Epoch 24: val_loss did not improve from 0.51442\n",
            "10/10 [==============================] - 80s 8s/step - loss: 0.1024 - accuracy: 0.9688 - val_loss: 1.4007 - val_accuracy: 0.6473\n",
            "Epoch 25/60\n",
            "10/10 [==============================] - ETA: 0s - loss: 0.1172 - accuracy: 0.9643\n",
            "Epoch 25: val_loss did not improve from 0.51442\n",
            "10/10 [==============================] - 82s 8s/step - loss: 0.1172 - accuracy: 0.9643 - val_loss: 1.1011 - val_accuracy: 0.6696\n",
            "Epoch 26/60\n",
            "10/10 [==============================] - ETA: 0s - loss: 0.1170 - accuracy: 0.9732\n",
            "Epoch 26: val_loss did not improve from 0.51442\n",
            "10/10 [==============================] - 80s 8s/step - loss: 0.1170 - accuracy: 0.9732 - val_loss: 1.1665 - val_accuracy: 0.6696\n",
            "Epoch 27/60\n",
            "10/10 [==============================] - ETA: 0s - loss: 0.1075 - accuracy: 0.9554\n",
            "Epoch 27: val_loss did not improve from 0.51442\n",
            "10/10 [==============================] - 80s 8s/step - loss: 0.1075 - accuracy: 0.9554 - val_loss: 1.1318 - val_accuracy: 0.6696\n",
            "Epoch 28/60\n",
            "10/10 [==============================] - ETA: 0s - loss: 0.1398 - accuracy: 0.9554\n",
            "Epoch 28: val_loss did not improve from 0.51442\n",
            "10/10 [==============================] - 79s 8s/step - loss: 0.1398 - accuracy: 0.9554 - val_loss: 0.8102 - val_accuracy: 0.7098\n",
            "Epoch 29/60\n",
            "10/10 [==============================] - ETA: 0s - loss: 0.1658 - accuracy: 0.9420\n",
            "Epoch 29: val_loss did not improve from 0.51442\n",
            "10/10 [==============================] - 81s 8s/step - loss: 0.1658 - accuracy: 0.9420 - val_loss: 1.0119 - val_accuracy: 0.6652\n",
            "Epoch 30/60\n",
            "10/10 [==============================] - ETA: 0s - loss: 0.2052 - accuracy: 0.9286\n",
            "Epoch 30: val_loss did not improve from 0.51442\n",
            "10/10 [==============================] - 81s 8s/step - loss: 0.2052 - accuracy: 0.9286 - val_loss: 1.3765 - val_accuracy: 0.6473\n",
            "Epoch 31/60\n",
            "10/10 [==============================] - ETA: 0s - loss: 0.0944 - accuracy: 0.9688\n",
            "Epoch 31: val_loss did not improve from 0.51442\n",
            "10/10 [==============================] - 80s 8s/step - loss: 0.0944 - accuracy: 0.9688 - val_loss: 1.2182 - val_accuracy: 0.6830\n",
            "Epoch 32/60\n",
            "10/10 [==============================] - ETA: 0s - loss: 0.1224 - accuracy: 0.9732\n",
            "Epoch 32: val_loss did not improve from 0.51442\n",
            "10/10 [==============================] - 81s 8s/step - loss: 0.1224 - accuracy: 0.9732 - val_loss: 0.9608 - val_accuracy: 0.6964\n",
            "Epoch 33/60\n",
            "10/10 [==============================] - ETA: 0s - loss: 0.1492 - accuracy: 0.9420\n",
            "Epoch 33: val_loss did not improve from 0.51442\n",
            "10/10 [==============================] - 73s 8s/step - loss: 0.1492 - accuracy: 0.9420 - val_loss: 1.1478 - val_accuracy: 0.6741\n",
            "Epoch 34/60\n",
            "10/10 [==============================] - ETA: 0s - loss: 0.1175 - accuracy: 0.9643\n",
            "Epoch 34: val_loss did not improve from 0.51442\n",
            "10/10 [==============================] - 80s 8s/step - loss: 0.1175 - accuracy: 0.9643 - val_loss: 0.5771 - val_accuracy: 0.7946\n",
            "Epoch 35/60\n",
            "10/10 [==============================] - ETA: 0s - loss: 0.1453 - accuracy: 0.9509\n",
            "Epoch 35: val_loss did not improve from 0.51442\n",
            "10/10 [==============================] - 81s 8s/step - loss: 0.1453 - accuracy: 0.9509 - val_loss: 1.4557 - val_accuracy: 0.6384\n",
            "Epoch 36/60\n",
            "10/10 [==============================] - ETA: 0s - loss: 0.0433 - accuracy: 0.9866\n",
            "Epoch 36: val_loss did not improve from 0.51442\n",
            "10/10 [==============================] - 81s 8s/step - loss: 0.0433 - accuracy: 0.9866 - val_loss: 1.0000 - val_accuracy: 0.6875\n",
            "Epoch 37/60\n",
            "10/10 [==============================] - ETA: 0s - loss: 0.1200 - accuracy: 0.9777\n",
            "Epoch 37: val_loss did not improve from 0.51442\n",
            "10/10 [==============================] - 88s 9s/step - loss: 0.1200 - accuracy: 0.9777 - val_loss: 0.9614 - val_accuracy: 0.7054\n",
            "Epoch 38/60\n",
            "10/10 [==============================] - ETA: 0s - loss: 0.1182 - accuracy: 0.9598\n",
            "Epoch 38: val_loss did not improve from 0.51442\n",
            "10/10 [==============================] - 81s 8s/step - loss: 0.1182 - accuracy: 0.9598 - val_loss: 1.4993 - val_accuracy: 0.6562\n",
            "Epoch 39/60\n",
            "10/10 [==============================] - ETA: 0s - loss: 0.2193 - accuracy: 0.9241\n",
            "Epoch 39: val_loss did not improve from 0.51442\n",
            "10/10 [==============================] - 81s 8s/step - loss: 0.2193 - accuracy: 0.9241 - val_loss: 0.5722 - val_accuracy: 0.7946\n",
            "Epoch 40/60\n",
            "10/10 [==============================] - ETA: 0s - loss: 0.1408 - accuracy: 0.9554\n",
            "Epoch 40: val_loss did not improve from 0.51442\n",
            "10/10 [==============================] - 81s 8s/step - loss: 0.1408 - accuracy: 0.9554 - val_loss: 0.9538 - val_accuracy: 0.6920\n",
            "Epoch 41/60\n",
            "10/10 [==============================] - ETA: 0s - loss: 0.0875 - accuracy: 0.9643\n",
            "Epoch 41: val_loss did not improve from 0.51442\n",
            "10/10 [==============================] - 80s 8s/step - loss: 0.0875 - accuracy: 0.9643 - val_loss: 0.8665 - val_accuracy: 0.6830\n",
            "Epoch 42/60\n",
            "10/10 [==============================] - ETA: 0s - loss: 0.1349 - accuracy: 0.9464\n",
            "Epoch 42: val_loss did not improve from 0.51442\n",
            "10/10 [==============================] - 71s 7s/step - loss: 0.1349 - accuracy: 0.9464 - val_loss: 0.8304 - val_accuracy: 0.7009\n",
            "Epoch 43/60\n",
            "10/10 [==============================] - ETA: 0s - loss: 0.1172 - accuracy: 0.9420\n",
            "Epoch 43: val_loss did not improve from 0.51442\n",
            "10/10 [==============================] - 82s 9s/step - loss: 0.1172 - accuracy: 0.9420 - val_loss: 1.1077 - val_accuracy: 0.6607\n",
            "Epoch 44/60\n",
            "10/10 [==============================] - ETA: 0s - loss: 0.1020 - accuracy: 0.9464\n",
            "Epoch 44: val_loss did not improve from 0.51442\n",
            "10/10 [==============================] - 81s 8s/step - loss: 0.1020 - accuracy: 0.9464 - val_loss: 1.0526 - val_accuracy: 0.6830\n",
            "Epoch 45/60\n",
            "10/10 [==============================] - ETA: 0s - loss: 0.0756 - accuracy: 0.9777\n",
            "Epoch 45: val_loss did not improve from 0.51442\n",
            "10/10 [==============================] - 81s 8s/step - loss: 0.0756 - accuracy: 0.9777 - val_loss: 1.3336 - val_accuracy: 0.6473\n",
            "Epoch 46/60\n",
            "10/10 [==============================] - ETA: 0s - loss: 0.0790 - accuracy: 0.9821\n",
            "Epoch 46: val_loss did not improve from 0.51442\n",
            "10/10 [==============================] - 82s 8s/step - loss: 0.0790 - accuracy: 0.9821 - val_loss: 1.2245 - val_accuracy: 0.6518\n",
            "Epoch 47/60\n",
            "10/10 [==============================] - ETA: 0s - loss: 0.1467 - accuracy: 0.9688\n",
            "Epoch 47: val_loss did not improve from 0.51442\n",
            "10/10 [==============================] - 80s 8s/step - loss: 0.1467 - accuracy: 0.9688 - val_loss: 1.0223 - val_accuracy: 0.6607\n",
            "Epoch 48/60\n",
            "10/10 [==============================] - ETA: 0s - loss: 0.0979 - accuracy: 0.9688\n",
            "Epoch 48: val_loss did not improve from 0.51442\n",
            "10/10 [==============================] - 80s 8s/step - loss: 0.0979 - accuracy: 0.9688 - val_loss: 0.7253 - val_accuracy: 0.7009\n",
            "Epoch 49/60\n",
            "10/10 [==============================] - ETA: 0s - loss: 0.0774 - accuracy: 0.9777\n",
            "Epoch 49: val_loss did not improve from 0.51442\n",
            "10/10 [==============================] - 79s 8s/step - loss: 0.0774 - accuracy: 0.9777 - val_loss: 0.6269 - val_accuracy: 0.7321\n",
            "Epoch 50/60\n",
            "10/10 [==============================] - ETA: 0s - loss: 0.1140 - accuracy: 0.9688\n",
            "Epoch 50: val_loss did not improve from 0.51442\n",
            "10/10 [==============================] - 80s 8s/step - loss: 0.1140 - accuracy: 0.9688 - val_loss: 0.9149 - val_accuracy: 0.6830\n",
            "Epoch 51/60\n",
            "10/10 [==============================] - ETA: 0s - loss: 0.1144 - accuracy: 0.9598\n",
            "Epoch 51: val_loss did not improve from 0.51442\n",
            "10/10 [==============================] - 73s 7s/step - loss: 0.1144 - accuracy: 0.9598 - val_loss: 0.7058 - val_accuracy: 0.7143\n",
            "Epoch 52/60\n",
            "10/10 [==============================] - ETA: 0s - loss: 0.0810 - accuracy: 0.9643\n",
            "Epoch 52: val_loss did not improve from 0.51442\n",
            "10/10 [==============================] - 80s 8s/step - loss: 0.0810 - accuracy: 0.9643 - val_loss: 0.9752 - val_accuracy: 0.6830\n",
            "Epoch 53/60\n",
            "10/10 [==============================] - ETA: 0s - loss: 0.0751 - accuracy: 0.9688\n",
            "Epoch 53: val_loss did not improve from 0.51442\n",
            "10/10 [==============================] - 80s 8s/step - loss: 0.0751 - accuracy: 0.9688 - val_loss: 0.9170 - val_accuracy: 0.6920\n",
            "Epoch 54/60\n",
            "10/10 [==============================] - ETA: 0s - loss: 0.0833 - accuracy: 0.9643\n",
            "Epoch 54: val_loss did not improve from 0.51442\n",
            "10/10 [==============================] - 81s 8s/step - loss: 0.0833 - accuracy: 0.9643 - val_loss: 0.7317 - val_accuracy: 0.7277\n",
            "Epoch 55/60\n",
            "10/10 [==============================] - ETA: 0s - loss: 0.0653 - accuracy: 0.9866\n",
            "Epoch 55: val_loss did not improve from 0.51442\n",
            "10/10 [==============================] - 81s 9s/step - loss: 0.0653 - accuracy: 0.9866 - val_loss: 0.8730 - val_accuracy: 0.6830\n",
            "Epoch 56/60\n",
            "10/10 [==============================] - ETA: 0s - loss: 0.0911 - accuracy: 0.9732\n",
            "Epoch 56: val_loss did not improve from 0.51442\n",
            "10/10 [==============================] - 81s 8s/step - loss: 0.0911 - accuracy: 0.9732 - val_loss: 0.9856 - val_accuracy: 0.6786\n",
            "Epoch 57/60\n",
            "10/10 [==============================] - ETA: 0s - loss: 0.0558 - accuracy: 0.9821\n",
            "Epoch 57: val_loss did not improve from 0.51442\n",
            "10/10 [==============================] - 69s 7s/step - loss: 0.0558 - accuracy: 0.9821 - val_loss: 1.2270 - val_accuracy: 0.6473\n",
            "Epoch 58/60\n",
            "10/10 [==============================] - ETA: 0s - loss: 0.0349 - accuracy: 0.9866\n",
            "Epoch 58: val_loss did not improve from 0.51442\n",
            "10/10 [==============================] - 81s 8s/step - loss: 0.0349 - accuracy: 0.9866 - val_loss: 1.1683 - val_accuracy: 0.6562\n",
            "Epoch 59/60\n",
            "10/10 [==============================] - ETA: 0s - loss: 0.0677 - accuracy: 0.9732\n",
            "Epoch 59: val_loss did not improve from 0.51442\n",
            "10/10 [==============================] - 80s 9s/step - loss: 0.0677 - accuracy: 0.9732 - val_loss: 1.1811 - val_accuracy: 0.6652\n",
            "Epoch 60/60\n",
            "10/10 [==============================] - ETA: 0s - loss: 0.0556 - accuracy: 0.9777\n",
            "Epoch 60: val_loss did not improve from 0.51442\n",
            "10/10 [==============================] - 81s 8s/step - loss: 0.0556 - accuracy: 0.9777 - val_loss: 0.9236 - val_accuracy: 0.6920\n"
          ]
        }
      ]
    },
    {
      "cell_type": "markdown",
      "source": [
        "Al parecer en la gráfica, el valor de la función de costo de la validación se mantiene rondando el valor 0.6"
      ],
      "metadata": {
        "id": "S2EdnRX6wxCo"
      }
    },
    {
      "cell_type": "code",
      "source": [
        "plt.plot(historial.history['loss'])\n",
        "plt.plot(historial.history['val_loss'])\n",
        "plt.title('Progreso de entrenamiento: función de costo vs epoca')\n",
        "plt.xlabel('Epocas')\n",
        "plt.ylabel('Valor de la función de costo')\n",
        "plt.legend(['Loss','Val_loss'])"
      ],
      "metadata": {
        "colab": {
          "base_uri": "https://localhost:8080/",
          "height": 489
        },
        "id": "7cMPbCDJNpVE",
        "outputId": "fc72892f-7b37-4a15-d501-96cbfad8c596"
      },
      "execution_count": 48,
      "outputs": [
        {
          "output_type": "execute_result",
          "data": {
            "text/plain": [
              "<matplotlib.legend.Legend at 0x7b1a2016f8b0>"
            ]
          },
          "metadata": {},
          "execution_count": 48
        },
        {
          "output_type": "display_data",
          "data": {
            "text/plain": [
              "<Figure size 640x480 with 1 Axes>"
            ],
            "image/png": "[encoded data removed]"
          },
          "metadata": {}
        }
      ]
    },
    {
      "cell_type": "markdown",
      "source": [
        "Probamos que funcione la red"
      ],
      "metadata": {
        "id": "E726rivoxQ5Y"
      }
    },
    {
      "cell_type": "code",
      "source": [
        "from tensorflow.keras.preprocessing import image\n",
        "from tensorflow.keras.applications.resnet50 import preprocess_input\n",
        "from PIL import Image\n",
        "\n",
        "a=Image.open('/content/drive/MyDrive/Datasets/Caras/Test/Celab_ts/202347.jpg').resize((180,180))\n",
        "a=image.img_to_array(a)\n",
        "a=preprocess_input(a.reshape(1,180,180,3))\n",
        "a=modelcar2.predict(a)\n",
        "#respuestas=[round(x) for x in a]\n",
        "respuestas=a\n",
        "print(respuestas)"
      ],
      "metadata": {
        "colab": {
          "base_uri": "https://localhost:8080/"
        },
        "id": "XfWIbIJ4St2z",
        "outputId": "a923947d-7d73-4d0c-c083-7b202015e342"
      },
      "execution_count": 64,
      "outputs": [
        {
          "output_type": "stream",
          "name": "stdout",
          "text": [
            "1/1 [==============================] - 0s 156ms/step\n",
            "[[0.]]\n"
          ]
        }
      ]
    },
    {
      "cell_type": "markdown",
      "source": [],
      "metadata": {
        "id": "3NQKb3KptNjB"
      }
    }
  ]
}