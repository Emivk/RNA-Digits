{
  "nbformat": 4,
  "nbformat_minor": 0,
  "metadata": {
    "colab": {
      "provenance": [],
      "include_colab_link": true
    },
    "kernelspec": {
      "name": "python3",
      "display_name": "Python 3"
    },
    "language_info": {
      "name": "python"
    }
  },
  "cells": [
    {
      "cell_type": "markdown",
      "metadata": {
        "id": "view-in-github",
        "colab_type": "text"
      },
      "source": [
        "<a href=\"https://colab.research.google.com/github/Emivk/RNA-Digits/blob/master/RNAdigit_tf_comet_an%C3%A1lisisAL1L2DP.ipynb\" target=\"_parent\"><img src=\"https://colab.research.google.com/assets/colab-badge.svg\" alt=\"Open In Colab\"/></a>"
      ]
    },
    {
      "cell_type": "code",
      "execution_count": 1,
      "metadata": {
        "colab": {
          "base_uri": "https://localhost:8080/"
        },
        "id": "L_Zg2IxMAiPk",
        "outputId": "3a931711-23f2-46e4-acc6-6072411b728b"
      },
      "outputs": [
        {
          "output_type": "stream",
          "name": "stdout",
          "text": [
            "Requirement already satisfied: comet_ml in /usr/local/lib/python3.10/dist-packages (3.33.10)\n",
            "Requirement already satisfied: jsonschema!=3.1.0,>=2.6.0 in /usr/local/lib/python3.10/dist-packages (from comet_ml) (4.19.0)\n",
            "Requirement already satisfied: psutil>=5.6.3 in /usr/local/lib/python3.10/dist-packages (from comet_ml) (5.9.5)\n",
            "Requirement already satisfied: python-box<7.0.0 in /usr/local/lib/python3.10/dist-packages (from comet_ml) (6.1.0)\n",
            "Requirement already satisfied: requests-toolbelt>=0.8.0 in /usr/local/lib/python3.10/dist-packages (from comet_ml) (1.0.0)\n",
            "Requirement already satisfied: requests>=2.18.4 in /usr/local/lib/python3.10/dist-packages (from comet_ml) (2.31.0)\n",
            "Requirement already satisfied: semantic-version>=2.8.0 in /usr/local/lib/python3.10/dist-packages (from comet_ml) (2.10.0)\n",
            "Requirement already satisfied: sentry-sdk>=1.1.0 in /usr/local/lib/python3.10/dist-packages (from comet_ml) (1.31.0)\n",
            "Requirement already satisfied: simplejson in /usr/local/lib/python3.10/dist-packages (from comet_ml) (3.19.1)\n",
            "Requirement already satisfied: six in /usr/local/lib/python3.10/dist-packages (from comet_ml) (1.16.0)\n",
            "Requirement already satisfied: urllib3>=1.21.1 in /usr/local/lib/python3.10/dist-packages (from comet_ml) (2.0.4)\n",
            "Requirement already satisfied: websocket-client<1.4.0,>=0.55.0 in /usr/local/lib/python3.10/dist-packages (from comet_ml) (1.3.3)\n",
            "Requirement already satisfied: wrapt>=1.11.2 in /usr/local/lib/python3.10/dist-packages (from comet_ml) (1.15.0)\n",
            "Requirement already satisfied: wurlitzer>=1.0.2 in /usr/local/lib/python3.10/dist-packages (from comet_ml) (3.0.3)\n",
            "Requirement already satisfied: everett[ini]<3.2.0,>=1.0.1 in /usr/local/lib/python3.10/dist-packages (from comet_ml) (3.1.0)\n",
            "Requirement already satisfied: dulwich!=0.20.33,>=0.20.6 in /usr/local/lib/python3.10/dist-packages (from comet_ml) (0.21.6)\n",
            "Requirement already satisfied: rich>=13.3.2 in /usr/local/lib/python3.10/dist-packages (from comet_ml) (13.5.2)\n",
            "Requirement already satisfied: configobj in /usr/local/lib/python3.10/dist-packages (from everett[ini]<3.2.0,>=1.0.1->comet_ml) (5.0.8)\n",
            "Requirement already satisfied: attrs>=22.2.0 in /usr/local/lib/python3.10/dist-packages (from jsonschema!=3.1.0,>=2.6.0->comet_ml) (23.1.0)\n",
            "Requirement already satisfied: jsonschema-specifications>=2023.03.6 in /usr/local/lib/python3.10/dist-packages (from jsonschema!=3.1.0,>=2.6.0->comet_ml) (2023.7.1)\n",
            "Requirement already satisfied: referencing>=0.28.4 in /usr/local/lib/python3.10/dist-packages (from jsonschema!=3.1.0,>=2.6.0->comet_ml) (0.30.2)\n",
            "Requirement already satisfied: rpds-py>=0.7.1 in /usr/local/lib/python3.10/dist-packages (from jsonschema!=3.1.0,>=2.6.0->comet_ml) (0.10.2)\n",
            "Requirement already satisfied: charset-normalizer<4,>=2 in /usr/local/lib/python3.10/dist-packages (from requests>=2.18.4->comet_ml) (3.2.0)\n",
            "Requirement already satisfied: idna<4,>=2.5 in /usr/local/lib/python3.10/dist-packages (from requests>=2.18.4->comet_ml) (3.4)\n",
            "Requirement already satisfied: certifi>=2017.4.17 in /usr/local/lib/python3.10/dist-packages (from requests>=2.18.4->comet_ml) (2023.7.22)\n",
            "Requirement already satisfied: markdown-it-py>=2.2.0 in /usr/local/lib/python3.10/dist-packages (from rich>=13.3.2->comet_ml) (3.0.0)\n",
            "Requirement already satisfied: pygments<3.0.0,>=2.13.0 in /usr/local/lib/python3.10/dist-packages (from rich>=13.3.2->comet_ml) (2.16.1)\n",
            "Requirement already satisfied: mdurl~=0.1 in /usr/local/lib/python3.10/dist-packages (from markdown-it-py>=2.2.0->rich>=13.3.2->comet_ml) (0.1.2)\n"
          ]
        }
      ],
      "source": [
        "%pip install comet_ml"
      ]
    },
    {
      "cell_type": "code",
      "source": [
        "import comet_ml\n",
        "comet_ml.init(project_name=\"rnadigits\")"
      ],
      "metadata": {
        "id": "g6hZpUiPAtrC"
      },
      "execution_count": 13,
      "outputs": []
    },
    {
      "cell_type": "code",
      "source": [
        "import tensorflow as tf\n",
        "from tensorflow import keras\n",
        "from tensorflow.keras.datasets import mnist\n",
        "from tensorflow.keras.models import Sequential\n",
        "from tensorflow.keras.layers import Dense, Dropout, Activation, Flatten, Input\n",
        "from tensorflow.keras.optimizers import RMSprop, SGD, Adam\n",
        "from tensorflow.keras import regularizers\n",
        "from keras.callbacks import ModelCheckpoint"
      ],
      "metadata": {
        "id": "czgl5_6tA7Pe"
      },
      "execution_count": 14,
      "outputs": []
    },
    {
      "cell_type": "code",
      "source": [
        "experiment = comet_ml.Experiment(\n",
        "    auto_histogram_weight_logging=True,\n",
        "    auto_histogram_gradient_logging=True,\n",
        "    auto_histogram_activation_logging=True,\n",
        "    log_code=True,\n",
        ")"
      ],
      "metadata": {
        "colab": {
          "base_uri": "https://localhost:8080/"
        },
        "id": "j__tspO4BGYR",
        "outputId": "f6f89b89-6220-4a16-84ed-6232f520513c"
      },
      "execution_count": 53,
      "outputs": [
        {
          "output_type": "stream",
          "name": "stderr",
          "text": [
            "\u001b[1;38;5;214mCOMET WARNING:\u001b[0m As you are running in a Jupyter environment, you will need to call `experiment.end()` when finished to ensure all metrics and code are logged before exiting.\n",
            "\u001b[1;38;5;39mCOMET INFO:\u001b[0m Couldn't find a Git repository in '/content' nor in any parent directory. Set `COMET_GIT_DIRECTORY` if your Git Repository is elsewhere.\n",
            "\u001b[1;38;5;39mCOMET INFO:\u001b[0m Experiment is live on comet.com https://www.comet.com/emivk/rnadigits/2faa480a24fb409290e3fb4e53462221\n",
            "\n"
          ]
        }
      ]
    },
    {
      "cell_type": "code",
      "source": [
        "dataset=mnist.load_data()\n",
        "(x_train, y_train), (x_test, y_test) = dataset\n",
        "\n",
        "x_train = x_train.astype('float32')\n",
        "x_test = x_test.astype('float32')\n",
        "\n",
        "x_train /= 255  # x_trainv = x_trainv/255\n",
        "x_test /= 255\n",
        "\n",
        "num_classes=10\n",
        "y_trainc = keras.utils.to_categorical(y_train, num_classes)\n",
        "y_testc = keras.utils.to_categorical(y_test, num_classes)"
      ],
      "metadata": {
        "id": "qJNeAdHbBUM-"
      },
      "execution_count": 54,
      "outputs": []
    },
    {
      "cell_type": "code",
      "source": [
        "parameters = {\n",
        "    \"batch_size\": 60,\n",
        "    \"epochs\": 50,\n",
        "    \"optimizer\": \"Adam\",\n",
        "    \"loss\": \"categorical_crossentropy\",\n",
        "}\n",
        "\n",
        "experiment.log_parameters(parameters)"
      ],
      "metadata": {
        "id": "zbiaW1VkBHH6"
      },
      "execution_count": 55,
      "outputs": []
    },
    {
      "cell_type": "code",
      "source": [
        "model = Sequential()\n",
        "model.add(Input(shape=(28,28))) #Flaten no tiene la opcion input_shape por lo tanto se tiene que agregar esta capa\n",
        "model.add(Flatten()) #Otra forma de aplanar las imagenes\n",
        "model.add(Dense(200, activation='relu', kernel_regularizer=regularizers.L1L2(l1=1e-5, l2=1e-4)))\n",
        "model.add(Dropout(0.2))\n",
        "model.add(Dense(100, activation='relu', kernel_regularizer=regularizers.L1L2(l1=1e-5, l2=1e-4)))\n",
        "model.add(Dropout(0.1))\n",
        "\n",
        "#model.add(Dense(400, activation='relu', kernel_regularizer=regularizers.L1L2(l1=1e-5, l2=1e-4))) #Regularizacion L1L2\n",
        "#model.add(Dropout(0.2)) #Fraccion de enlaces a eliminar\n",
        "#model.add(Dense(200)) #Capa lineal , transformacion lineal sin funcion de activacion\n",
        "#model.add(Activation('tanh')) #Se puede agregar despues la funcion de activacion\n",
        "#model.add(Dense(400, activation='selu', kernel_regularizer=regularizers.L1(0.01) )) #Regularizacion L1\n",
        "#model.add(Dense(200, activation='elu', kernel_regularizer=regularizers.L2(l2=1e-4)) ) #Regularizacion L2\n",
        "#model.add(Dense(50,activation='exponential'))\n",
        "model.add(Dense(10, activation='softmax'))\n",
        "\n",
        "model.summary()"
      ],
      "metadata": {
        "colab": {
          "base_uri": "https://localhost:8080/"
        },
        "id": "GUl8whP1BOdy",
        "outputId": "5b2ff35a-a118-484f-cf22-baefa5beab5b"
      },
      "execution_count": 56,
      "outputs": [
        {
          "output_type": "stream",
          "name": "stdout",
          "text": [
            "Model: \"sequential_7\"\n",
            "_________________________________________________________________\n",
            " Layer (type)                Output Shape              Param #   \n",
            "=================================================================\n",
            " flatten_7 (Flatten)         (None, 784)               0         \n",
            "                                                                 \n",
            " dense_22 (Dense)            (None, 200)               157000    \n",
            "                                                                 \n",
            " dropout (Dropout)           (None, 200)               0         \n",
            "                                                                 \n",
            " dense_23 (Dense)            (None, 100)               20100     \n",
            "                                                                 \n",
            " dropout_1 (Dropout)         (None, 100)               0         \n",
            "                                                                 \n",
            " dense_24 (Dense)            (None, 10)                1010      \n",
            "                                                                 \n",
            "=================================================================\n",
            "Total params: 178110 (695.74 KB)\n",
            "Trainable params: 178110 (695.74 KB)\n",
            "Non-trainable params: 0 (0.00 Byte)\n",
            "_________________________________________________________________\n"
          ]
        }
      ]
    },
    {
      "cell_type": "code",
      "source": [
        "# specify the path where you want to save the model\n",
        "filepath = \"mejor-modeloAL1L2DP.hdf5\"\n",
        "\n",
        "# initialize the ModelCheckpoint callback\n",
        "checkpoint = ModelCheckpoint(filepath, monitor='val_loss', verbose=1, save_best_only=True, mode='min')"
      ],
      "metadata": {
        "id": "yickXqeNHaGo"
      },
      "execution_count": 57,
      "outputs": []
    },
    {
      "cell_type": "code",
      "source": [
        "model.compile(loss=parameters['loss'],optimizer=parameters['optimizer'],metrics=['accuracy'])\n",
        "model.fit(x_train, y_trainc,\n",
        "                    batch_size=parameters['batch_size'],\n",
        "                    epochs=parameters[\"epochs\"],\n",
        "                    verbose=1,\n",
        "                    validation_data=(x_test, y_testc),\n",
        "                    callbacks=[checkpoint])"
      ],
      "metadata": {
        "colab": {
          "base_uri": "https://localhost:8080/"
        },
        "id": "RipmZnRwEznJ",
        "outputId": "0b73e695-a043-47f8-9233-0b00adafd68a"
      },
      "execution_count": 58,
      "outputs": [
        {
          "output_type": "stream",
          "name": "stdout",
          "text": [
            "Epoch 1/50\n",
            " 995/1000 [============================>.] - ETA: 0s - loss: 0.3799 - accuracy: 0.9142\n",
            "Epoch 1: val_loss improved from inf to 0.21920, saving model to mejor-modeloAL1L2DP.hdf5\n",
            "1000/1000 [==============================] - 11s 9ms/step - loss: 0.3794 - accuracy: 0.9143 - val_loss: 0.2192 - val_accuracy: 0.9605\n",
            "Epoch 2/50\n",
            " 996/1000 [============================>.] - ETA: 0s - loss: 0.2242 - accuracy: 0.9591\n",
            "Epoch 2: val_loss improved from 0.21920 to 0.18399, saving model to mejor-modeloAL1L2DP.hdf5\n",
            "1000/1000 [==============================] - 8s 8ms/step - loss: 0.2241 - accuracy: 0.9591 - val_loss: 0.1840 - val_accuracy: 0.9679\n",
            "Epoch 3/50\n",
            " 997/1000 [============================>.] - ETA: 0s - loss: 0.1980 - accuracy: 0.9671\n",
            "Epoch 3: val_loss improved from 0.18399 to 0.17369, saving model to mejor-modeloAL1L2DP.hdf5\n",
            "1000/1000 [==============================] - 7s 7ms/step - loss: 0.1979 - accuracy: 0.9671 - val_loss: 0.1737 - val_accuracy: 0.9729\n",
            "Epoch 4/50\n",
            " 999/1000 [============================>.] - ETA: 0s - loss: 0.1820 - accuracy: 0.9707\n",
            "Epoch 4: val_loss improved from 0.17369 to 0.16440, saving model to mejor-modeloAL1L2DP.hdf5\n",
            "1000/1000 [==============================] - 8s 8ms/step - loss: 0.1820 - accuracy: 0.9707 - val_loss: 0.1644 - val_accuracy: 0.9757\n",
            "Epoch 5/50\n",
            " 998/1000 [============================>.] - ETA: 0s - loss: 0.1693 - accuracy: 0.9747\n",
            "Epoch 5: val_loss did not improve from 0.16440\n",
            "1000/1000 [==============================] - 7s 7ms/step - loss: 0.1693 - accuracy: 0.9747 - val_loss: 0.1806 - val_accuracy: 0.9715\n",
            "Epoch 6/50\n",
            " 994/1000 [============================>.] - ETA: 0s - loss: 0.1661 - accuracy: 0.9742\n",
            "Epoch 6: val_loss improved from 0.16440 to 0.15859, saving model to mejor-modeloAL1L2DP.hdf5\n",
            "1000/1000 [==============================] - 9s 9ms/step - loss: 0.1659 - accuracy: 0.9743 - val_loss: 0.1586 - val_accuracy: 0.9772\n",
            "Epoch 7/50\n",
            " 994/1000 [============================>.] - ETA: 0s - loss: 0.1575 - accuracy: 0.9777\n",
            "Epoch 7: val_loss improved from 0.15859 to 0.15025, saving model to mejor-modeloAL1L2DP.hdf5\n",
            "1000/1000 [==============================] - 7s 7ms/step - loss: 0.1576 - accuracy: 0.9777 - val_loss: 0.1503 - val_accuracy: 0.9807\n",
            "Epoch 8/50\n",
            " 996/1000 [============================>.] - ETA: 0s - loss: 0.1552 - accuracy: 0.9777\n",
            "Epoch 8: val_loss did not improve from 0.15025\n",
            "1000/1000 [==============================] - 9s 9ms/step - loss: 0.1552 - accuracy: 0.9777 - val_loss: 0.1606 - val_accuracy: 0.9776\n",
            "Epoch 9/50\n",
            "1000/1000 [==============================] - ETA: 0s - loss: 0.1521 - accuracy: 0.9789\n",
            "Epoch 9: val_loss did not improve from 0.15025\n",
            "1000/1000 [==============================] - 9s 9ms/step - loss: 0.1521 - accuracy: 0.9789 - val_loss: 0.1517 - val_accuracy: 0.9797\n",
            "Epoch 10/50\n",
            " 995/1000 [============================>.] - ETA: 0s - loss: 0.1487 - accuracy: 0.9792\n",
            "Epoch 10: val_loss improved from 0.15025 to 0.14394, saving model to mejor-modeloAL1L2DP.hdf5\n",
            "1000/1000 [==============================] - 7s 7ms/step - loss: 0.1488 - accuracy: 0.9791 - val_loss: 0.1439 - val_accuracy: 0.9813\n",
            "Epoch 11/50\n",
            " 995/1000 [============================>.] - ETA: 0s - loss: 0.1457 - accuracy: 0.9801\n",
            "Epoch 11: val_loss did not improve from 0.14394\n",
            "1000/1000 [==============================] - 9s 9ms/step - loss: 0.1457 - accuracy: 0.9800 - val_loss: 0.1465 - val_accuracy: 0.9813\n",
            "Epoch 12/50\n",
            " 994/1000 [============================>.] - ETA: 0s - loss: 0.1463 - accuracy: 0.9803\n",
            "Epoch 12: val_loss did not improve from 0.14394\n",
            "1000/1000 [==============================] - 7s 7ms/step - loss: 0.1462 - accuracy: 0.9804 - val_loss: 0.1517 - val_accuracy: 0.9796\n",
            "Epoch 13/50\n",
            " 995/1000 [============================>.] - ETA: 0s - loss: 0.1435 - accuracy: 0.9809\n",
            "Epoch 13: val_loss did not improve from 0.14394\n",
            "1000/1000 [==============================] - 9s 9ms/step - loss: 0.1435 - accuracy: 0.9808 - val_loss: 0.1516 - val_accuracy: 0.9797\n",
            "Epoch 14/50\n",
            " 997/1000 [============================>.] - ETA: 0s - loss: 0.1406 - accuracy: 0.9821\n",
            "Epoch 14: val_loss improved from 0.14394 to 0.14385, saving model to mejor-modeloAL1L2DP.hdf5\n",
            "1000/1000 [==============================] - 7s 7ms/step - loss: 0.1406 - accuracy: 0.9821 - val_loss: 0.1438 - val_accuracy: 0.9832\n",
            "Epoch 15/50\n",
            " 999/1000 [============================>.] - ETA: 0s - loss: 0.1417 - accuracy: 0.9811\n",
            "Epoch 15: val_loss did not improve from 0.14385\n",
            "1000/1000 [==============================] - 8s 8ms/step - loss: 0.1417 - accuracy: 0.9811 - val_loss: 0.1528 - val_accuracy: 0.9791\n",
            "Epoch 16/50\n",
            " 999/1000 [============================>.] - ETA: 0s - loss: 0.1411 - accuracy: 0.9810\n",
            "Epoch 16: val_loss did not improve from 0.14385\n",
            "1000/1000 [==============================] - 8s 8ms/step - loss: 0.1411 - accuracy: 0.9811 - val_loss: 0.1480 - val_accuracy: 0.9800\n",
            "Epoch 17/50\n",
            " 999/1000 [============================>.] - ETA: 0s - loss: 0.1393 - accuracy: 0.9818\n",
            "Epoch 17: val_loss improved from 0.14385 to 0.14059, saving model to mejor-modeloAL1L2DP.hdf5\n",
            "1000/1000 [==============================] - 7s 7ms/step - loss: 0.1393 - accuracy: 0.9818 - val_loss: 0.1406 - val_accuracy: 0.9817\n",
            "Epoch 18/50\n",
            " 997/1000 [============================>.] - ETA: 0s - loss: 0.1372 - accuracy: 0.9817\n",
            "Epoch 18: val_loss did not improve from 0.14059\n",
            "1000/1000 [==============================] - 9s 9ms/step - loss: 0.1372 - accuracy: 0.9817 - val_loss: 0.1456 - val_accuracy: 0.9802\n",
            "Epoch 19/50\n",
            " 994/1000 [============================>.] - ETA: 0s - loss: 0.1386 - accuracy: 0.9817\n",
            "Epoch 19: val_loss did not improve from 0.14059\n",
            "1000/1000 [==============================] - 7s 7ms/step - loss: 0.1386 - accuracy: 0.9817 - val_loss: 0.1478 - val_accuracy: 0.9799\n",
            "Epoch 20/50\n",
            " 994/1000 [============================>.] - ETA: 0s - loss: 0.1372 - accuracy: 0.9827\n",
            "Epoch 20: val_loss did not improve from 0.14059\n",
            "1000/1000 [==============================] - 9s 9ms/step - loss: 0.1373 - accuracy: 0.9826 - val_loss: 0.1421 - val_accuracy: 0.9816\n",
            "Epoch 21/50\n",
            " 995/1000 [============================>.] - ETA: 0s - loss: 0.1365 - accuracy: 0.9829\n",
            "Epoch 21: val_loss did not improve from 0.14059\n",
            "1000/1000 [==============================] - 7s 7ms/step - loss: 0.1366 - accuracy: 0.9828 - val_loss: 0.1424 - val_accuracy: 0.9819\n",
            "Epoch 22/50\n",
            " 995/1000 [============================>.] - ETA: 0s - loss: 0.1347 - accuracy: 0.9828\n",
            "Epoch 22: val_loss did not improve from 0.14059\n",
            "1000/1000 [==============================] - 9s 9ms/step - loss: 0.1348 - accuracy: 0.9828 - val_loss: 0.1437 - val_accuracy: 0.9812\n",
            "Epoch 23/50\n",
            "1000/1000 [==============================] - ETA: 0s - loss: 0.1370 - accuracy: 0.9822\n",
            "Epoch 23: val_loss improved from 0.14059 to 0.13903, saving model to mejor-modeloAL1L2DP.hdf5\n",
            "1000/1000 [==============================] - 9s 9ms/step - loss: 0.1370 - accuracy: 0.9822 - val_loss: 0.1390 - val_accuracy: 0.9829\n",
            "Epoch 24/50\n",
            " 996/1000 [============================>.] - ETA: 0s - loss: 0.1345 - accuracy: 0.9830\n",
            "Epoch 24: val_loss did not improve from 0.13903\n",
            "1000/1000 [==============================] - 7s 7ms/step - loss: 0.1346 - accuracy: 0.9830 - val_loss: 0.1434 - val_accuracy: 0.9824\n",
            "Epoch 25/50\n",
            " 997/1000 [============================>.] - ETA: 0s - loss: 0.1339 - accuracy: 0.9831\n",
            "Epoch 25: val_loss did not improve from 0.13903\n",
            "1000/1000 [==============================] - 9s 9ms/step - loss: 0.1339 - accuracy: 0.9831 - val_loss: 0.1424 - val_accuracy: 0.9816\n",
            "Epoch 26/50\n",
            " 996/1000 [============================>.] - ETA: 0s - loss: 0.1308 - accuracy: 0.9837\n",
            "Epoch 26: val_loss did not improve from 0.13903\n",
            "1000/1000 [==============================] - 7s 7ms/step - loss: 0.1307 - accuracy: 0.9837 - val_loss: 0.1552 - val_accuracy: 0.9773\n",
            "Epoch 27/50\n",
            " 998/1000 [============================>.] - ETA: 0s - loss: 0.1347 - accuracy: 0.9823\n",
            "Epoch 27: val_loss did not improve from 0.13903\n",
            "1000/1000 [==============================] - 9s 9ms/step - loss: 0.1347 - accuracy: 0.9824 - val_loss: 0.1416 - val_accuracy: 0.9818\n",
            "Epoch 28/50\n",
            " 996/1000 [============================>.] - ETA: 0s - loss: 0.1325 - accuracy: 0.9836\n",
            "Epoch 28: val_loss did not improve from 0.13903\n",
            "1000/1000 [==============================] - 8s 8ms/step - loss: 0.1324 - accuracy: 0.9836 - val_loss: 0.1436 - val_accuracy: 0.9813\n",
            "Epoch 29/50\n",
            " 992/1000 [============================>.] - ETA: 0s - loss: 0.1331 - accuracy: 0.9826\n",
            "Epoch 29: val_loss did not improve from 0.13903\n",
            "1000/1000 [==============================] - 7s 7ms/step - loss: 0.1332 - accuracy: 0.9826 - val_loss: 0.1454 - val_accuracy: 0.9818\n",
            "Epoch 30/50\n",
            " 998/1000 [============================>.] - ETA: 0s - loss: 0.1323 - accuracy: 0.9826\n",
            "Epoch 30: val_loss did not improve from 0.13903\n",
            "1000/1000 [==============================] - 9s 9ms/step - loss: 0.1324 - accuracy: 0.9826 - val_loss: 0.1457 - val_accuracy: 0.9826\n",
            "Epoch 31/50\n",
            " 995/1000 [============================>.] - ETA: 0s - loss: 0.1327 - accuracy: 0.9836\n",
            "Epoch 31: val_loss did not improve from 0.13903\n",
            "1000/1000 [==============================] - 7s 7ms/step - loss: 0.1328 - accuracy: 0.9836 - val_loss: 0.1422 - val_accuracy: 0.9811\n",
            "Epoch 32/50\n",
            " 999/1000 [============================>.] - ETA: 0s - loss: 0.1305 - accuracy: 0.9836\n",
            "Epoch 32: val_loss improved from 0.13903 to 0.13566, saving model to mejor-modeloAL1L2DP.hdf5\n",
            "1000/1000 [==============================] - 9s 9ms/step - loss: 0.1305 - accuracy: 0.9836 - val_loss: 0.1357 - val_accuracy: 0.9821\n",
            "Epoch 33/50\n",
            " 996/1000 [============================>.] - ETA: 0s - loss: 0.1322 - accuracy: 0.9829\n",
            "Epoch 33: val_loss did not improve from 0.13566\n",
            "1000/1000 [==============================] - 7s 7ms/step - loss: 0.1322 - accuracy: 0.9829 - val_loss: 0.1388 - val_accuracy: 0.9817\n",
            "Epoch 34/50\n",
            "1000/1000 [==============================] - ETA: 0s - loss: 0.1303 - accuracy: 0.9838\n",
            "Epoch 34: val_loss did not improve from 0.13566\n",
            "1000/1000 [==============================] - 9s 9ms/step - loss: 0.1303 - accuracy: 0.9838 - val_loss: 0.1377 - val_accuracy: 0.9822\n",
            "Epoch 35/50\n",
            " 997/1000 [============================>.] - ETA: 0s - loss: 0.1309 - accuracy: 0.9835\n",
            "Epoch 35: val_loss did not improve from 0.13566\n",
            "1000/1000 [==============================] - 8s 8ms/step - loss: 0.1309 - accuracy: 0.9835 - val_loss: 0.1415 - val_accuracy: 0.9837\n",
            "Epoch 36/50\n",
            " 995/1000 [============================>.] - ETA: 0s - loss: 0.1304 - accuracy: 0.9831\n",
            "Epoch 36: val_loss did not improve from 0.13566\n",
            "1000/1000 [==============================] - 7s 7ms/step - loss: 0.1306 - accuracy: 0.9831 - val_loss: 0.1362 - val_accuracy: 0.9828\n",
            "Epoch 37/50\n",
            " 997/1000 [============================>.] - ETA: 0s - loss: 0.1320 - accuracy: 0.9835\n",
            "Epoch 37: val_loss did not improve from 0.13566\n",
            "1000/1000 [==============================] - 9s 9ms/step - loss: 0.1320 - accuracy: 0.9835 - val_loss: 0.1418 - val_accuracy: 0.9813\n",
            "Epoch 38/50\n",
            " 993/1000 [============================>.] - ETA: 0s - loss: 0.1301 - accuracy: 0.9835\n",
            "Epoch 38: val_loss did not improve from 0.13566\n",
            "1000/1000 [==============================] - 7s 7ms/step - loss: 0.1301 - accuracy: 0.9835 - val_loss: 0.1432 - val_accuracy: 0.9825\n",
            "Epoch 39/50\n",
            " 993/1000 [============================>.] - ETA: 0s - loss: 0.1304 - accuracy: 0.9833\n",
            "Epoch 39: val_loss did not improve from 0.13566\n",
            "1000/1000 [==============================] - 9s 9ms/step - loss: 0.1302 - accuracy: 0.9834 - val_loss: 0.1458 - val_accuracy: 0.9803\n",
            "Epoch 40/50\n",
            " 997/1000 [============================>.] - ETA: 0s - loss: 0.1294 - accuracy: 0.9833\n",
            "Epoch 40: val_loss did not improve from 0.13566\n",
            "1000/1000 [==============================] - 7s 7ms/step - loss: 0.1294 - accuracy: 0.9833 - val_loss: 0.1373 - val_accuracy: 0.9830\n",
            "Epoch 41/50\n",
            " 997/1000 [============================>.] - ETA: 0s - loss: 0.1298 - accuracy: 0.9835\n",
            "Epoch 41: val_loss improved from 0.13566 to 0.13277, saving model to mejor-modeloAL1L2DP.hdf5\n",
            "1000/1000 [==============================] - 9s 9ms/step - loss: 0.1299 - accuracy: 0.9835 - val_loss: 0.1328 - val_accuracy: 0.9857\n",
            "Epoch 42/50\n",
            " 997/1000 [============================>.] - ETA: 0s - loss: 0.1295 - accuracy: 0.9838\n",
            "Epoch 42: val_loss did not improve from 0.13277\n",
            "1000/1000 [==============================] - 8s 8ms/step - loss: 0.1295 - accuracy: 0.9838 - val_loss: 0.1451 - val_accuracy: 0.9794\n",
            "Epoch 43/50\n",
            " 998/1000 [============================>.] - ETA: 0s - loss: 0.1292 - accuracy: 0.9837\n",
            "Epoch 43: val_loss improved from 0.13277 to 0.13251, saving model to mejor-modeloAL1L2DP.hdf5\n",
            "1000/1000 [==============================] - 7s 7ms/step - loss: 0.1292 - accuracy: 0.9837 - val_loss: 0.1325 - val_accuracy: 0.9838\n",
            "Epoch 44/50\n",
            " 993/1000 [============================>.] - ETA: 0s - loss: 0.1278 - accuracy: 0.9842\n",
            "Epoch 44: val_loss did not improve from 0.13251\n",
            "1000/1000 [==============================] - 9s 9ms/step - loss: 0.1277 - accuracy: 0.9843 - val_loss: 0.1346 - val_accuracy: 0.9831\n",
            "Epoch 45/50\n",
            " 997/1000 [============================>.] - ETA: 0s - loss: 0.1311 - accuracy: 0.9830\n",
            "Epoch 45: val_loss did not improve from 0.13251\n",
            "1000/1000 [==============================] - 7s 7ms/step - loss: 0.1311 - accuracy: 0.9830 - val_loss: 0.1379 - val_accuracy: 0.9834\n",
            "Epoch 46/50\n",
            " 993/1000 [============================>.] - ETA: 0s - loss: 0.1262 - accuracy: 0.9848\n",
            "Epoch 46: val_loss did not improve from 0.13251\n",
            "1000/1000 [==============================] - 9s 9ms/step - loss: 0.1265 - accuracy: 0.9847 - val_loss: 0.1467 - val_accuracy: 0.9799\n",
            "Epoch 47/50\n",
            " 993/1000 [============================>.] - ETA: 0s - loss: 0.1293 - accuracy: 0.9836\n",
            "Epoch 47: val_loss did not improve from 0.13251\n",
            "1000/1000 [==============================] - 7s 7ms/step - loss: 0.1296 - accuracy: 0.9835 - val_loss: 0.1386 - val_accuracy: 0.9832\n",
            "Epoch 48/50\n",
            " 996/1000 [============================>.] - ETA: 0s - loss: 0.1289 - accuracy: 0.9840\n",
            "Epoch 48: val_loss did not improve from 0.13251\n",
            "1000/1000 [==============================] - 9s 9ms/step - loss: 0.1289 - accuracy: 0.9840 - val_loss: 0.1354 - val_accuracy: 0.9848\n",
            "Epoch 49/50\n",
            " 996/1000 [============================>.] - ETA: 0s - loss: 0.1277 - accuracy: 0.9839\n",
            "Epoch 49: val_loss did not improve from 0.13251\n",
            "1000/1000 [==============================] - 9s 9ms/step - loss: 0.1277 - accuracy: 0.9838 - val_loss: 0.1440 - val_accuracy: 0.9827\n",
            "Epoch 50/50\n",
            "1000/1000 [==============================] - ETA: 0s - loss: 0.1280 - accuracy: 0.9841\n",
            "Epoch 50: val_loss did not improve from 0.13251\n",
            "1000/1000 [==============================] - 7s 7ms/step - loss: 0.1280 - accuracy: 0.9841 - val_loss: 0.1335 - val_accuracy: 0.9834\n"
          ]
        },
        {
          "output_type": "execute_result",
          "data": {
            "text/plain": [
              "<keras.src.callbacks.History at 0x78c213e6b340>"
            ]
          },
          "metadata": {},
          "execution_count": 58
        }
      ]
    },
    {
      "cell_type": "code",
      "source": [
        "experiment.log_model(\"MNIST1\", \"mejor-modeloAL1L2DP.hdf5\")"
      ],
      "metadata": {
        "id": "-onR7D9SK9FN",
        "colab": {
          "base_uri": "https://localhost:8080/"
        },
        "outputId": "ab2ed158-605e-43ac-9554-dc3376688f02"
      },
      "execution_count": 59,
      "outputs": [
        {
          "output_type": "execute_result",
          "data": {
            "text/plain": [
              "{'web': 'https://www.comet.com/api/asset/download?assetId=f5e8ae161c1f41968372ad72eae1b723&experimentKey=2faa480a24fb409290e3fb4e53462221',\n",
              " 'api': 'https://www.comet.com/api/rest/v2/experiment/asset/get-asset?assetId=f5e8ae161c1f41968372ad72eae1b723&experimentKey=2faa480a24fb409290e3fb4e53462221',\n",
              " 'assetId': 'f5e8ae161c1f41968372ad72eae1b723'}"
            ]
          },
          "metadata": {},
          "execution_count": 59
        }
      ]
    },
    {
      "cell_type": "code",
      "source": [
        "experiment.end()"
      ],
      "metadata": {
        "colab": {
          "base_uri": "https://localhost:8080/"
        },
        "id": "aGoU0WClHoJJ",
        "outputId": "b2e57272-ddf6-4d81-be1d-107025aafaf8"
      },
      "execution_count": 60,
      "outputs": [
        {
          "output_type": "stream",
          "name": "stderr",
          "text": [
            "\u001b[1;38;5;39mCOMET INFO:\u001b[0m ---------------------------------------------------------------------------------------\n",
            "\u001b[1;38;5;39mCOMET INFO:\u001b[0m Comet.ml Experiment Summary\n",
            "\u001b[1;38;5;39mCOMET INFO:\u001b[0m ---------------------------------------------------------------------------------------\n",
            "\u001b[1;38;5;39mCOMET INFO:\u001b[0m   Data:\n",
            "\u001b[1;38;5;39mCOMET INFO:\u001b[0m     display_summary_level : 1\n",
            "\u001b[1;38;5;39mCOMET INFO:\u001b[0m     url                   : https://www.comet.com/emivk/rnadigits/2faa480a24fb409290e3fb4e53462221\n",
            "\u001b[1;38;5;39mCOMET INFO:\u001b[0m   Metrics [count] (min, max):\n",
            "\u001b[1;38;5;39mCOMET INFO:\u001b[0m     accuracy [50]                 : (0.9143499732017517, 0.984666645526886)\n",
            "\u001b[1;38;5;39mCOMET INFO:\u001b[0m     batch_accuracy [5000]         : (0.0833333358168602, 1.0)\n",
            "\u001b[1;38;5;39mCOMET INFO:\u001b[0m     batch_loss [5000]             : (0.08448099344968796, 2.503208875656128)\n",
            "\u001b[1;38;5;39mCOMET INFO:\u001b[0m     epoch_duration [50]           : (6.681111072000931, 10.984652608000033)\n",
            "\u001b[1;38;5;39mCOMET INFO:\u001b[0m     loss [50]                     : (0.1265358030796051, 0.3794383108615875)\n",
            "\u001b[1;38;5;39mCOMET INFO:\u001b[0m     val_accuracy [50]             : (0.9605000019073486, 0.9857000112533569)\n",
            "\u001b[1;38;5;39mCOMET INFO:\u001b[0m     val_loss [50]                 : (0.13251274824142456, 0.2192031294107437)\n",
            "\u001b[1;38;5;39mCOMET INFO:\u001b[0m     validate_batch_accuracy [850] : (0.9455284476280212, 1.0)\n",
            "\u001b[1;38;5;39mCOMET INFO:\u001b[0m     validate_batch_loss [850]     : (0.08132970333099365, 0.2669711410999298)\n",
            "\u001b[1;38;5;39mCOMET INFO:\u001b[0m   Others:\n",
            "\u001b[1;38;5;39mCOMET INFO:\u001b[0m     trainable_params : 178110\n",
            "\u001b[1;38;5;39mCOMET INFO:\u001b[0m   Parameters:\n",
            "\u001b[1;38;5;39mCOMET INFO:\u001b[0m     Adam_amsgrad                 : False\n",
            "\u001b[1;38;5;39mCOMET INFO:\u001b[0m     Adam_beta_1                  : 0.9\n",
            "\u001b[1;38;5;39mCOMET INFO:\u001b[0m     Adam_beta_2                  : 0.999\n",
            "\u001b[1;38;5;39mCOMET INFO:\u001b[0m     Adam_clipnorm                : 1\n",
            "\u001b[1;38;5;39mCOMET INFO:\u001b[0m     Adam_clipvalue               : 1\n",
            "\u001b[1;38;5;39mCOMET INFO:\u001b[0m     Adam_ema_momentum            : 0.99\n",
            "\u001b[1;38;5;39mCOMET INFO:\u001b[0m     Adam_ema_overwrite_frequency : 1\n",
            "\u001b[1;38;5;39mCOMET INFO:\u001b[0m     Adam_epsilon                 : 1e-07\n",
            "\u001b[1;38;5;39mCOMET INFO:\u001b[0m     Adam_global_clipnorm         : 1\n",
            "\u001b[1;38;5;39mCOMET INFO:\u001b[0m     Adam_is_legacy_optimizer     : False\n",
            "\u001b[1;38;5;39mCOMET INFO:\u001b[0m     Adam_jit_compile             : False\n",
            "\u001b[1;38;5;39mCOMET INFO:\u001b[0m     Adam_learning_rate           : 0.0010000000474974513\n",
            "\u001b[1;38;5;39mCOMET INFO:\u001b[0m     Adam_name                    : Adam\n",
            "\u001b[1;38;5;39mCOMET INFO:\u001b[0m     Adam_use_ema                 : False\n",
            "\u001b[1;38;5;39mCOMET INFO:\u001b[0m     Adam_weight_decay            : 1\n",
            "\u001b[1;38;5;39mCOMET INFO:\u001b[0m     batch_size                   : 60\n",
            "\u001b[1;38;5;39mCOMET INFO:\u001b[0m     epochs                       : 50\n",
            "\u001b[1;38;5;39mCOMET INFO:\u001b[0m     loss                         : categorical_crossentropy\n",
            "\u001b[1;38;5;39mCOMET INFO:\u001b[0m     optimizer                    : Adam\n",
            "\u001b[1;38;5;39mCOMET INFO:\u001b[0m     steps                        : 1000\n",
            "\u001b[1;38;5;39mCOMET INFO:\u001b[0m   Uploads:\n",
            "\u001b[1;38;5;39mCOMET INFO:\u001b[0m     environment details : 1\n",
            "\u001b[1;38;5;39mCOMET INFO:\u001b[0m     filename            : 1\n",
            "\u001b[1;38;5;39mCOMET INFO:\u001b[0m     histogram3d         : 459\n",
            "\u001b[1;38;5;39mCOMET INFO:\u001b[0m     installed packages  : 1\n",
            "\u001b[1;38;5;39mCOMET INFO:\u001b[0m     model graph         : 1\n",
            "\u001b[1;38;5;39mCOMET INFO:\u001b[0m     model-element       : 1 (2.08 MB)\n",
            "\u001b[1;38;5;39mCOMET INFO:\u001b[0m     notebook            : 2\n",
            "\u001b[1;38;5;39mCOMET INFO:\u001b[0m     os packages         : 1\n",
            "\u001b[1;38;5;39mCOMET INFO:\u001b[0m     source_code         : 1\n",
            "\u001b[1;38;5;39mCOMET INFO:\u001b[0m \n",
            "\u001b[1;38;5;39mCOMET INFO:\u001b[0m Uploading 1 metrics, params and output messages\n"
          ]
        }
      ]
    }
  ]
}