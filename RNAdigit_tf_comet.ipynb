{
  "nbformat": 4,
  "nbformat_minor": 0,
  "metadata": {
    "colab": {
      "provenance": [],
      "include_colab_link": true
    },
    "kernelspec": {
      "name": "python3",
      "display_name": "Python 3"
    },
    "language_info": {
      "name": "python"
    }
  },
  "cells": [
    {
      "cell_type": "markdown",
      "metadata": {
        "id": "view-in-github",
        "colab_type": "text"
      },
      "source": [
        "<a href=\"https://colab.research.google.com/github/Emivk/RNA-Digits/blob/master/RNAdigit_tf_comet.ipynb\" target=\"_parent\"><img src=\"https://colab.research.google.com/assets/colab-badge.svg\" alt=\"Open In Colab\"/></a>"
      ]
    },
    {
      "cell_type": "code",
      "execution_count": 1,
      "metadata": {
        "colab": {
          "base_uri": "https://localhost:8080/"
        },
        "id": "L_Zg2IxMAiPk",
        "outputId": "ea8135bb-8023-4b89-d351-a675506e930f"
      },
      "outputs": [
        {
          "output_type": "stream",
          "name": "stdout",
          "text": [
            "Collecting comet_ml\n",
            "  Downloading comet_ml-3.33.10-py3-none-any.whl (561 kB)\n",
            "\u001b[2K     \u001b[90m━━━━━━━━━━━━━━━━━━━━━━━━━━━━━━━━━━━━━━━\u001b[0m \u001b[32m561.9/561.9 kB\u001b[0m \u001b[31m5.3 MB/s\u001b[0m eta \u001b[36m0:00:00\u001b[0m\n",
            "\u001b[?25hRequirement already satisfied: jsonschema!=3.1.0,>=2.6.0 in /usr/local/lib/python3.10/dist-packages (from comet_ml) (4.19.0)\n",
            "Requirement already satisfied: psutil>=5.6.3 in /usr/local/lib/python3.10/dist-packages (from comet_ml) (5.9.5)\n",
            "Collecting python-box<7.0.0 (from comet_ml)\n",
            "  Downloading python_box-6.1.0-cp310-cp310-manylinux_2_17_x86_64.manylinux2014_x86_64.whl (3.3 MB)\n",
            "\u001b[2K     \u001b[90m━━━━━━━━━━━━━━━━━━━━━━━━━━━━━━━━━━━━━━━━\u001b[0m \u001b[32m3.3/3.3 MB\u001b[0m \u001b[31m15.3 MB/s\u001b[0m eta \u001b[36m0:00:00\u001b[0m\n",
            "\u001b[?25hCollecting requests-toolbelt>=0.8.0 (from comet_ml)\n",
            "  Downloading requests_toolbelt-1.0.0-py2.py3-none-any.whl (54 kB)\n",
            "\u001b[2K     \u001b[90m━━━━━━━━━━━━━━━━━━━━━━━━━━━━━━━━━━━━━━━━\u001b[0m \u001b[32m54.5/54.5 kB\u001b[0m \u001b[31m6.1 MB/s\u001b[0m eta \u001b[36m0:00:00\u001b[0m\n",
            "\u001b[?25hRequirement already satisfied: requests>=2.18.4 in /usr/local/lib/python3.10/dist-packages (from comet_ml) (2.31.0)\n",
            "Collecting semantic-version>=2.8.0 (from comet_ml)\n",
            "  Downloading semantic_version-2.10.0-py2.py3-none-any.whl (15 kB)\n",
            "Collecting sentry-sdk>=1.1.0 (from comet_ml)\n",
            "  Downloading sentry_sdk-1.31.0-py2.py3-none-any.whl (224 kB)\n",
            "\u001b[2K     \u001b[90m━━━━━━━━━━━━━━━━━━━━━━━━━━━━━━━━━━━━━━\u001b[0m \u001b[32m224.8/224.8 kB\u001b[0m \u001b[31m18.9 MB/s\u001b[0m eta \u001b[36m0:00:00\u001b[0m\n",
            "\u001b[?25hCollecting simplejson (from comet_ml)\n",
            "  Downloading simplejson-3.19.1-cp310-cp310-manylinux_2_5_x86_64.manylinux1_x86_64.manylinux_2_17_x86_64.manylinux2014_x86_64.whl (137 kB)\n",
            "\u001b[2K     \u001b[90m━━━━━━━━━━━━━━━━━━━━━━━━━━━━━━━━━━━━━━━\u001b[0m \u001b[32m137.9/137.9 kB\u001b[0m \u001b[31m9.7 MB/s\u001b[0m eta \u001b[36m0:00:00\u001b[0m\n",
            "\u001b[?25hRequirement already satisfied: six in /usr/local/lib/python3.10/dist-packages (from comet_ml) (1.16.0)\n",
            "Requirement already satisfied: urllib3>=1.21.1 in /usr/local/lib/python3.10/dist-packages (from comet_ml) (2.0.4)\n",
            "Collecting websocket-client<1.4.0,>=0.55.0 (from comet_ml)\n",
            "  Downloading websocket_client-1.3.3-py3-none-any.whl (54 kB)\n",
            "\u001b[2K     \u001b[90m━━━━━━━━━━━━━━━━━━━━━━━━━━━━━━━━━━━━━━━━\u001b[0m \u001b[32m54.3/54.3 kB\u001b[0m \u001b[31m5.3 MB/s\u001b[0m eta \u001b[36m0:00:00\u001b[0m\n",
            "\u001b[?25hRequirement already satisfied: wrapt>=1.11.2 in /usr/local/lib/python3.10/dist-packages (from comet_ml) (1.15.0)\n",
            "Collecting wurlitzer>=1.0.2 (from comet_ml)\n",
            "  Downloading wurlitzer-3.0.3-py3-none-any.whl (7.3 kB)\n",
            "Collecting everett[ini]<3.2.0,>=1.0.1 (from comet_ml)\n",
            "  Downloading everett-3.1.0-py2.py3-none-any.whl (35 kB)\n",
            "Collecting dulwich!=0.20.33,>=0.20.6 (from comet_ml)\n",
            "  Downloading dulwich-0.21.6-cp310-cp310-manylinux_2_17_x86_64.manylinux2014_x86_64.whl (512 kB)\n",
            "\u001b[2K     \u001b[90m━━━━━━━━━━━━━━━━━━━━━━━━━━━━━━━━━━━━━━\u001b[0m \u001b[32m512.2/512.2 kB\u001b[0m \u001b[31m11.2 MB/s\u001b[0m eta \u001b[36m0:00:00\u001b[0m\n",
            "\u001b[?25hRequirement already satisfied: rich>=13.3.2 in /usr/local/lib/python3.10/dist-packages (from comet_ml) (13.5.2)\n",
            "Collecting configobj (from everett[ini]<3.2.0,>=1.0.1->comet_ml)\n",
            "  Downloading configobj-5.0.8-py2.py3-none-any.whl (36 kB)\n",
            "Requirement already satisfied: attrs>=22.2.0 in /usr/local/lib/python3.10/dist-packages (from jsonschema!=3.1.0,>=2.6.0->comet_ml) (23.1.0)\n",
            "Requirement already satisfied: jsonschema-specifications>=2023.03.6 in /usr/local/lib/python3.10/dist-packages (from jsonschema!=3.1.0,>=2.6.0->comet_ml) (2023.7.1)\n",
            "Requirement already satisfied: referencing>=0.28.4 in /usr/local/lib/python3.10/dist-packages (from jsonschema!=3.1.0,>=2.6.0->comet_ml) (0.30.2)\n",
            "Requirement already satisfied: rpds-py>=0.7.1 in /usr/local/lib/python3.10/dist-packages (from jsonschema!=3.1.0,>=2.6.0->comet_ml) (0.10.2)\n",
            "Requirement already satisfied: charset-normalizer<4,>=2 in /usr/local/lib/python3.10/dist-packages (from requests>=2.18.4->comet_ml) (3.2.0)\n",
            "Requirement already satisfied: idna<4,>=2.5 in /usr/local/lib/python3.10/dist-packages (from requests>=2.18.4->comet_ml) (3.4)\n",
            "Requirement already satisfied: certifi>=2017.4.17 in /usr/local/lib/python3.10/dist-packages (from requests>=2.18.4->comet_ml) (2023.7.22)\n",
            "Requirement already satisfied: markdown-it-py>=2.2.0 in /usr/local/lib/python3.10/dist-packages (from rich>=13.3.2->comet_ml) (3.0.0)\n",
            "Requirement already satisfied: pygments<3.0.0,>=2.13.0 in /usr/local/lib/python3.10/dist-packages (from rich>=13.3.2->comet_ml) (2.16.1)\n",
            "Requirement already satisfied: mdurl~=0.1 in /usr/local/lib/python3.10/dist-packages (from markdown-it-py>=2.2.0->rich>=13.3.2->comet_ml) (0.1.2)\n",
            "Installing collected packages: everett, wurlitzer, websocket-client, simplejson, sentry-sdk, semantic-version, python-box, dulwich, configobj, requests-toolbelt, comet_ml\n",
            "  Attempting uninstall: websocket-client\n",
            "    Found existing installation: websocket-client 1.6.2\n",
            "    Uninstalling websocket-client-1.6.2:\n",
            "      Successfully uninstalled websocket-client-1.6.2\n",
            "  Attempting uninstall: python-box\n",
            "    Found existing installation: python-box 7.1.1\n",
            "    Uninstalling python-box-7.1.1:\n",
            "      Successfully uninstalled python-box-7.1.1\n",
            "Successfully installed comet_ml-3.33.10 configobj-5.0.8 dulwich-0.21.6 everett-3.1.0 python-box-6.1.0 requests-toolbelt-1.0.0 semantic-version-2.10.0 sentry-sdk-1.31.0 simplejson-3.19.1 websocket-client-1.3.3 wurlitzer-3.0.3\n"
          ]
        }
      ],
      "source": [
        "%pip install comet_ml"
      ]
    },
    {
      "cell_type": "code",
      "source": [
        "import comet_ml\n",
        "comet_ml.init(project_name=\"rnadigits\")"
      ],
      "metadata": {
        "colab": {
          "base_uri": "https://localhost:8080/"
        },
        "id": "g6hZpUiPAtrC",
        "outputId": "c8056e84-300a-4e68-8cde-2868c3c3eb15"
      },
      "execution_count": 3,
      "outputs": [
        {
          "name": "stdout",
          "output_type": "stream",
          "text": [
            "Please paste your Comet API key from https://www.comet.com/api/my/settings/\n",
            "(api key may not show as you type)\n",
            "Comet API key: ··········\n"
          ]
        },
        {
          "output_type": "stream",
          "name": "stderr",
          "text": [
            "\u001b[1;38;5;39mCOMET INFO:\u001b[0m Valid Comet API Key saved in /root/.comet.config (set COMET_CONFIG to change where it is saved).\n"
          ]
        }
      ]
    },
    {
      "cell_type": "code",
      "source": [
        "import tensorflow as tf\n",
        "from tensorflow import keras\n",
        "from tensorflow.keras.datasets import mnist\n",
        "from tensorflow.keras.models import Sequential\n",
        "from tensorflow.keras.layers import Dense, Dropout, Activation, Flatten, Input\n",
        "from tensorflow.keras.optimizers import RMSprop, SGD\n",
        "from tensorflow.keras import regularizers\n",
        "from keras.callbacks import ModelCheckpoint"
      ],
      "metadata": {
        "id": "czgl5_6tA7Pe"
      },
      "execution_count": 4,
      "outputs": []
    },
    {
      "cell_type": "code",
      "source": [
        "experiment = comet_ml.Experiment(\n",
        "    auto_histogram_weight_logging=True,\n",
        "    auto_histogram_gradient_logging=True,\n",
        "    auto_histogram_activation_logging=True,\n",
        "    log_code=True,\n",
        ")"
      ],
      "metadata": {
        "colab": {
          "base_uri": "https://localhost:8080/"
        },
        "id": "j__tspO4BGYR",
        "outputId": "e5ba68c6-4806-4c55-f57f-9953859b4fce"
      },
      "execution_count": 5,
      "outputs": [
        {
          "output_type": "stream",
          "name": "stderr",
          "text": [
            "\u001b[1;38;5;214mCOMET WARNING:\u001b[0m As you are running in a Jupyter environment, you will need to call `experiment.end()` when finished to ensure all metrics and code are logged before exiting.\n",
            "\u001b[1;38;5;39mCOMET INFO:\u001b[0m Couldn't find a Git repository in '/content' nor in any parent directory. Set `COMET_GIT_DIRECTORY` if your Git Repository is elsewhere.\n",
            "\u001b[1;38;5;39mCOMET INFO:\u001b[0m Experiment is live on comet.com https://www.comet.com/emivk/rnadigits/22f3e36faf724bc583bb7cc6c3540714\n",
            "\n"
          ]
        }
      ]
    },
    {
      "cell_type": "code",
      "source": [
        "dataset=mnist.load_data()\n",
        "(x_train, y_train), (x_test, y_test) = dataset\n",
        "\n",
        "x_train = x_train.astype('float32')\n",
        "x_test = x_test.astype('float32')\n",
        "\n",
        "x_train /= 255  # x_trainv = x_trainv/255\n",
        "x_test /= 255\n",
        "\n",
        "num_classes=10\n",
        "y_trainc = keras.utils.to_categorical(y_train, num_classes)\n",
        "y_testc = keras.utils.to_categorical(y_test, num_classes)"
      ],
      "metadata": {
        "id": "qJNeAdHbBUM-",
        "colab": {
          "base_uri": "https://localhost:8080/"
        },
        "outputId": "5f36c53e-a58d-426a-ff05-341a2d638196"
      },
      "execution_count": 7,
      "outputs": [
        {
          "output_type": "stream",
          "name": "stdout",
          "text": [
            "Downloading data from https://storage.googleapis.com/tensorflow/tf-keras-datasets/mnist.npz\n",
            "11490434/11490434 [==============================] - 0s 0us/step\n"
          ]
        }
      ]
    },
    {
      "cell_type": "code",
      "source": [
        "parameters = {\n",
        "    \"batch_size\": 10,\n",
        "    \"epochs\": 30,\n",
        "    \"optimizer\": \"SGD\",\n",
        "    \"loss\": \"categorical_crossentropy\",\n",
        "}\n",
        "\n",
        "experiment.log_parameters(parameters)"
      ],
      "metadata": {
        "id": "zbiaW1VkBHH6"
      },
      "execution_count": 6,
      "outputs": []
    },
    {
      "cell_type": "code",
      "source": [
        "model = Sequential()\n",
        "model.add(Input(shape=(28,28))) #Flaten no tiene la opcion input_shape por lo tanto se tiene que agregar esta capa\n",
        "model.add(Flatten()) #Otra forma de aplanar las imagenes\n",
        "model.add(Dense(50, activation='sigmoid'))\n",
        "#model.add(Dense(400, activation='relu', kernel_regularizer=regularizers.L1L2(l1=1e-5, l2=1e-4))) #Regularizacion L1L2\n",
        "#model.add(Dropout(0.2)) #Fraccion de enlaces a eliminar\n",
        "#model.add(Dense(200)) #Capa lineal , transformacion lineal sin funcion de activacion\n",
        "#model.add(Activation('tanh')) #Se puede agregar despues la funcion de activacion\n",
        "#model.add(Dense(400, activation='selu', kernel_regularizer=regularizers.L1(0.01) )) #Regularizacion L1\n",
        "#model.add(Dense(200, activation='elu', kernel_regularizer=regularizers.L2(l2=1e-4)) ) #Regularizacion L2\n",
        "#model.add(Dense(50,activation='exponential'))\n",
        "model.add(Dense(10, activation='softmax'))\n",
        "\n",
        "model.summary()"
      ],
      "metadata": {
        "colab": {
          "base_uri": "https://localhost:8080/"
        },
        "id": "GUl8whP1BOdy",
        "outputId": "e52652a5-0dd9-4355-ce83-4023429ef335"
      },
      "execution_count": 8,
      "outputs": [
        {
          "output_type": "stream",
          "name": "stdout",
          "text": [
            "Model: \"sequential\"\n",
            "_________________________________________________________________\n",
            " Layer (type)                Output Shape              Param #   \n",
            "=================================================================\n",
            " flatten (Flatten)           (None, 784)               0         \n",
            "                                                                 \n",
            " dense (Dense)               (None, 50)                39250     \n",
            "                                                                 \n",
            " dense_1 (Dense)             (None, 10)                510       \n",
            "                                                                 \n",
            "=================================================================\n",
            "Total params: 39760 (155.31 KB)\n",
            "Trainable params: 39760 (155.31 KB)\n",
            "Non-trainable params: 0 (0.00 Byte)\n",
            "_________________________________________________________________\n"
          ]
        }
      ]
    },
    {
      "cell_type": "code",
      "source": [
        "# specify the path where you want to save the model\n",
        "filepath = \"mejor-modelo1.1.hdf5\"\n",
        "\n",
        "# initialize the ModelCheckpoint callback\n",
        "checkpoint = ModelCheckpoint(filepath, monitor='val_loss', verbose=1, save_best_only=True, mode='min')"
      ],
      "metadata": {
        "id": "yickXqeNHaGo"
      },
      "execution_count": 9,
      "outputs": []
    },
    {
      "cell_type": "code",
      "source": [
        "model.compile(loss=parameters['loss'],optimizer=SGD(learning_rate=0.1,ema_momentum=0.9),metrics=['accuracy'])\n",
        "model.fit(x_train, y_trainc,\n",
        "                    batch_size=parameters['batch_size'],\n",
        "                    epochs=parameters[\"epochs\"],\n",
        "                    verbose=1,\n",
        "                    validation_data=(x_test, y_testc),\n",
        "                    callbacks=[checkpoint])"
      ],
      "metadata": {
        "colab": {
          "base_uri": "https://localhost:8080/"
        },
        "id": "RipmZnRwEznJ",
        "outputId": "7cbac4eb-3a7f-4dd8-c542-cc505f6dfeb5"
      },
      "execution_count": 10,
      "outputs": [
        {
          "output_type": "stream",
          "name": "stderr",
          "text": [
            "\u001b[1;38;5;39mCOMET INFO:\u001b[0m Ignoring automatic log_parameter('verbose') because 'keras:verbose' is in COMET_LOGGING_PARAMETERS_IGNORE\n"
          ]
        },
        {
          "output_type": "stream",
          "name": "stdout",
          "text": [
            "Epoch 1/30\n",
            "6000/6000 [==============================] - ETA: 0s - loss: 0.3812 - accuracy: 0.8946\n",
            "Epoch 1: val_loss improved from inf to 0.23023, saving model to mejor-modelo1.1.hdf5\n",
            "6000/6000 [==============================] - 18s 3ms/step - loss: 0.3812 - accuracy: 0.8946 - val_loss: 0.2302 - val_accuracy: 0.9336\n",
            "Epoch 2/30\n",
            "  46/6000 [..............................] - ETA: 13s - loss: 0.2286 - accuracy: 0.9413"
          ]
        },
        {
          "output_type": "stream",
          "name": "stderr",
          "text": [
            "/usr/local/lib/python3.10/dist-packages/keras/src/engine/training.py:3000: UserWarning: You are saving your model as an HDF5 file via `model.save()`. This file format is considered legacy. We recommend using instead the native Keras format, e.g. `model.save('my_model.keras')`.\n",
            "  saving_api.save_model(\n"
          ]
        },
        {
          "output_type": "stream",
          "name": "stdout",
          "text": [
            "5999/6000 [============================>.] - ETA: 0s - loss: 0.2004 - accuracy: 0.9419\n",
            "Epoch 2: val_loss improved from 0.23023 to 0.16870, saving model to mejor-modelo1.1.hdf5\n",
            "6000/6000 [==============================] - 15s 2ms/step - loss: 0.2004 - accuracy: 0.9419 - val_loss: 0.1687 - val_accuracy: 0.9504\n",
            "Epoch 3/30\n",
            "5973/6000 [============================>.] - ETA: 0s - loss: 0.1532 - accuracy: 0.9558\n",
            "Epoch 3: val_loss improved from 0.16870 to 0.13676, saving model to mejor-modelo1.1.hdf5\n",
            "6000/6000 [==============================] - 15s 2ms/step - loss: 0.1529 - accuracy: 0.9559 - val_loss: 0.1368 - val_accuracy: 0.9603\n",
            "Epoch 4/30\n",
            "5992/6000 [============================>.] - ETA: 0s - loss: 0.1267 - accuracy: 0.9635\n",
            "Epoch 4: val_loss improved from 0.13676 to 0.11994, saving model to mejor-modelo1.1.hdf5\n",
            "6000/6000 [==============================] - 18s 3ms/step - loss: 0.1267 - accuracy: 0.9635 - val_loss: 0.1199 - val_accuracy: 0.9642\n",
            "Epoch 5/30\n",
            "5999/6000 [============================>.] - ETA: 0s - loss: 0.1082 - accuracy: 0.9688\n",
            "Epoch 5: val_loss improved from 0.11994 to 0.11042, saving model to mejor-modelo1.1.hdf5\n",
            "6000/6000 [==============================] - 15s 3ms/step - loss: 0.1082 - accuracy: 0.9688 - val_loss: 0.1104 - val_accuracy: 0.9665\n",
            "Epoch 6/30\n",
            "6000/6000 [==============================] - ETA: 0s - loss: 0.0951 - accuracy: 0.9727\n",
            "Epoch 6: val_loss improved from 0.11042 to 0.10176, saving model to mejor-modelo1.1.hdf5\n",
            "6000/6000 [==============================] - 15s 3ms/step - loss: 0.0951 - accuracy: 0.9727 - val_loss: 0.1018 - val_accuracy: 0.9688\n",
            "Epoch 7/30\n",
            "5999/6000 [============================>.] - ETA: 0s - loss: 0.0858 - accuracy: 0.9749\n",
            "Epoch 7: val_loss improved from 0.10176 to 0.09782, saving model to mejor-modelo1.1.hdf5\n",
            "6000/6000 [==============================] - 16s 3ms/step - loss: 0.0858 - accuracy: 0.9749 - val_loss: 0.0978 - val_accuracy: 0.9698\n",
            "Epoch 8/30\n",
            "5989/6000 [============================>.] - ETA: 0s - loss: 0.0775 - accuracy: 0.9778\n",
            "Epoch 8: val_loss improved from 0.09782 to 0.09241, saving model to mejor-modelo1.1.hdf5\n",
            "6000/6000 [==============================] - 16s 3ms/step - loss: 0.0775 - accuracy: 0.9778 - val_loss: 0.0924 - val_accuracy: 0.9708\n",
            "Epoch 9/30\n",
            "5982/6000 [============================>.] - ETA: 0s - loss: 0.0711 - accuracy: 0.9798\n",
            "Epoch 9: val_loss did not improve from 0.09241\n",
            "6000/6000 [==============================] - 15s 2ms/step - loss: 0.0711 - accuracy: 0.9798 - val_loss: 0.0978 - val_accuracy: 0.9689\n",
            "Epoch 10/30\n",
            "5996/6000 [============================>.] - ETA: 0s - loss: 0.0658 - accuracy: 0.9817\n",
            "Epoch 10: val_loss did not improve from 0.09241\n",
            "6000/6000 [==============================] - 16s 3ms/step - loss: 0.0658 - accuracy: 0.9817 - val_loss: 0.0947 - val_accuracy: 0.9707\n",
            "Epoch 11/30\n",
            "5982/6000 [============================>.] - ETA: 0s - loss: 0.0609 - accuracy: 0.9823\n",
            "Epoch 11: val_loss improved from 0.09241 to 0.08713, saving model to mejor-modelo1.1.hdf5\n",
            "6000/6000 [==============================] - 15s 2ms/step - loss: 0.0609 - accuracy: 0.9824 - val_loss: 0.0871 - val_accuracy: 0.9726\n",
            "Epoch 12/30\n",
            "5975/6000 [============================>.] - ETA: 0s - loss: 0.0566 - accuracy: 0.9839\n",
            "Epoch 12: val_loss improved from 0.08713 to 0.08422, saving model to mejor-modelo1.1.hdf5\n",
            "6000/6000 [==============================] - 16s 3ms/step - loss: 0.0566 - accuracy: 0.9839 - val_loss: 0.0842 - val_accuracy: 0.9733\n",
            "Epoch 13/30\n",
            "5992/6000 [============================>.] - ETA: 0s - loss: 0.0530 - accuracy: 0.9855\n",
            "Epoch 13: val_loss did not improve from 0.08422\n",
            "6000/6000 [==============================] - 16s 3ms/step - loss: 0.0530 - accuracy: 0.9855 - val_loss: 0.0856 - val_accuracy: 0.9735\n",
            "Epoch 14/30\n",
            "5980/6000 [============================>.] - ETA: 0s - loss: 0.0493 - accuracy: 0.9863\n",
            "Epoch 14: val_loss did not improve from 0.08422\n",
            "6000/6000 [==============================] - 15s 2ms/step - loss: 0.0493 - accuracy: 0.9863 - val_loss: 0.0846 - val_accuracy: 0.9748\n",
            "Epoch 15/30\n",
            "5985/6000 [============================>.] - ETA: 0s - loss: 0.0464 - accuracy: 0.9875\n",
            "Epoch 15: val_loss did not improve from 0.08422\n",
            "6000/6000 [==============================] - 16s 3ms/step - loss: 0.0463 - accuracy: 0.9875 - val_loss: 0.0875 - val_accuracy: 0.9734\n",
            "Epoch 16/30\n",
            "5997/6000 [============================>.] - ETA: 0s - loss: 0.0437 - accuracy: 0.9886\n",
            "Epoch 16: val_loss did not improve from 0.08422\n",
            "6000/6000 [==============================] - 17s 3ms/step - loss: 0.0437 - accuracy: 0.9886 - val_loss: 0.0856 - val_accuracy: 0.9733\n",
            "Epoch 17/30\n",
            "5975/6000 [============================>.] - ETA: 0s - loss: 0.0413 - accuracy: 0.9888\n",
            "Epoch 17: val_loss improved from 0.08422 to 0.08194, saving model to mejor-modelo1.1.hdf5\n",
            "6000/6000 [==============================] - 15s 2ms/step - loss: 0.0412 - accuracy: 0.9889 - val_loss: 0.0819 - val_accuracy: 0.9751\n",
            "Epoch 18/30\n",
            "5998/6000 [============================>.] - ETA: 0s - loss: 0.0386 - accuracy: 0.9904\n",
            "Epoch 18: val_loss improved from 0.08194 to 0.08162, saving model to mejor-modelo1.1.hdf5\n",
            "6000/6000 [==============================] - 15s 2ms/step - loss: 0.0386 - accuracy: 0.9904 - val_loss: 0.0816 - val_accuracy: 0.9759\n",
            "Epoch 19/30\n",
            "5989/6000 [============================>.] - ETA: 0s - loss: 0.0365 - accuracy: 0.9909\n",
            "Epoch 19: val_loss did not improve from 0.08162\n",
            "6000/6000 [==============================] - 15s 2ms/step - loss: 0.0365 - accuracy: 0.9909 - val_loss: 0.0817 - val_accuracy: 0.9762\n",
            "Epoch 20/30\n",
            "5997/6000 [============================>.] - ETA: 0s - loss: 0.0347 - accuracy: 0.9912\n",
            "Epoch 20: val_loss improved from 0.08162 to 0.08045, saving model to mejor-modelo1.1.hdf5\n",
            "6000/6000 [==============================] - 16s 3ms/step - loss: 0.0347 - accuracy: 0.9912 - val_loss: 0.0804 - val_accuracy: 0.9765\n",
            "Epoch 21/30\n",
            "5986/6000 [============================>.] - ETA: 0s - loss: 0.0328 - accuracy: 0.9921\n",
            "Epoch 21: val_loss did not improve from 0.08045\n",
            "6000/6000 [==============================] - 14s 2ms/step - loss: 0.0327 - accuracy: 0.9921 - val_loss: 0.0821 - val_accuracy: 0.9767\n",
            "Epoch 22/30\n",
            "5985/6000 [============================>.] - ETA: 0s - loss: 0.0311 - accuracy: 0.9926\n",
            "Epoch 22: val_loss improved from 0.08045 to 0.07981, saving model to mejor-modelo1.1.hdf5\n",
            "6000/6000 [==============================] - 16s 3ms/step - loss: 0.0311 - accuracy: 0.9926 - val_loss: 0.0798 - val_accuracy: 0.9764\n",
            "Epoch 23/30\n",
            "5998/6000 [============================>.] - ETA: 0s - loss: 0.0294 - accuracy: 0.9932\n",
            "Epoch 23: val_loss did not improve from 0.07981\n",
            "6000/6000 [==============================] - 14s 2ms/step - loss: 0.0294 - accuracy: 0.9932 - val_loss: 0.0838 - val_accuracy: 0.9753\n",
            "Epoch 24/30\n",
            "5990/6000 [============================>.] - ETA: 0s - loss: 0.0280 - accuracy: 0.9940\n",
            "Epoch 24: val_loss did not improve from 0.07981\n",
            "6000/6000 [==============================] - 16s 3ms/step - loss: 0.0280 - accuracy: 0.9940 - val_loss: 0.0825 - val_accuracy: 0.9756\n",
            "Epoch 25/30\n",
            "5995/6000 [============================>.] - ETA: 0s - loss: 0.0266 - accuracy: 0.9942\n",
            "Epoch 25: val_loss did not improve from 0.07981\n",
            "6000/6000 [==============================] - 15s 3ms/step - loss: 0.0266 - accuracy: 0.9942 - val_loss: 0.0801 - val_accuracy: 0.9758\n",
            "Epoch 26/30\n",
            "5985/6000 [============================>.] - ETA: 0s - loss: 0.0252 - accuracy: 0.9947\n",
            "Epoch 26: val_loss did not improve from 0.07981\n",
            "6000/6000 [==============================] - 15s 2ms/step - loss: 0.0253 - accuracy: 0.9947 - val_loss: 0.0814 - val_accuracy: 0.9760\n",
            "Epoch 27/30\n",
            "5991/6000 [============================>.] - ETA: 0s - loss: 0.0239 - accuracy: 0.9952\n",
            "Epoch 27: val_loss did not improve from 0.07981\n",
            "6000/6000 [==============================] - 16s 3ms/step - loss: 0.0239 - accuracy: 0.9952 - val_loss: 0.0820 - val_accuracy: 0.9757\n",
            "Epoch 28/30\n",
            "5982/6000 [============================>.] - ETA: 0s - loss: 0.0229 - accuracy: 0.9953\n",
            "Epoch 28: val_loss did not improve from 0.07981\n",
            "6000/6000 [==============================] - 16s 3ms/step - loss: 0.0229 - accuracy: 0.9952 - val_loss: 0.0838 - val_accuracy: 0.9742\n",
            "Epoch 29/30\n",
            "5992/6000 [============================>.] - ETA: 0s - loss: 0.0219 - accuracy: 0.9960\n",
            "Epoch 29: val_loss did not improve from 0.07981\n",
            "6000/6000 [==============================] - 15s 2ms/step - loss: 0.0219 - accuracy: 0.9960 - val_loss: 0.0819 - val_accuracy: 0.9753\n",
            "Epoch 30/30\n",
            "5984/6000 [============================>.] - ETA: 0s - loss: 0.0208 - accuracy: 0.9962\n",
            "Epoch 30: val_loss did not improve from 0.07981\n",
            "6000/6000 [==============================] - 16s 3ms/step - loss: 0.0208 - accuracy: 0.9962 - val_loss: 0.0830 - val_accuracy: 0.9756\n"
          ]
        },
        {
          "output_type": "execute_result",
          "data": {
            "text/plain": [
              "<keras.src.callbacks.History at 0x7b1c3a20bac0>"
            ]
          },
          "metadata": {},
          "execution_count": 10
        }
      ]
    },
    {
      "cell_type": "code",
      "source": [
        "experiment.log_model(\"MNIST1\", \"mejor-modelo1.1.hdf5\")"
      ],
      "metadata": {
        "id": "-onR7D9SK9FN",
        "colab": {
          "base_uri": "https://localhost:8080/"
        },
        "outputId": "af0a4bb3-53ae-4c70-ad1f-3caa53e0837b"
      },
      "execution_count": 11,
      "outputs": [
        {
          "output_type": "execute_result",
          "data": {
            "text/plain": [
              "{'web': 'https://www.comet.com/api/asset/download?assetId=c34965fb084f4487a47653efe1a71316&experimentKey=22f3e36faf724bc583bb7cc6c3540714',\n",
              " 'api': 'https://www.comet.com/api/rest/v2/experiment/asset/get-asset?assetId=c34965fb084f4487a47653efe1a71316&experimentKey=22f3e36faf724bc583bb7cc6c3540714',\n",
              " 'assetId': 'c34965fb084f4487a47653efe1a71316'}"
            ]
          },
          "metadata": {},
          "execution_count": 11
        }
      ]
    },
    {
      "cell_type": "code",
      "source": [
        "experiment.end()"
      ],
      "metadata": {
        "colab": {
          "base_uri": "https://localhost:8080/"
        },
        "id": "aGoU0WClHoJJ",
        "outputId": "8fbfed7f-b17f-45c4-a79b-58486e2bfd0b"
      },
      "execution_count": 12,
      "outputs": [
        {
          "output_type": "stream",
          "name": "stderr",
          "text": [
            "\u001b[1;38;5;39mCOMET INFO:\u001b[0m ---------------------------------------------------------------------------------------\n",
            "\u001b[1;38;5;39mCOMET INFO:\u001b[0m Comet.ml Experiment Summary\n",
            "\u001b[1;38;5;39mCOMET INFO:\u001b[0m ---------------------------------------------------------------------------------------\n",
            "\u001b[1;38;5;39mCOMET INFO:\u001b[0m   Data:\n",
            "\u001b[1;38;5;39mCOMET INFO:\u001b[0m     display_summary_level : 1\n",
            "\u001b[1;38;5;39mCOMET INFO:\u001b[0m     url                   : https://www.comet.com/emivk/rnadigits/22f3e36faf724bc583bb7cc6c3540714\n",
            "\u001b[1;38;5;39mCOMET INFO:\u001b[0m   Metrics [count] (min, max):\n",
            "\u001b[1;38;5;39mCOMET INFO:\u001b[0m     accuracy [30]                  : (0.8946166634559631, 0.9961833357810974)\n",
            "\u001b[1;38;5;39mCOMET INFO:\u001b[0m     batch_accuracy [18000]         : (0.0, 1.0)\n",
            "\u001b[1;38;5;39mCOMET INFO:\u001b[0m     batch_loss [18000]             : (0.0004058735794387758, 2.8758559226989746)\n",
            "\u001b[1;38;5;39mCOMET INFO:\u001b[0m     epoch_duration [30]            : (14.373988728000313, 18.130294439999943)\n",
            "\u001b[1;38;5;39mCOMET INFO:\u001b[0m     loss [30]                      : (0.020822620019316673, 0.38116317987442017)\n",
            "\u001b[1;38;5;39mCOMET INFO:\u001b[0m     val_accuracy [30]              : (0.9336000084877014, 0.9767000079154968)\n",
            "\u001b[1;38;5;39mCOMET INFO:\u001b[0m     val_loss [30]                  : (0.07980808615684509, 0.23023352026939392)\n",
            "\u001b[1;38;5;39mCOMET INFO:\u001b[0m     validate_batch_accuracy [3000] : (0.8999999761581421, 1.0)\n",
            "\u001b[1;38;5;39mCOMET INFO:\u001b[0m     validate_batch_loss [3000]     : (0.01266504917293787, 0.3118666708469391)\n",
            "\u001b[1;38;5;39mCOMET INFO:\u001b[0m   Others:\n",
            "\u001b[1;38;5;39mCOMET INFO:\u001b[0m     trainable_params : 39760\n",
            "\u001b[1;38;5;39mCOMET INFO:\u001b[0m   Parameters:\n",
            "\u001b[1;38;5;39mCOMET INFO:\u001b[0m     SGD_clipnorm                : 1\n",
            "\u001b[1;38;5;39mCOMET INFO:\u001b[0m     SGD_clipvalue               : 1\n",
            "\u001b[1;38;5;39mCOMET INFO:\u001b[0m     SGD_ema_momentum            : 0.9\n",
            "\u001b[1;38;5;39mCOMET INFO:\u001b[0m     SGD_ema_overwrite_frequency : 1\n",
            "\u001b[1;38;5;39mCOMET INFO:\u001b[0m     SGD_global_clipnorm         : 1\n",
            "\u001b[1;38;5;39mCOMET INFO:\u001b[0m     SGD_is_legacy_optimizer     : False\n",
            "\u001b[1;38;5;39mCOMET INFO:\u001b[0m     SGD_jit_compile             : False\n",
            "\u001b[1;38;5;39mCOMET INFO:\u001b[0m     SGD_learning_rate           : 0.10000000149011612\n",
            "\u001b[1;38;5;39mCOMET INFO:\u001b[0m     SGD_momentum                : 0.0\n",
            "\u001b[1;38;5;39mCOMET INFO:\u001b[0m     SGD_name                    : SGD\n",
            "\u001b[1;38;5;39mCOMET INFO:\u001b[0m     SGD_nesterov                : False\n",
            "\u001b[1;38;5;39mCOMET INFO:\u001b[0m     SGD_use_ema                 : False\n",
            "\u001b[1;38;5;39mCOMET INFO:\u001b[0m     SGD_weight_decay            : 1\n",
            "\u001b[1;38;5;39mCOMET INFO:\u001b[0m     batch_size                  : 10\n",
            "\u001b[1;38;5;39mCOMET INFO:\u001b[0m     epochs                      : 30\n",
            "\u001b[1;38;5;39mCOMET INFO:\u001b[0m     loss                        : categorical_crossentropy\n",
            "\u001b[1;38;5;39mCOMET INFO:\u001b[0m     optimizer                   : SGD\n",
            "\u001b[1;38;5;39mCOMET INFO:\u001b[0m     steps                       : 6000\n",
            "\u001b[1;38;5;39mCOMET INFO:\u001b[0m   Uploads:\n",
            "\u001b[1;38;5;39mCOMET INFO:\u001b[0m     environment details : 1\n",
            "\u001b[1;38;5;39mCOMET INFO:\u001b[0m     filename            : 1\n",
            "\u001b[1;38;5;39mCOMET INFO:\u001b[0m     histogram3d         : 217\n",
            "\u001b[1;38;5;39mCOMET INFO:\u001b[0m     installed packages  : 1\n",
            "\u001b[1;38;5;39mCOMET INFO:\u001b[0m     model graph         : 1\n",
            "\u001b[1;38;5;39mCOMET INFO:\u001b[0m     model-element       : 1 (332.69 KB)\n",
            "\u001b[1;38;5;39mCOMET INFO:\u001b[0m     notebook            : 2\n",
            "\u001b[1;38;5;39mCOMET INFO:\u001b[0m     os packages         : 1\n",
            "\u001b[1;38;5;39mCOMET INFO:\u001b[0m     source_code         : 1\n",
            "\u001b[1;38;5;39mCOMET INFO:\u001b[0m \n",
            "\u001b[1;38;5;39mCOMET INFO:\u001b[0m Please wait for metadata to finish uploading (timeout is 3600 seconds)\n"
          ]
        }
      ]
    }
  ]
}