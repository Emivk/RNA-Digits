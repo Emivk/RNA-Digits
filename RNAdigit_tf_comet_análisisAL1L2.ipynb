{
  "nbformat": 4,
  "nbformat_minor": 0,
  "metadata": {
    "colab": {
      "provenance": [],
      "include_colab_link": true
    },
    "kernelspec": {
      "name": "python3",
      "display_name": "Python 3"
    },
    "language_info": {
      "name": "python"
    }
  },
  "cells": [
    {
      "cell_type": "markdown",
      "metadata": {
        "id": "view-in-github",
        "colab_type": "text"
      },
      "source": [
        "<a href=\"https://colab.research.google.com/github/Emivk/RNA-Digits/blob/master/RNAdigit_tf_comet_an%C3%A1lisisAL1L2.ipynb\" target=\"_parent\"><img src=\"https://colab.research.google.com/assets/colab-badge.svg\" alt=\"Open In Colab\"/></a>"
      ]
    },
    {
      "cell_type": "code",
      "execution_count": 1,
      "metadata": {
        "colab": {
          "base_uri": "https://localhost:8080/"
        },
        "id": "L_Zg2IxMAiPk",
        "outputId": "3a931711-23f2-46e4-acc6-6072411b728b"
      },
      "outputs": [
        {
          "output_type": "stream",
          "name": "stdout",
          "text": [
            "Requirement already satisfied: comet_ml in /usr/local/lib/python3.10/dist-packages (3.33.10)\n",
            "Requirement already satisfied: jsonschema!=3.1.0,>=2.6.0 in /usr/local/lib/python3.10/dist-packages (from comet_ml) (4.19.0)\n",
            "Requirement already satisfied: psutil>=5.6.3 in /usr/local/lib/python3.10/dist-packages (from comet_ml) (5.9.5)\n",
            "Requirement already satisfied: python-box<7.0.0 in /usr/local/lib/python3.10/dist-packages (from comet_ml) (6.1.0)\n",
            "Requirement already satisfied: requests-toolbelt>=0.8.0 in /usr/local/lib/python3.10/dist-packages (from comet_ml) (1.0.0)\n",
            "Requirement already satisfied: requests>=2.18.4 in /usr/local/lib/python3.10/dist-packages (from comet_ml) (2.31.0)\n",
            "Requirement already satisfied: semantic-version>=2.8.0 in /usr/local/lib/python3.10/dist-packages (from comet_ml) (2.10.0)\n",
            "Requirement already satisfied: sentry-sdk>=1.1.0 in /usr/local/lib/python3.10/dist-packages (from comet_ml) (1.31.0)\n",
            "Requirement already satisfied: simplejson in /usr/local/lib/python3.10/dist-packages (from comet_ml) (3.19.1)\n",
            "Requirement already satisfied: six in /usr/local/lib/python3.10/dist-packages (from comet_ml) (1.16.0)\n",
            "Requirement already satisfied: urllib3>=1.21.1 in /usr/local/lib/python3.10/dist-packages (from comet_ml) (2.0.4)\n",
            "Requirement already satisfied: websocket-client<1.4.0,>=0.55.0 in /usr/local/lib/python3.10/dist-packages (from comet_ml) (1.3.3)\n",
            "Requirement already satisfied: wrapt>=1.11.2 in /usr/local/lib/python3.10/dist-packages (from comet_ml) (1.15.0)\n",
            "Requirement already satisfied: wurlitzer>=1.0.2 in /usr/local/lib/python3.10/dist-packages (from comet_ml) (3.0.3)\n",
            "Requirement already satisfied: everett[ini]<3.2.0,>=1.0.1 in /usr/local/lib/python3.10/dist-packages (from comet_ml) (3.1.0)\n",
            "Requirement already satisfied: dulwich!=0.20.33,>=0.20.6 in /usr/local/lib/python3.10/dist-packages (from comet_ml) (0.21.6)\n",
            "Requirement already satisfied: rich>=13.3.2 in /usr/local/lib/python3.10/dist-packages (from comet_ml) (13.5.2)\n",
            "Requirement already satisfied: configobj in /usr/local/lib/python3.10/dist-packages (from everett[ini]<3.2.0,>=1.0.1->comet_ml) (5.0.8)\n",
            "Requirement already satisfied: attrs>=22.2.0 in /usr/local/lib/python3.10/dist-packages (from jsonschema!=3.1.0,>=2.6.0->comet_ml) (23.1.0)\n",
            "Requirement already satisfied: jsonschema-specifications>=2023.03.6 in /usr/local/lib/python3.10/dist-packages (from jsonschema!=3.1.0,>=2.6.0->comet_ml) (2023.7.1)\n",
            "Requirement already satisfied: referencing>=0.28.4 in /usr/local/lib/python3.10/dist-packages (from jsonschema!=3.1.0,>=2.6.0->comet_ml) (0.30.2)\n",
            "Requirement already satisfied: rpds-py>=0.7.1 in /usr/local/lib/python3.10/dist-packages (from jsonschema!=3.1.0,>=2.6.0->comet_ml) (0.10.2)\n",
            "Requirement already satisfied: charset-normalizer<4,>=2 in /usr/local/lib/python3.10/dist-packages (from requests>=2.18.4->comet_ml) (3.2.0)\n",
            "Requirement already satisfied: idna<4,>=2.5 in /usr/local/lib/python3.10/dist-packages (from requests>=2.18.4->comet_ml) (3.4)\n",
            "Requirement already satisfied: certifi>=2017.4.17 in /usr/local/lib/python3.10/dist-packages (from requests>=2.18.4->comet_ml) (2023.7.22)\n",
            "Requirement already satisfied: markdown-it-py>=2.2.0 in /usr/local/lib/python3.10/dist-packages (from rich>=13.3.2->comet_ml) (3.0.0)\n",
            "Requirement already satisfied: pygments<3.0.0,>=2.13.0 in /usr/local/lib/python3.10/dist-packages (from rich>=13.3.2->comet_ml) (2.16.1)\n",
            "Requirement already satisfied: mdurl~=0.1 in /usr/local/lib/python3.10/dist-packages (from markdown-it-py>=2.2.0->rich>=13.3.2->comet_ml) (0.1.2)\n"
          ]
        }
      ],
      "source": [
        "%pip install comet_ml"
      ]
    },
    {
      "cell_type": "code",
      "source": [
        "import comet_ml\n",
        "comet_ml.init(project_name=\"rnadigits\")"
      ],
      "metadata": {
        "id": "g6hZpUiPAtrC"
      },
      "execution_count": 13,
      "outputs": []
    },
    {
      "cell_type": "code",
      "source": [
        "import tensorflow as tf\n",
        "from tensorflow import keras\n",
        "from tensorflow.keras.datasets import mnist\n",
        "from tensorflow.keras.models import Sequential\n",
        "from tensorflow.keras.layers import Dense, Dropout, Activation, Flatten, Input\n",
        "from tensorflow.keras.optimizers import RMSprop, SGD, Adam\n",
        "from tensorflow.keras import regularizers\n",
        "from keras.callbacks import ModelCheckpoint"
      ],
      "metadata": {
        "id": "czgl5_6tA7Pe"
      },
      "execution_count": 14,
      "outputs": []
    },
    {
      "cell_type": "code",
      "source": [
        "experiment = comet_ml.Experiment(\n",
        "    auto_histogram_weight_logging=True,\n",
        "    auto_histogram_gradient_logging=True,\n",
        "    auto_histogram_activation_logging=True,\n",
        "    log_code=True,\n",
        ")"
      ],
      "metadata": {
        "colab": {
          "base_uri": "https://localhost:8080/"
        },
        "id": "j__tspO4BGYR",
        "outputId": "2624c56c-612c-45c5-cc28-b96368354cab"
      },
      "execution_count": 45,
      "outputs": [
        {
          "output_type": "stream",
          "name": "stderr",
          "text": [
            "\u001b[1;38;5;214mCOMET WARNING:\u001b[0m As you are running in a Jupyter environment, you will need to call `experiment.end()` when finished to ensure all metrics and code are logged before exiting.\n",
            "\u001b[1;38;5;39mCOMET INFO:\u001b[0m Couldn't find a Git repository in '/content' nor in any parent directory. Set `COMET_GIT_DIRECTORY` if your Git Repository is elsewhere.\n",
            "\u001b[1;38;5;39mCOMET INFO:\u001b[0m Experiment is live on comet.com https://www.comet.com/emivk/rnadigits/c4a771f99f1142b9a7e2651e20cb07cc\n",
            "\n"
          ]
        }
      ]
    },
    {
      "cell_type": "code",
      "source": [
        "dataset=mnist.load_data()\n",
        "(x_train, y_train), (x_test, y_test) = dataset\n",
        "\n",
        "x_train = x_train.astype('float32')\n",
        "x_test = x_test.astype('float32')\n",
        "\n",
        "x_train /= 255  # x_trainv = x_trainv/255\n",
        "x_test /= 255\n",
        "\n",
        "num_classes=10\n",
        "y_trainc = keras.utils.to_categorical(y_train, num_classes)\n",
        "y_testc = keras.utils.to_categorical(y_test, num_classes)"
      ],
      "metadata": {
        "id": "qJNeAdHbBUM-"
      },
      "execution_count": 46,
      "outputs": []
    },
    {
      "cell_type": "code",
      "source": [
        "parameters = {\n",
        "    \"batch_size\": 60,\n",
        "    \"epochs\": 50,\n",
        "    \"optimizer\": \"Adam\",\n",
        "    \"loss\": \"categorical_crossentropy\",\n",
        "}\n",
        "\n",
        "experiment.log_parameters(parameters)"
      ],
      "metadata": {
        "id": "zbiaW1VkBHH6"
      },
      "execution_count": 47,
      "outputs": []
    },
    {
      "cell_type": "code",
      "source": [
        "model = Sequential()\n",
        "model.add(Input(shape=(28,28))) #Flaten no tiene la opcion input_shape por lo tanto se tiene que agregar esta capa\n",
        "model.add(Flatten()) #Otra forma de aplanar las imagenes\n",
        "model.add(Dense(200, activation='relu', kernel_regularizer=regularizers.L1L2(l1=1e-5, l2=1e-4)))\n",
        "model.add(Dense(100, activation='relu', kernel_regularizer=regularizers.L1L2(l1=1e-5, l2=1e-4)))\n",
        "\n",
        "#model.add(Dense(400, activation='relu', kernel_regularizer=regularizers.L1L2(l1=1e-5, l2=1e-4))) #Regularizacion L1L2\n",
        "#model.add(Dropout(0.2)) #Fraccion de enlaces a eliminar\n",
        "#model.add(Dense(200)) #Capa lineal , transformacion lineal sin funcion de activacion\n",
        "#model.add(Activation('tanh')) #Se puede agregar despues la funcion de activacion\n",
        "#model.add(Dense(400, activation='selu', kernel_regularizer=regularizers.L1(0.01) )) #Regularizacion L1\n",
        "#model.add(Dense(200, activation='elu', kernel_regularizer=regularizers.L2(l2=1e-4)) ) #Regularizacion L2\n",
        "#model.add(Dense(50,activation='exponential'))\n",
        "model.add(Dense(10, activation='softmax'))\n",
        "\n",
        "model.summary()"
      ],
      "metadata": {
        "colab": {
          "base_uri": "https://localhost:8080/"
        },
        "id": "GUl8whP1BOdy",
        "outputId": "39e2d4ee-ea92-48fc-f337-7cff45362021"
      },
      "execution_count": 48,
      "outputs": [
        {
          "output_type": "stream",
          "name": "stdout",
          "text": [
            "Model: \"sequential_6\"\n",
            "_________________________________________________________________\n",
            " Layer (type)                Output Shape              Param #   \n",
            "=================================================================\n",
            " flatten_6 (Flatten)         (None, 784)               0         \n",
            "                                                                 \n",
            " dense_19 (Dense)            (None, 200)               157000    \n",
            "                                                                 \n",
            " dense_20 (Dense)            (None, 100)               20100     \n",
            "                                                                 \n",
            " dense_21 (Dense)            (None, 10)                1010      \n",
            "                                                                 \n",
            "=================================================================\n",
            "Total params: 178110 (695.74 KB)\n",
            "Trainable params: 178110 (695.74 KB)\n",
            "Non-trainable params: 0 (0.00 Byte)\n",
            "_________________________________________________________________\n"
          ]
        }
      ]
    },
    {
      "cell_type": "code",
      "source": [
        "# specify the path where you want to save the model\n",
        "filepath = \"mejor-modeloAL1L2.hdf5\"\n",
        "\n",
        "# initialize the ModelCheckpoint callback\n",
        "checkpoint = ModelCheckpoint(filepath, monitor='val_loss', verbose=1, save_best_only=True, mode='min')"
      ],
      "metadata": {
        "id": "yickXqeNHaGo"
      },
      "execution_count": 49,
      "outputs": []
    },
    {
      "cell_type": "code",
      "source": [
        "model.compile(loss=parameters['loss'],optimizer=parameters['optimizer'],metrics=['accuracy'])\n",
        "model.fit(x_train, y_trainc,\n",
        "                    batch_size=parameters['batch_size'],\n",
        "                    epochs=parameters[\"epochs\"],\n",
        "                    verbose=1,\n",
        "                    validation_data=(x_test, y_testc),\n",
        "                    callbacks=[checkpoint])"
      ],
      "metadata": {
        "colab": {
          "base_uri": "https://localhost:8080/"
        },
        "id": "RipmZnRwEznJ",
        "outputId": "aa02ed13-550c-4b46-8797-4afc85cfe476"
      },
      "execution_count": 50,
      "outputs": [
        {
          "output_type": "stream",
          "name": "stdout",
          "text": [
            "Epoch 1/50\n",
            " 992/1000 [============================>.] - ETA: 0s - loss: 0.3279 - accuracy: 0.9303\n",
            "Epoch 1: val_loss improved from inf to 0.20683, saving model to mejor-modeloAL1L2.hdf5\n",
            "1000/1000 [==============================] - 10s 9ms/step - loss: 0.3270 - accuracy: 0.9305 - val_loss: 0.2068 - val_accuracy: 0.9636\n",
            "Epoch 2/50\n",
            " 998/1000 [============================>.] - ETA: 0s - loss: 0.1859 - accuracy: 0.9695\n",
            "Epoch 2: val_loss improved from 0.20683 to 0.17306, saving model to mejor-modeloAL1L2.hdf5\n",
            "1000/1000 [==============================] - 8s 8ms/step - loss: 0.1859 - accuracy: 0.9694 - val_loss: 0.1731 - val_accuracy: 0.9724\n",
            "Epoch 3/50\n",
            " 995/1000 [============================>.] - ETA: 0s - loss: 0.1591 - accuracy: 0.9767\n",
            "Epoch 3: val_loss improved from 0.17306 to 0.15812, saving model to mejor-modeloAL1L2.hdf5\n",
            "1000/1000 [==============================] - 6s 6ms/step - loss: 0.1591 - accuracy: 0.9767 - val_loss: 0.1581 - val_accuracy: 0.9774\n",
            "Epoch 4/50\n",
            " 994/1000 [============================>.] - ETA: 0s - loss: 0.1406 - accuracy: 0.9816\n",
            "Epoch 4: val_loss did not improve from 0.15812\n",
            "1000/1000 [==============================] - 8s 8ms/step - loss: 0.1408 - accuracy: 0.9815 - val_loss: 0.1602 - val_accuracy: 0.9750\n",
            "Epoch 5/50\n",
            " 995/1000 [============================>.] - ETA: 0s - loss: 0.1318 - accuracy: 0.9830\n",
            "Epoch 5: val_loss improved from 0.15812 to 0.15324, saving model to mejor-modeloAL1L2.hdf5\n",
            "1000/1000 [==============================] - 7s 7ms/step - loss: 0.1319 - accuracy: 0.9829 - val_loss: 0.1532 - val_accuracy: 0.9747\n",
            "Epoch 6/50\n",
            " 995/1000 [============================>.] - ETA: 0s - loss: 0.1211 - accuracy: 0.9855\n",
            "Epoch 6: val_loss improved from 0.15324 to 0.15131, saving model to mejor-modeloAL1L2.hdf5\n",
            "1000/1000 [==============================] - 8s 8ms/step - loss: 0.1210 - accuracy: 0.9855 - val_loss: 0.1513 - val_accuracy: 0.9756\n",
            "Epoch 7/50\n",
            " 993/1000 [============================>.] - ETA: 0s - loss: 0.1168 - accuracy: 0.9858\n",
            "Epoch 7: val_loss improved from 0.15131 to 0.14220, saving model to mejor-modeloAL1L2.hdf5\n",
            "1000/1000 [==============================] - 7s 7ms/step - loss: 0.1167 - accuracy: 0.9859 - val_loss: 0.1422 - val_accuracy: 0.9773\n",
            "Epoch 8/50\n",
            " 998/1000 [============================>.] - ETA: 0s - loss: 0.1088 - accuracy: 0.9874\n",
            "Epoch 8: val_loss improved from 0.14220 to 0.13870, saving model to mejor-modeloAL1L2.hdf5\n",
            "1000/1000 [==============================] - 8s 8ms/step - loss: 0.1088 - accuracy: 0.9874 - val_loss: 0.1387 - val_accuracy: 0.9786\n",
            "Epoch 9/50\n",
            " 998/1000 [============================>.] - ETA: 0s - loss: 0.1049 - accuracy: 0.9878\n",
            "Epoch 9: val_loss did not improve from 0.13870\n",
            "1000/1000 [==============================] - 7s 7ms/step - loss: 0.1049 - accuracy: 0.9878 - val_loss: 0.1397 - val_accuracy: 0.9759\n",
            "Epoch 10/50\n",
            " 992/1000 [============================>.] - ETA: 0s - loss: 0.0987 - accuracy: 0.9894\n",
            "Epoch 10: val_loss did not improve from 0.13870\n",
            "1000/1000 [==============================] - 8s 8ms/step - loss: 0.0988 - accuracy: 0.9894 - val_loss: 0.1430 - val_accuracy: 0.9759\n",
            "Epoch 11/50\n",
            " 995/1000 [============================>.] - ETA: 0s - loss: 0.0957 - accuracy: 0.9901\n",
            "Epoch 11: val_loss improved from 0.13870 to 0.13524, saving model to mejor-modeloAL1L2.hdf5\n",
            "1000/1000 [==============================] - 7s 7ms/step - loss: 0.0957 - accuracy: 0.9901 - val_loss: 0.1352 - val_accuracy: 0.9768\n",
            "Epoch 12/50\n",
            " 997/1000 [============================>.] - ETA: 0s - loss: 0.0942 - accuracy: 0.9894\n",
            "Epoch 12: val_loss improved from 0.13524 to 0.12460, saving model to mejor-modeloAL1L2.hdf5\n",
            "1000/1000 [==============================] - 8s 8ms/step - loss: 0.0943 - accuracy: 0.9894 - val_loss: 0.1246 - val_accuracy: 0.9805\n",
            "Epoch 13/50\n",
            "1000/1000 [==============================] - ETA: 0s - loss: 0.0899 - accuracy: 0.9911\n",
            "Epoch 13: val_loss improved from 0.12460 to 0.12451, saving model to mejor-modeloAL1L2.hdf5\n",
            "1000/1000 [==============================] - 7s 7ms/step - loss: 0.0899 - accuracy: 0.9911 - val_loss: 0.1245 - val_accuracy: 0.9797\n",
            "Epoch 14/50\n",
            " 997/1000 [============================>.] - ETA: 0s - loss: 0.0885 - accuracy: 0.9907\n",
            "Epoch 14: val_loss improved from 0.12451 to 0.12339, saving model to mejor-modeloAL1L2.hdf5\n",
            "1000/1000 [==============================] - 8s 8ms/step - loss: 0.0884 - accuracy: 0.9908 - val_loss: 0.1234 - val_accuracy: 0.9805\n",
            "Epoch 15/50\n",
            " 998/1000 [============================>.] - ETA: 0s - loss: 0.0877 - accuracy: 0.9905\n",
            "Epoch 15: val_loss did not improve from 0.12339\n",
            "1000/1000 [==============================] - 8s 8ms/step - loss: 0.0877 - accuracy: 0.9905 - val_loss: 0.1318 - val_accuracy: 0.9780\n",
            "Epoch 16/50\n",
            " 997/1000 [============================>.] - ETA: 0s - loss: 0.0846 - accuracy: 0.9917\n",
            "Epoch 16: val_loss did not improve from 0.12339\n",
            "1000/1000 [==============================] - 7s 7ms/step - loss: 0.0847 - accuracy: 0.9916 - val_loss: 0.1453 - val_accuracy: 0.9726\n",
            "Epoch 17/50\n",
            " 997/1000 [============================>.] - ETA: 0s - loss: 0.0850 - accuracy: 0.9909\n",
            "Epoch 17: val_loss did not improve from 0.12339\n",
            "1000/1000 [==============================] - 8s 8ms/step - loss: 0.0851 - accuracy: 0.9909 - val_loss: 0.1314 - val_accuracy: 0.9771\n",
            "Epoch 18/50\n",
            " 998/1000 [============================>.] - ETA: 0s - loss: 0.0812 - accuracy: 0.9917\n",
            "Epoch 18: val_loss did not improve from 0.12339\n",
            "1000/1000 [==============================] - 7s 7ms/step - loss: 0.0813 - accuracy: 0.9916 - val_loss: 0.1326 - val_accuracy: 0.9785\n",
            "Epoch 19/50\n",
            " 996/1000 [============================>.] - ETA: 0s - loss: 0.0795 - accuracy: 0.9921\n",
            "Epoch 19: val_loss improved from 0.12339 to 0.12131, saving model to mejor-modeloAL1L2.hdf5\n",
            "1000/1000 [==============================] - 8s 8ms/step - loss: 0.0795 - accuracy: 0.9921 - val_loss: 0.1213 - val_accuracy: 0.9803\n",
            "Epoch 20/50\n",
            " 995/1000 [============================>.] - ETA: 0s - loss: 0.0798 - accuracy: 0.9915\n",
            "Epoch 20: val_loss did not improve from 0.12131\n",
            "1000/1000 [==============================] - 7s 7ms/step - loss: 0.0799 - accuracy: 0.9916 - val_loss: 0.1218 - val_accuracy: 0.9816\n",
            "Epoch 21/50\n",
            " 997/1000 [============================>.] - ETA: 0s - loss: 0.0787 - accuracy: 0.9923\n",
            "Epoch 21: val_loss did not improve from 0.12131\n",
            "1000/1000 [==============================] - 8s 8ms/step - loss: 0.0787 - accuracy: 0.9923 - val_loss: 0.1264 - val_accuracy: 0.9789\n",
            "Epoch 22/50\n",
            " 999/1000 [============================>.] - ETA: 0s - loss: 0.0752 - accuracy: 0.9930\n",
            "Epoch 22: val_loss improved from 0.12131 to 0.11524, saving model to mejor-modeloAL1L2.hdf5\n",
            "1000/1000 [==============================] - 7s 7ms/step - loss: 0.0751 - accuracy: 0.9930 - val_loss: 0.1152 - val_accuracy: 0.9799\n",
            "Epoch 23/50\n",
            " 991/1000 [============================>.] - ETA: 0s - loss: 0.0788 - accuracy: 0.9918\n",
            "Epoch 23: val_loss did not improve from 0.11524\n",
            "1000/1000 [==============================] - 8s 8ms/step - loss: 0.0788 - accuracy: 0.9918 - val_loss: 0.1220 - val_accuracy: 0.9816\n",
            "Epoch 24/50\n",
            " 992/1000 [============================>.] - ETA: 0s - loss: 0.0778 - accuracy: 0.9921\n",
            "Epoch 24: val_loss did not improve from 0.11524\n",
            "1000/1000 [==============================] - 7s 7ms/step - loss: 0.0777 - accuracy: 0.9921 - val_loss: 0.1257 - val_accuracy: 0.9783\n",
            "Epoch 25/50\n",
            " 995/1000 [============================>.] - ETA: 0s - loss: 0.0758 - accuracy: 0.9925\n",
            "Epoch 25: val_loss did not improve from 0.11524\n",
            "1000/1000 [==============================] - 8s 8ms/step - loss: 0.0758 - accuracy: 0.9925 - val_loss: 0.1202 - val_accuracy: 0.9795\n",
            "Epoch 26/50\n",
            " 997/1000 [============================>.] - ETA: 0s - loss: 0.0744 - accuracy: 0.9928\n",
            "Epoch 26: val_loss did not improve from 0.11524\n",
            "1000/1000 [==============================] - 7s 7ms/step - loss: 0.0745 - accuracy: 0.9928 - val_loss: 0.1398 - val_accuracy: 0.9759\n",
            "Epoch 27/50\n",
            " 996/1000 [============================>.] - ETA: 0s - loss: 0.0729 - accuracy: 0.9926\n",
            "Epoch 27: val_loss did not improve from 0.11524\n",
            "1000/1000 [==============================] - 8s 8ms/step - loss: 0.0730 - accuracy: 0.9926 - val_loss: 0.1321 - val_accuracy: 0.9759\n",
            "Epoch 28/50\n",
            " 999/1000 [============================>.] - ETA: 0s - loss: 0.0722 - accuracy: 0.9934\n",
            "Epoch 28: val_loss did not improve from 0.11524\n",
            "1000/1000 [==============================] - 7s 7ms/step - loss: 0.0723 - accuracy: 0.9934 - val_loss: 0.1266 - val_accuracy: 0.9795\n",
            "Epoch 29/50\n",
            " 998/1000 [============================>.] - ETA: 0s - loss: 0.0727 - accuracy: 0.9928\n",
            "Epoch 29: val_loss did not improve from 0.11524\n",
            "1000/1000 [==============================] - 8s 8ms/step - loss: 0.0727 - accuracy: 0.9928 - val_loss: 0.1156 - val_accuracy: 0.9823\n",
            "Epoch 30/50\n",
            "1000/1000 [==============================] - ETA: 0s - loss: 0.0745 - accuracy: 0.9926\n",
            "Epoch 30: val_loss did not improve from 0.11524\n",
            "1000/1000 [==============================] - 8s 8ms/step - loss: 0.0745 - accuracy: 0.9926 - val_loss: 0.1470 - val_accuracy: 0.9721\n",
            "Epoch 31/50\n",
            " 993/1000 [============================>.] - ETA: 0s - loss: 0.0702 - accuracy: 0.9934\n",
            "Epoch 31: val_loss did not improve from 0.11524\n",
            "1000/1000 [==============================] - 7s 7ms/step - loss: 0.0702 - accuracy: 0.9934 - val_loss: 0.1174 - val_accuracy: 0.9824\n",
            "Epoch 32/50\n",
            " 999/1000 [============================>.] - ETA: 0s - loss: 0.0703 - accuracy: 0.9932\n",
            "Epoch 32: val_loss did not improve from 0.11524\n",
            "1000/1000 [==============================] - 8s 8ms/step - loss: 0.0703 - accuracy: 0.9933 - val_loss: 0.1249 - val_accuracy: 0.9797\n",
            "Epoch 33/50\n",
            " 995/1000 [============================>.] - ETA: 0s - loss: 0.0728 - accuracy: 0.9924\n",
            "Epoch 33: val_loss did not improve from 0.11524\n",
            "1000/1000 [==============================] - 6s 6ms/step - loss: 0.0728 - accuracy: 0.9924 - val_loss: 0.1230 - val_accuracy: 0.9807\n",
            "Epoch 34/50\n",
            " 992/1000 [============================>.] - ETA: 0s - loss: 0.0705 - accuracy: 0.9932\n",
            "Epoch 34: val_loss did not improve from 0.11524\n",
            "1000/1000 [==============================] - 8s 8ms/step - loss: 0.0705 - accuracy: 0.9932 - val_loss: 0.1188 - val_accuracy: 0.9812\n",
            "Epoch 35/50\n",
            " 993/1000 [============================>.] - ETA: 0s - loss: 0.0689 - accuracy: 0.9938\n",
            "Epoch 35: val_loss did not improve from 0.11524\n",
            "1000/1000 [==============================] - 7s 7ms/step - loss: 0.0690 - accuracy: 0.9937 - val_loss: 0.1217 - val_accuracy: 0.9800\n",
            "Epoch 36/50\n",
            " 999/1000 [============================>.] - ETA: 0s - loss: 0.0711 - accuracy: 0.9932\n",
            "Epoch 36: val_loss did not improve from 0.11524\n",
            "1000/1000 [==============================] - 8s 8ms/step - loss: 0.0711 - accuracy: 0.9932 - val_loss: 0.1205 - val_accuracy: 0.9806\n",
            "Epoch 37/50\n",
            "1000/1000 [==============================] - ETA: 0s - loss: 0.0669 - accuracy: 0.9939\n",
            "Epoch 37: val_loss did not improve from 0.11524\n",
            "1000/1000 [==============================] - 7s 7ms/step - loss: 0.0669 - accuracy: 0.9939 - val_loss: 0.1329 - val_accuracy: 0.9774\n",
            "Epoch 38/50\n",
            " 999/1000 [============================>.] - ETA: 0s - loss: 0.0723 - accuracy: 0.9921\n",
            "Epoch 38: val_loss did not improve from 0.11524\n",
            "1000/1000 [==============================] - 8s 8ms/step - loss: 0.0724 - accuracy: 0.9921 - val_loss: 0.1212 - val_accuracy: 0.9804\n",
            "Epoch 39/50\n",
            " 998/1000 [============================>.] - ETA: 0s - loss: 0.0675 - accuracy: 0.9942\n",
            "Epoch 39: val_loss did not improve from 0.11524\n",
            "1000/1000 [==============================] - 7s 7ms/step - loss: 0.0674 - accuracy: 0.9942 - val_loss: 0.1205 - val_accuracy: 0.9794\n",
            "Epoch 40/50\n",
            " 993/1000 [============================>.] - ETA: 0s - loss: 0.0678 - accuracy: 0.9935\n",
            "Epoch 40: val_loss did not improve from 0.11524\n",
            "1000/1000 [==============================] - 8s 8ms/step - loss: 0.0678 - accuracy: 0.9935 - val_loss: 0.1345 - val_accuracy: 0.9764\n",
            "Epoch 41/50\n",
            " 996/1000 [============================>.] - ETA: 0s - loss: 0.0694 - accuracy: 0.9927\n",
            "Epoch 41: val_loss did not improve from 0.11524\n",
            "1000/1000 [==============================] - 7s 7ms/step - loss: 0.0693 - accuracy: 0.9927 - val_loss: 0.1229 - val_accuracy: 0.9799\n",
            "Epoch 42/50\n",
            " 997/1000 [============================>.] - ETA: 0s - loss: 0.0700 - accuracy: 0.9930\n",
            "Epoch 42: val_loss did not improve from 0.11524\n",
            "1000/1000 [==============================] - 8s 8ms/step - loss: 0.0699 - accuracy: 0.9930 - val_loss: 0.1191 - val_accuracy: 0.9812\n",
            "Epoch 43/50\n",
            " 996/1000 [============================>.] - ETA: 0s - loss: 0.0655 - accuracy: 0.9940\n",
            "Epoch 43: val_loss did not improve from 0.11524\n",
            "1000/1000 [==============================] - 7s 7ms/step - loss: 0.0656 - accuracy: 0.9939 - val_loss: 0.1458 - val_accuracy: 0.9719\n",
            "Epoch 44/50\n",
            " 995/1000 [============================>.] - ETA: 0s - loss: 0.0667 - accuracy: 0.9937\n",
            "Epoch 44: val_loss did not improve from 0.11524\n",
            "1000/1000 [==============================] - 8s 8ms/step - loss: 0.0668 - accuracy: 0.9937 - val_loss: 0.1302 - val_accuracy: 0.9784\n",
            "Epoch 45/50\n",
            " 998/1000 [============================>.] - ETA: 0s - loss: 0.0694 - accuracy: 0.9928\n",
            "Epoch 45: val_loss did not improve from 0.11524\n",
            "1000/1000 [==============================] - 8s 8ms/step - loss: 0.0694 - accuracy: 0.9927 - val_loss: 0.1260 - val_accuracy: 0.9785\n",
            "Epoch 46/50\n",
            " 998/1000 [============================>.] - ETA: 0s - loss: 0.0666 - accuracy: 0.9936\n",
            "Epoch 46: val_loss did not improve from 0.11524\n",
            "1000/1000 [==============================] - 7s 7ms/step - loss: 0.0666 - accuracy: 0.9936 - val_loss: 0.1345 - val_accuracy: 0.9758\n",
            "Epoch 47/50\n",
            " 995/1000 [============================>.] - ETA: 0s - loss: 0.0664 - accuracy: 0.9933\n",
            "Epoch 47: val_loss did not improve from 0.11524\n",
            "1000/1000 [==============================] - 8s 8ms/step - loss: 0.0665 - accuracy: 0.9932 - val_loss: 0.1192 - val_accuracy: 0.9813\n",
            "Epoch 48/50\n",
            " 997/1000 [============================>.] - ETA: 0s - loss: 0.0641 - accuracy: 0.9944\n",
            "Epoch 48: val_loss did not improve from 0.11524\n",
            "1000/1000 [==============================] - 7s 7ms/step - loss: 0.0641 - accuracy: 0.9944 - val_loss: 0.1218 - val_accuracy: 0.9799\n",
            "Epoch 49/50\n",
            " 999/1000 [============================>.] - ETA: 0s - loss: 0.0652 - accuracy: 0.9938\n",
            "Epoch 49: val_loss did not improve from 0.11524\n",
            "1000/1000 [==============================] - 8s 8ms/step - loss: 0.0652 - accuracy: 0.9938 - val_loss: 0.1208 - val_accuracy: 0.9794\n",
            "Epoch 50/50\n",
            " 994/1000 [============================>.] - ETA: 0s - loss: 0.0657 - accuracy: 0.9935\n",
            "Epoch 50: val_loss did not improve from 0.11524\n",
            "1000/1000 [==============================] - 7s 7ms/step - loss: 0.0658 - accuracy: 0.9935 - val_loss: 0.1216 - val_accuracy: 0.9788\n"
          ]
        },
        {
          "output_type": "execute_result",
          "data": {
            "text/plain": [
              "<keras.src.callbacks.History at 0x78c21408f1c0>"
            ]
          },
          "metadata": {},
          "execution_count": 50
        }
      ]
    },
    {
      "cell_type": "code",
      "source": [
        "experiment.log_model(\"MNIST1\", \"mejor-modeloAL1L2.hdf5\")"
      ],
      "metadata": {
        "id": "-onR7D9SK9FN",
        "colab": {
          "base_uri": "https://localhost:8080/"
        },
        "outputId": "18e95278-3645-4ad6-c400-ec06d4799584"
      },
      "execution_count": 51,
      "outputs": [
        {
          "output_type": "execute_result",
          "data": {
            "text/plain": [
              "{'web': 'https://www.comet.com/api/asset/download?assetId=20890d30e0a24fa29ab5ce426d0436a3&experimentKey=c4a771f99f1142b9a7e2651e20cb07cc',\n",
              " 'api': 'https://www.comet.com/api/rest/v2/experiment/asset/get-asset?assetId=20890d30e0a24fa29ab5ce426d0436a3&experimentKey=c4a771f99f1142b9a7e2651e20cb07cc',\n",
              " 'assetId': '20890d30e0a24fa29ab5ce426d0436a3'}"
            ]
          },
          "metadata": {},
          "execution_count": 51
        }
      ]
    },
    {
      "cell_type": "code",
      "source": [
        "experiment.end()"
      ],
      "metadata": {
        "colab": {
          "base_uri": "https://localhost:8080/"
        },
        "id": "aGoU0WClHoJJ",
        "outputId": "6c326b36-bd6b-4323-fd32-c9c6faa7a3ae"
      },
      "execution_count": 52,
      "outputs": [
        {
          "output_type": "stream",
          "name": "stderr",
          "text": [
            "\u001b[1;38;5;39mCOMET INFO:\u001b[0m ---------------------------------------------------------------------------------------\n",
            "\u001b[1;38;5;39mCOMET INFO:\u001b[0m Comet.ml Experiment Summary\n",
            "\u001b[1;38;5;39mCOMET INFO:\u001b[0m ---------------------------------------------------------------------------------------\n",
            "\u001b[1;38;5;39mCOMET INFO:\u001b[0m   Data:\n",
            "\u001b[1;38;5;39mCOMET INFO:\u001b[0m     display_summary_level : 1\n",
            "\u001b[1;38;5;39mCOMET INFO:\u001b[0m     url                   : https://www.comet.com/emivk/rnadigits/c4a771f99f1142b9a7e2651e20cb07cc\n",
            "\u001b[1;38;5;39mCOMET INFO:\u001b[0m   Metrics [count] (min, max):\n",
            "\u001b[1;38;5;39mCOMET INFO:\u001b[0m     accuracy [50]                 : (0.9304999709129333, 0.9944166541099548)\n",
            "\u001b[1;38;5;39mCOMET INFO:\u001b[0m     batch_accuracy [5000]         : (0.0833333358168602, 1.0)\n",
            "\u001b[1;38;5;39mCOMET INFO:\u001b[0m     batch_loss [5000]             : (0.049571212381124496, 2.463705539703369)\n",
            "\u001b[1;38;5;39mCOMET INFO:\u001b[0m     epoch_duration [50]           : (6.371703303999311, 10.546300173000418)\n",
            "\u001b[1;38;5;39mCOMET INFO:\u001b[0m     loss [50]                     : (0.06410612165927887, 0.3269643187522888)\n",
            "\u001b[1;38;5;39mCOMET INFO:\u001b[0m     val_accuracy [50]             : (0.9635999798774719, 0.9824000000953674)\n",
            "\u001b[1;38;5;39mCOMET INFO:\u001b[0m     val_loss [50]                 : (0.11523669213056564, 0.20683442056179047)\n",
            "\u001b[1;38;5;39mCOMET INFO:\u001b[0m     validate_batch_accuracy [850] : (0.9530516266822815, 1.0)\n",
            "\u001b[1;38;5;39mCOMET INFO:\u001b[0m     validate_batch_loss [850]     : (0.04818899556994438, 0.24371282756328583)\n",
            "\u001b[1;38;5;39mCOMET INFO:\u001b[0m   Others:\n",
            "\u001b[1;38;5;39mCOMET INFO:\u001b[0m     trainable_params : 178110\n",
            "\u001b[1;38;5;39mCOMET INFO:\u001b[0m   Parameters:\n",
            "\u001b[1;38;5;39mCOMET INFO:\u001b[0m     Adam_amsgrad                 : False\n",
            "\u001b[1;38;5;39mCOMET INFO:\u001b[0m     Adam_beta_1                  : 0.9\n",
            "\u001b[1;38;5;39mCOMET INFO:\u001b[0m     Adam_beta_2                  : 0.999\n",
            "\u001b[1;38;5;39mCOMET INFO:\u001b[0m     Adam_clipnorm                : 1\n",
            "\u001b[1;38;5;39mCOMET INFO:\u001b[0m     Adam_clipvalue               : 1\n",
            "\u001b[1;38;5;39mCOMET INFO:\u001b[0m     Adam_ema_momentum            : 0.99\n",
            "\u001b[1;38;5;39mCOMET INFO:\u001b[0m     Adam_ema_overwrite_frequency : 1\n",
            "\u001b[1;38;5;39mCOMET INFO:\u001b[0m     Adam_epsilon                 : 1e-07\n",
            "\u001b[1;38;5;39mCOMET INFO:\u001b[0m     Adam_global_clipnorm         : 1\n",
            "\u001b[1;38;5;39mCOMET INFO:\u001b[0m     Adam_is_legacy_optimizer     : False\n",
            "\u001b[1;38;5;39mCOMET INFO:\u001b[0m     Adam_jit_compile             : False\n",
            "\u001b[1;38;5;39mCOMET INFO:\u001b[0m     Adam_learning_rate           : 0.0010000000474974513\n",
            "\u001b[1;38;5;39mCOMET INFO:\u001b[0m     Adam_name                    : Adam\n",
            "\u001b[1;38;5;39mCOMET INFO:\u001b[0m     Adam_use_ema                 : False\n",
            "\u001b[1;38;5;39mCOMET INFO:\u001b[0m     Adam_weight_decay            : 1\n",
            "\u001b[1;38;5;39mCOMET INFO:\u001b[0m     batch_size                   : 60\n",
            "\u001b[1;38;5;39mCOMET INFO:\u001b[0m     epochs                       : 50\n",
            "\u001b[1;38;5;39mCOMET INFO:\u001b[0m     loss                         : categorical_crossentropy\n",
            "\u001b[1;38;5;39mCOMET INFO:\u001b[0m     optimizer                    : Adam\n",
            "\u001b[1;38;5;39mCOMET INFO:\u001b[0m     steps                        : 1000\n",
            "\u001b[1;38;5;39mCOMET INFO:\u001b[0m   Uploads:\n",
            "\u001b[1;38;5;39mCOMET INFO:\u001b[0m     environment details : 1\n",
            "\u001b[1;38;5;39mCOMET INFO:\u001b[0m     filename            : 1\n",
            "\u001b[1;38;5;39mCOMET INFO:\u001b[0m     histogram3d         : 459\n",
            "\u001b[1;38;5;39mCOMET INFO:\u001b[0m     installed packages  : 1\n",
            "\u001b[1;38;5;39mCOMET INFO:\u001b[0m     model graph         : 1\n",
            "\u001b[1;38;5;39mCOMET INFO:\u001b[0m     model-element       : 1 (2.07 MB)\n",
            "\u001b[1;38;5;39mCOMET INFO:\u001b[0m     notebook            : 2\n",
            "\u001b[1;38;5;39mCOMET INFO:\u001b[0m     os packages         : 1\n",
            "\u001b[1;38;5;39mCOMET INFO:\u001b[0m     source_code         : 1\n",
            "\u001b[1;38;5;39mCOMET INFO:\u001b[0m \n",
            "\u001b[1;38;5;39mCOMET INFO:\u001b[0m Uploading 1 metrics, params and output messages\n"
          ]
        }
      ]
    }
  ]
}