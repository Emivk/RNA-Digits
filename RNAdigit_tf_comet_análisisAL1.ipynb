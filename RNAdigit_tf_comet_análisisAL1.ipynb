{
  "nbformat": 4,
  "nbformat_minor": 0,
  "metadata": {
    "colab": {
      "provenance": [],
      "include_colab_link": true
    },
    "kernelspec": {
      "name": "python3",
      "display_name": "Python 3"
    },
    "language_info": {
      "name": "python"
    }
  },
  "cells": [
    {
      "cell_type": "markdown",
      "metadata": {
        "id": "view-in-github",
        "colab_type": "text"
      },
      "source": [
        "<a href=\"https://colab.research.google.com/github/Emivk/RNA-Digits/blob/master/RNAdigit_tf_comet_an%C3%A1lisisAL1.ipynb\" target=\"_parent\"><img src=\"https://colab.research.google.com/assets/colab-badge.svg\" alt=\"Open In Colab\"/></a>"
      ]
    },
    {
      "cell_type": "code",
      "execution_count": 1,
      "metadata": {
        "colab": {
          "base_uri": "https://localhost:8080/"
        },
        "id": "L_Zg2IxMAiPk",
        "outputId": "3a931711-23f2-46e4-acc6-6072411b728b"
      },
      "outputs": [
        {
          "output_type": "stream",
          "name": "stdout",
          "text": [
            "Requirement already satisfied: comet_ml in /usr/local/lib/python3.10/dist-packages (3.33.10)\n",
            "Requirement already satisfied: jsonschema!=3.1.0,>=2.6.0 in /usr/local/lib/python3.10/dist-packages (from comet_ml) (4.19.0)\n",
            "Requirement already satisfied: psutil>=5.6.3 in /usr/local/lib/python3.10/dist-packages (from comet_ml) (5.9.5)\n",
            "Requirement already satisfied: python-box<7.0.0 in /usr/local/lib/python3.10/dist-packages (from comet_ml) (6.1.0)\n",
            "Requirement already satisfied: requests-toolbelt>=0.8.0 in /usr/local/lib/python3.10/dist-packages (from comet_ml) (1.0.0)\n",
            "Requirement already satisfied: requests>=2.18.4 in /usr/local/lib/python3.10/dist-packages (from comet_ml) (2.31.0)\n",
            "Requirement already satisfied: semantic-version>=2.8.0 in /usr/local/lib/python3.10/dist-packages (from comet_ml) (2.10.0)\n",
            "Requirement already satisfied: sentry-sdk>=1.1.0 in /usr/local/lib/python3.10/dist-packages (from comet_ml) (1.31.0)\n",
            "Requirement already satisfied: simplejson in /usr/local/lib/python3.10/dist-packages (from comet_ml) (3.19.1)\n",
            "Requirement already satisfied: six in /usr/local/lib/python3.10/dist-packages (from comet_ml) (1.16.0)\n",
            "Requirement already satisfied: urllib3>=1.21.1 in /usr/local/lib/python3.10/dist-packages (from comet_ml) (2.0.4)\n",
            "Requirement already satisfied: websocket-client<1.4.0,>=0.55.0 in /usr/local/lib/python3.10/dist-packages (from comet_ml) (1.3.3)\n",
            "Requirement already satisfied: wrapt>=1.11.2 in /usr/local/lib/python3.10/dist-packages (from comet_ml) (1.15.0)\n",
            "Requirement already satisfied: wurlitzer>=1.0.2 in /usr/local/lib/python3.10/dist-packages (from comet_ml) (3.0.3)\n",
            "Requirement already satisfied: everett[ini]<3.2.0,>=1.0.1 in /usr/local/lib/python3.10/dist-packages (from comet_ml) (3.1.0)\n",
            "Requirement already satisfied: dulwich!=0.20.33,>=0.20.6 in /usr/local/lib/python3.10/dist-packages (from comet_ml) (0.21.6)\n",
            "Requirement already satisfied: rich>=13.3.2 in /usr/local/lib/python3.10/dist-packages (from comet_ml) (13.5.2)\n",
            "Requirement already satisfied: configobj in /usr/local/lib/python3.10/dist-packages (from everett[ini]<3.2.0,>=1.0.1->comet_ml) (5.0.8)\n",
            "Requirement already satisfied: attrs>=22.2.0 in /usr/local/lib/python3.10/dist-packages (from jsonschema!=3.1.0,>=2.6.0->comet_ml) (23.1.0)\n",
            "Requirement already satisfied: jsonschema-specifications>=2023.03.6 in /usr/local/lib/python3.10/dist-packages (from jsonschema!=3.1.0,>=2.6.0->comet_ml) (2023.7.1)\n",
            "Requirement already satisfied: referencing>=0.28.4 in /usr/local/lib/python3.10/dist-packages (from jsonschema!=3.1.0,>=2.6.0->comet_ml) (0.30.2)\n",
            "Requirement already satisfied: rpds-py>=0.7.1 in /usr/local/lib/python3.10/dist-packages (from jsonschema!=3.1.0,>=2.6.0->comet_ml) (0.10.2)\n",
            "Requirement already satisfied: charset-normalizer<4,>=2 in /usr/local/lib/python3.10/dist-packages (from requests>=2.18.4->comet_ml) (3.2.0)\n",
            "Requirement already satisfied: idna<4,>=2.5 in /usr/local/lib/python3.10/dist-packages (from requests>=2.18.4->comet_ml) (3.4)\n",
            "Requirement already satisfied: certifi>=2017.4.17 in /usr/local/lib/python3.10/dist-packages (from requests>=2.18.4->comet_ml) (2023.7.22)\n",
            "Requirement already satisfied: markdown-it-py>=2.2.0 in /usr/local/lib/python3.10/dist-packages (from rich>=13.3.2->comet_ml) (3.0.0)\n",
            "Requirement already satisfied: pygments<3.0.0,>=2.13.0 in /usr/local/lib/python3.10/dist-packages (from rich>=13.3.2->comet_ml) (2.16.1)\n",
            "Requirement already satisfied: mdurl~=0.1 in /usr/local/lib/python3.10/dist-packages (from markdown-it-py>=2.2.0->rich>=13.3.2->comet_ml) (0.1.2)\n"
          ]
        }
      ],
      "source": [
        "%pip install comet_ml"
      ]
    },
    {
      "cell_type": "code",
      "source": [
        "import comet_ml\n",
        "comet_ml.init(project_name=\"rnadigits\")"
      ],
      "metadata": {
        "id": "g6hZpUiPAtrC"
      },
      "execution_count": 13,
      "outputs": []
    },
    {
      "cell_type": "code",
      "source": [
        "import tensorflow as tf\n",
        "from tensorflow import keras\n",
        "from tensorflow.keras.datasets import mnist\n",
        "from tensorflow.keras.models import Sequential\n",
        "from tensorflow.keras.layers import Dense, Dropout, Activation, Flatten, Input\n",
        "from tensorflow.keras.optimizers import RMSprop, SGD, Adam\n",
        "from tensorflow.keras import regularizers\n",
        "from keras.callbacks import ModelCheckpoint"
      ],
      "metadata": {
        "id": "czgl5_6tA7Pe"
      },
      "execution_count": 14,
      "outputs": []
    },
    {
      "cell_type": "code",
      "source": [
        "experiment = comet_ml.Experiment(\n",
        "    auto_histogram_weight_logging=True,\n",
        "    auto_histogram_gradient_logging=True,\n",
        "    auto_histogram_activation_logging=True,\n",
        "    log_code=True,\n",
        ")"
      ],
      "metadata": {
        "colab": {
          "base_uri": "https://localhost:8080/"
        },
        "id": "j__tspO4BGYR",
        "outputId": "eecd0f39-820a-464f-a718-1fdfbe4e688b"
      },
      "execution_count": 31,
      "outputs": [
        {
          "output_type": "stream",
          "name": "stderr",
          "text": [
            "\u001b[1;38;5;214mCOMET WARNING:\u001b[0m As you are running in a Jupyter environment, you will need to call `experiment.end()` when finished to ensure all metrics and code are logged before exiting.\n",
            "\u001b[1;38;5;39mCOMET INFO:\u001b[0m Couldn't find a Git repository in '/content' nor in any parent directory. Set `COMET_GIT_DIRECTORY` if your Git Repository is elsewhere.\n",
            "\u001b[1;38;5;39mCOMET INFO:\u001b[0m Experiment is live on comet.com https://www.comet.com/emivk/rnadigits/ba91d9751a964afa9ac5597d2531ab1b\n",
            "\n"
          ]
        }
      ]
    },
    {
      "cell_type": "code",
      "source": [
        "dataset=mnist.load_data()\n",
        "(x_train, y_train), (x_test, y_test) = dataset\n",
        "\n",
        "x_train = x_train.astype('float32')\n",
        "x_test = x_test.astype('float32')\n",
        "\n",
        "x_train /= 255  # x_trainv = x_trainv/255\n",
        "x_test /= 255\n",
        "\n",
        "num_classes=10\n",
        "y_trainc = keras.utils.to_categorical(y_train, num_classes)\n",
        "y_testc = keras.utils.to_categorical(y_test, num_classes)"
      ],
      "metadata": {
        "id": "qJNeAdHbBUM-"
      },
      "execution_count": 32,
      "outputs": []
    },
    {
      "cell_type": "code",
      "source": [
        "parameters = {\n",
        "    \"batch_size\": 60,\n",
        "    \"epochs\": 50,\n",
        "    \"optimizer\": \"Adam\",\n",
        "    \"loss\": \"categorical_crossentropy\",\n",
        "}\n",
        "\n",
        "experiment.log_parameters(parameters)"
      ],
      "metadata": {
        "id": "zbiaW1VkBHH6"
      },
      "execution_count": 33,
      "outputs": []
    },
    {
      "cell_type": "code",
      "source": [
        "model = Sequential()\n",
        "model.add(Input(shape=(28,28))) #Flaten no tiene la opcion input_shape por lo tanto se tiene que agregar esta capa\n",
        "model.add(Flatten()) #Otra forma de aplanar las imagenes\n",
        "model.add(Dense(200, activation='relu', kernel_regularizer=regularizers.L1(0.01)))\n",
        "model.add(Dense(100, activation='relu', kernel_regularizer=regularizers.L1(0.01)))\n",
        "\n",
        "#model.add(Dense(400, activation='relu', kernel_regularizer=regularizers.L1L2(l1=1e-5, l2=1e-4))) #Regularizacion L1L2\n",
        "#model.add(Dropout(0.2)) #Fraccion de enlaces a eliminar\n",
        "#model.add(Dense(200)) #Capa lineal , transformacion lineal sin funcion de activacion\n",
        "#model.add(Activation('tanh')) #Se puede agregar despues la funcion de activacion\n",
        "#model.add(Dense(400, activation='selu', kernel_regularizer=regularizers.L1(0.01) )) #Regularizacion L1\n",
        "#model.add(Dense(200, activation='elu', kernel_regularizer=regularizers.L2(l2=1e-4)) ) #Regularizacion L2\n",
        "#model.add(Dense(50,activation='exponential'))\n",
        "model.add(Dense(10, activation='softmax'))\n",
        "\n",
        "model.summary()"
      ],
      "metadata": {
        "colab": {
          "base_uri": "https://localhost:8080/"
        },
        "id": "GUl8whP1BOdy",
        "outputId": "263b522c-49d2-480c-e8d1-16474df64068"
      },
      "execution_count": 34,
      "outputs": [
        {
          "output_type": "stream",
          "name": "stdout",
          "text": [
            "Model: \"sequential_3\"\n",
            "_________________________________________________________________\n",
            " Layer (type)                Output Shape              Param #   \n",
            "=================================================================\n",
            " flatten_3 (Flatten)         (None, 784)               0         \n",
            "                                                                 \n",
            " dense_10 (Dense)            (None, 200)               157000    \n",
            "                                                                 \n",
            " dense_11 (Dense)            (None, 100)               20100     \n",
            "                                                                 \n",
            " dense_12 (Dense)            (None, 10)                1010      \n",
            "                                                                 \n",
            "=================================================================\n",
            "Total params: 178110 (695.74 KB)\n",
            "Trainable params: 178110 (695.74 KB)\n",
            "Non-trainable params: 0 (0.00 Byte)\n",
            "_________________________________________________________________\n"
          ]
        }
      ]
    },
    {
      "cell_type": "code",
      "source": [
        "# specify the path where you want to save the model\n",
        "filepath = \"mejor-modeloAL1.hdf5\"\n",
        "\n",
        "# initialize the ModelCheckpoint callback\n",
        "checkpoint = ModelCheckpoint(filepath, monitor='val_loss', verbose=1, save_best_only=True, mode='min')"
      ],
      "metadata": {
        "id": "yickXqeNHaGo"
      },
      "execution_count": 35,
      "outputs": []
    },
    {
      "cell_type": "code",
      "source": [
        "model.compile(loss=parameters['loss'],optimizer=parameters['optimizer'],metrics=['accuracy'])\n",
        "model.fit(x_train, y_trainc,\n",
        "                    batch_size=parameters['batch_size'],\n",
        "                    epochs=parameters[\"epochs\"],\n",
        "                    verbose=1,\n",
        "                    validation_data=(x_test, y_testc),\n",
        "                    callbacks=[checkpoint])"
      ],
      "metadata": {
        "colab": {
          "base_uri": "https://localhost:8080/"
        },
        "id": "RipmZnRwEznJ",
        "outputId": "3d25cee8-a045-4631-f7d2-968fab10ef8f"
      },
      "execution_count": 36,
      "outputs": [
        {
          "output_type": "stream",
          "name": "stdout",
          "text": [
            "Epoch 1/50\n",
            "1000/1000 [==============================] - ETA: 0s - loss: 4.1256 - accuracy: 0.7544\n",
            "Epoch 1: val_loss improved from inf to 1.36458, saving model to mejor-modeloAL1.hdf5\n",
            "1000/1000 [==============================] - 9s 8ms/step - loss: 4.1256 - accuracy: 0.7544 - val_loss: 1.3646 - val_accuracy: 0.8405\n",
            "Epoch 2/50\n",
            " 996/1000 [============================>.] - ETA: 0s - loss: 1.3152 - accuracy: 0.8459\n",
            "Epoch 2: val_loss improved from 1.36458 to 1.22235, saving model to mejor-modeloAL1.hdf5\n",
            "1000/1000 [==============================] - 7s 7ms/step - loss: 1.3148 - accuracy: 0.8460 - val_loss: 1.2224 - val_accuracy: 0.8600\n",
            "Epoch 3/50\n",
            " 998/1000 [============================>.] - ETA: 0s - loss: 1.2124 - accuracy: 0.8573\n",
            "Epoch 3: val_loss improved from 1.22235 to 1.16545, saving model to mejor-modeloAL1.hdf5\n",
            "1000/1000 [==============================] - 8s 8ms/step - loss: 1.2125 - accuracy: 0.8573 - val_loss: 1.1655 - val_accuracy: 0.8658\n",
            "Epoch 4/50\n",
            " 993/1000 [============================>.] - ETA: 0s - loss: 1.1610 - accuracy: 0.8652\n",
            "Epoch 4: val_loss improved from 1.16545 to 1.11155, saving model to mejor-modeloAL1.hdf5\n",
            "1000/1000 [==============================] - 7s 7ms/step - loss: 1.1614 - accuracy: 0.8649 - val_loss: 1.1115 - val_accuracy: 0.8753\n",
            "Epoch 5/50\n",
            " 998/1000 [============================>.] - ETA: 0s - loss: 1.1246 - accuracy: 0.8672\n",
            "Epoch 5: val_loss improved from 1.11155 to 1.07929, saving model to mejor-modeloAL1.hdf5\n",
            "1000/1000 [==============================] - 9s 9ms/step - loss: 1.1244 - accuracy: 0.8673 - val_loss: 1.0793 - val_accuracy: 0.8783\n",
            "Epoch 6/50\n",
            " 996/1000 [============================>.] - ETA: 0s - loss: 1.0944 - accuracy: 0.8722\n",
            "Epoch 6: val_loss improved from 1.07929 to 1.05446, saving model to mejor-modeloAL1.hdf5\n",
            "1000/1000 [==============================] - 6s 6ms/step - loss: 1.0944 - accuracy: 0.8722 - val_loss: 1.0545 - val_accuracy: 0.8808\n",
            "Epoch 7/50\n",
            " 995/1000 [============================>.] - ETA: 0s - loss: 1.0709 - accuracy: 0.8739\n",
            "Epoch 7: val_loss improved from 1.05446 to 1.04640, saving model to mejor-modeloAL1.hdf5\n",
            "1000/1000 [==============================] - 8s 8ms/step - loss: 1.0707 - accuracy: 0.8738 - val_loss: 1.0464 - val_accuracy: 0.8833\n",
            "Epoch 8/50\n",
            " 992/1000 [============================>.] - ETA: 0s - loss: 1.0563 - accuracy: 0.8757\n",
            "Epoch 8: val_loss improved from 1.04640 to 1.02859, saving model to mejor-modeloAL1.hdf5\n",
            "1000/1000 [==============================] - 7s 7ms/step - loss: 1.0561 - accuracy: 0.8758 - val_loss: 1.0286 - val_accuracy: 0.8827\n",
            "Epoch 9/50\n",
            " 994/1000 [============================>.] - ETA: 0s - loss: 1.0401 - accuracy: 0.8764\n",
            "Epoch 9: val_loss improved from 1.02859 to 1.02086, saving model to mejor-modeloAL1.hdf5\n",
            "1000/1000 [==============================] - 8s 8ms/step - loss: 1.0401 - accuracy: 0.8763 - val_loss: 1.0209 - val_accuracy: 0.8760\n",
            "Epoch 10/50\n",
            " 996/1000 [============================>.] - ETA: 0s - loss: 1.0247 - accuracy: 0.8768\n",
            "Epoch 10: val_loss improved from 1.02086 to 0.99651, saving model to mejor-modeloAL1.hdf5\n",
            "1000/1000 [==============================] - 6s 6ms/step - loss: 1.0248 - accuracy: 0.8768 - val_loss: 0.9965 - val_accuracy: 0.8859\n",
            "Epoch 11/50\n",
            " 996/1000 [============================>.] - ETA: 0s - loss: 1.0156 - accuracy: 0.8787\n",
            "Epoch 11: val_loss improved from 0.99651 to 0.98686, saving model to mejor-modeloAL1.hdf5\n",
            "1000/1000 [==============================] - 8s 8ms/step - loss: 1.0155 - accuracy: 0.8787 - val_loss: 0.9869 - val_accuracy: 0.8867\n",
            "Epoch 12/50\n",
            " 995/1000 [============================>.] - ETA: 0s - loss: 1.0083 - accuracy: 0.8786\n",
            "Epoch 12: val_loss did not improve from 0.98686\n",
            "1000/1000 [==============================] - 7s 7ms/step - loss: 1.0083 - accuracy: 0.8786 - val_loss: 1.0011 - val_accuracy: 0.8746\n",
            "Epoch 13/50\n",
            " 998/1000 [============================>.] - ETA: 0s - loss: 0.9985 - accuracy: 0.8789\n",
            "Epoch 13: val_loss improved from 0.98686 to 0.96962, saving model to mejor-modeloAL1.hdf5\n",
            "1000/1000 [==============================] - 8s 8ms/step - loss: 0.9984 - accuracy: 0.8789 - val_loss: 0.9696 - val_accuracy: 0.8858\n",
            "Epoch 14/50\n",
            " 999/1000 [============================>.] - ETA: 0s - loss: 0.9922 - accuracy: 0.8784\n",
            "Epoch 14: val_loss did not improve from 0.96962\n",
            "1000/1000 [==============================] - 7s 7ms/step - loss: 0.9922 - accuracy: 0.8784 - val_loss: 0.9760 - val_accuracy: 0.8869\n",
            "Epoch 15/50\n",
            " 994/1000 [============================>.] - ETA: 0s - loss: 0.9838 - accuracy: 0.8799\n",
            "Epoch 15: val_loss did not improve from 0.96962\n",
            "1000/1000 [==============================] - 8s 8ms/step - loss: 0.9837 - accuracy: 0.8799 - val_loss: 0.9907 - val_accuracy: 0.8765\n",
            "Epoch 16/50\n",
            " 996/1000 [============================>.] - ETA: 0s - loss: 0.9797 - accuracy: 0.8795\n",
            "Epoch 16: val_loss did not improve from 0.96962\n",
            "1000/1000 [==============================] - 8s 8ms/step - loss: 0.9800 - accuracy: 0.8795 - val_loss: 0.9873 - val_accuracy: 0.8781\n",
            "Epoch 17/50\n",
            " 999/1000 [============================>.] - ETA: 0s - loss: 0.9744 - accuracy: 0.8796\n",
            "Epoch 17: val_loss improved from 0.96962 to 0.94574, saving model to mejor-modeloAL1.hdf5\n",
            "1000/1000 [==============================] - 7s 7ms/step - loss: 0.9745 - accuracy: 0.8796 - val_loss: 0.9457 - val_accuracy: 0.8893\n",
            "Epoch 18/50\n",
            "1000/1000 [==============================] - ETA: 0s - loss: 0.9676 - accuracy: 0.8805\n",
            "Epoch 18: val_loss improved from 0.94574 to 0.94566, saving model to mejor-modeloAL1.hdf5\n",
            "1000/1000 [==============================] - 8s 8ms/step - loss: 0.9676 - accuracy: 0.8805 - val_loss: 0.9457 - val_accuracy: 0.8835\n",
            "Epoch 19/50\n",
            "1000/1000 [==============================] - ETA: 0s - loss: 0.9622 - accuracy: 0.8829\n",
            "Epoch 19: val_loss improved from 0.94566 to 0.93277, saving model to mejor-modeloAL1.hdf5\n",
            "1000/1000 [==============================] - 7s 7ms/step - loss: 0.9622 - accuracy: 0.8829 - val_loss: 0.9328 - val_accuracy: 0.8868\n",
            "Epoch 20/50\n",
            " 994/1000 [============================>.] - ETA: 0s - loss: 0.9599 - accuracy: 0.8812\n",
            "Epoch 20: val_loss improved from 0.93277 to 0.92750, saving model to mejor-modeloAL1.hdf5\n",
            "1000/1000 [==============================] - 8s 8ms/step - loss: 0.9600 - accuracy: 0.8812 - val_loss: 0.9275 - val_accuracy: 0.8917\n",
            "Epoch 21/50\n",
            " 994/1000 [============================>.] - ETA: 0s - loss: 0.9551 - accuracy: 0.8820\n",
            "Epoch 21: val_loss did not improve from 0.92750\n",
            "1000/1000 [==============================] - 7s 7ms/step - loss: 0.9549 - accuracy: 0.8820 - val_loss: 0.9381 - val_accuracy: 0.8861\n",
            "Epoch 22/50\n",
            " 993/1000 [============================>.] - ETA: 0s - loss: 0.9487 - accuracy: 0.8820\n",
            "Epoch 22: val_loss did not improve from 0.92750\n",
            "1000/1000 [==============================] - 8s 8ms/step - loss: 0.9487 - accuracy: 0.8820 - val_loss: 0.9329 - val_accuracy: 0.8853\n",
            "Epoch 23/50\n",
            " 994/1000 [============================>.] - ETA: 0s - loss: 0.9433 - accuracy: 0.8827\n",
            "Epoch 23: val_loss did not improve from 0.92750\n",
            "1000/1000 [==============================] - 7s 7ms/step - loss: 0.9432 - accuracy: 0.8827 - val_loss: 0.9485 - val_accuracy: 0.8822\n",
            "Epoch 24/50\n",
            " 991/1000 [============================>.] - ETA: 0s - loss: 0.9420 - accuracy: 0.8819\n",
            "Epoch 24: val_loss improved from 0.92750 to 0.91556, saving model to mejor-modeloAL1.hdf5\n",
            "1000/1000 [==============================] - 8s 8ms/step - loss: 0.9423 - accuracy: 0.8819 - val_loss: 0.9156 - val_accuracy: 0.8887\n",
            "Epoch 25/50\n",
            " 994/1000 [============================>.] - ETA: 0s - loss: 0.9408 - accuracy: 0.8819\n",
            "Epoch 25: val_loss did not improve from 0.91556\n",
            "1000/1000 [==============================] - 7s 7ms/step - loss: 0.9409 - accuracy: 0.8819 - val_loss: 0.9169 - val_accuracy: 0.8897\n",
            "Epoch 26/50\n",
            " 999/1000 [============================>.] - ETA: 0s - loss: 0.9360 - accuracy: 0.8816\n",
            "Epoch 26: val_loss improved from 0.91556 to 0.90635, saving model to mejor-modeloAL1.hdf5\n",
            "1000/1000 [==============================] - 8s 8ms/step - loss: 0.9360 - accuracy: 0.8816 - val_loss: 0.9064 - val_accuracy: 0.8863\n",
            "Epoch 27/50\n",
            "1000/1000 [==============================] - ETA: 0s - loss: 0.9306 - accuracy: 0.8817\n",
            "Epoch 27: val_loss did not improve from 0.90635\n",
            "1000/1000 [==============================] - 7s 7ms/step - loss: 0.9306 - accuracy: 0.8817 - val_loss: 0.9200 - val_accuracy: 0.8842\n",
            "Epoch 28/50\n",
            " 994/1000 [============================>.] - ETA: 0s - loss: 0.9281 - accuracy: 0.8837\n",
            "Epoch 28: val_loss improved from 0.90635 to 0.90280, saving model to mejor-modeloAL1.hdf5\n",
            "1000/1000 [==============================] - 8s 8ms/step - loss: 0.9280 - accuracy: 0.8838 - val_loss: 0.9028 - val_accuracy: 0.8876\n",
            "Epoch 29/50\n",
            " 997/1000 [============================>.] - ETA: 0s - loss: 0.9263 - accuracy: 0.8834\n",
            "Epoch 29: val_loss did not improve from 0.90280\n",
            "1000/1000 [==============================] - 8s 8ms/step - loss: 0.9264 - accuracy: 0.8834 - val_loss: 0.9256 - val_accuracy: 0.8861\n",
            "Epoch 30/50\n",
            "1000/1000 [==============================] - ETA: 0s - loss: 0.9226 - accuracy: 0.8835\n",
            "Epoch 30: val_loss improved from 0.90280 to 0.89073, saving model to mejor-modeloAL1.hdf5\n",
            "1000/1000 [==============================] - 7s 7ms/step - loss: 0.9226 - accuracy: 0.8835 - val_loss: 0.8907 - val_accuracy: 0.8903\n",
            "Epoch 31/50\n",
            "1000/1000 [==============================] - ETA: 0s - loss: 0.9210 - accuracy: 0.8827\n",
            "Epoch 31: val_loss did not improve from 0.89073\n",
            "1000/1000 [==============================] - 8s 8ms/step - loss: 0.9210 - accuracy: 0.8827 - val_loss: 0.9135 - val_accuracy: 0.8861\n",
            "Epoch 32/50\n",
            " 996/1000 [============================>.] - ETA: 0s - loss: 0.9193 - accuracy: 0.8836\n",
            "Epoch 32: val_loss did not improve from 0.89073\n",
            "1000/1000 [==============================] - 6s 6ms/step - loss: 0.9192 - accuracy: 0.8836 - val_loss: 0.9062 - val_accuracy: 0.8876\n",
            "Epoch 33/50\n",
            "1000/1000 [==============================] - ETA: 0s - loss: 0.9154 - accuracy: 0.8826\n",
            "Epoch 33: val_loss did not improve from 0.89073\n",
            "1000/1000 [==============================] - 8s 8ms/step - loss: 0.9154 - accuracy: 0.8826 - val_loss: 0.9041 - val_accuracy: 0.8859\n",
            "Epoch 34/50\n",
            " 991/1000 [============================>.] - ETA: 0s - loss: 0.9181 - accuracy: 0.8827\n",
            "Epoch 34: val_loss did not improve from 0.89073\n",
            "1000/1000 [==============================] - 6s 6ms/step - loss: 0.9186 - accuracy: 0.8825 - val_loss: 0.8980 - val_accuracy: 0.8864\n",
            "Epoch 35/50\n",
            " 998/1000 [============================>.] - ETA: 0s - loss: 0.9129 - accuracy: 0.8829\n",
            "Epoch 35: val_loss did not improve from 0.89073\n",
            "1000/1000 [==============================] - 8s 8ms/step - loss: 0.9128 - accuracy: 0.8830 - val_loss: 0.9171 - val_accuracy: 0.8784\n",
            "Epoch 36/50\n",
            " 998/1000 [============================>.] - ETA: 0s - loss: 0.9095 - accuracy: 0.8847\n",
            "Epoch 36: val_loss did not improve from 0.89073\n",
            "1000/1000 [==============================] - 7s 7ms/step - loss: 0.9095 - accuracy: 0.8847 - val_loss: 0.8956 - val_accuracy: 0.8872\n",
            "Epoch 37/50\n",
            "1000/1000 [==============================] - ETA: 0s - loss: 0.9066 - accuracy: 0.8841\n",
            "Epoch 37: val_loss improved from 0.89073 to 0.89070, saving model to mejor-modeloAL1.hdf5\n",
            "1000/1000 [==============================] - 8s 8ms/step - loss: 0.9066 - accuracy: 0.8841 - val_loss: 0.8907 - val_accuracy: 0.8906\n",
            "Epoch 38/50\n",
            " 994/1000 [============================>.] - ETA: 0s - loss: 0.9067 - accuracy: 0.8848\n",
            "Epoch 38: val_loss improved from 0.89070 to 0.87715, saving model to mejor-modeloAL1.hdf5\n",
            "1000/1000 [==============================] - 7s 7ms/step - loss: 0.9067 - accuracy: 0.8848 - val_loss: 0.8771 - val_accuracy: 0.8898\n",
            "Epoch 39/50\n",
            " 992/1000 [============================>.] - ETA: 0s - loss: 0.9067 - accuracy: 0.8824\n",
            "Epoch 39: val_loss improved from 0.87715 to 0.87294, saving model to mejor-modeloAL1.hdf5\n",
            "1000/1000 [==============================] - 8s 8ms/step - loss: 0.9067 - accuracy: 0.8823 - val_loss: 0.8729 - val_accuracy: 0.8934\n",
            "Epoch 40/50\n",
            " 992/1000 [============================>.] - ETA: 0s - loss: 0.8990 - accuracy: 0.8862\n",
            "Epoch 40: val_loss did not improve from 0.87294\n",
            "1000/1000 [==============================] - 7s 7ms/step - loss: 0.8993 - accuracy: 0.8860 - val_loss: 0.8913 - val_accuracy: 0.8874\n",
            "Epoch 41/50\n",
            " 997/1000 [============================>.] - ETA: 0s - loss: 0.9021 - accuracy: 0.8842\n",
            "Epoch 41: val_loss did not improve from 0.87294\n",
            "1000/1000 [==============================] - 8s 8ms/step - loss: 0.9022 - accuracy: 0.8842 - val_loss: 0.9453 - val_accuracy: 0.8644\n",
            "Epoch 42/50\n",
            " 991/1000 [============================>.] - ETA: 0s - loss: 0.8993 - accuracy: 0.8832\n",
            "Epoch 42: val_loss did not improve from 0.87294\n",
            "1000/1000 [==============================] - 7s 7ms/step - loss: 0.8991 - accuracy: 0.8834 - val_loss: 0.8769 - val_accuracy: 0.8869\n",
            "Epoch 43/50\n",
            " 996/1000 [============================>.] - ETA: 0s - loss: 0.8982 - accuracy: 0.8838\n",
            "Epoch 43: val_loss improved from 0.87294 to 0.87144, saving model to mejor-modeloAL1.hdf5\n",
            "1000/1000 [==============================] - 8s 8ms/step - loss: 0.8983 - accuracy: 0.8838 - val_loss: 0.8714 - val_accuracy: 0.8935\n",
            "Epoch 44/50\n",
            " 998/1000 [============================>.] - ETA: 0s - loss: 0.8980 - accuracy: 0.8845\n",
            "Epoch 44: val_loss did not improve from 0.87144\n",
            "1000/1000 [==============================] - 7s 7ms/step - loss: 0.8984 - accuracy: 0.8844 - val_loss: 0.8914 - val_accuracy: 0.8842\n",
            "Epoch 45/50\n",
            " 996/1000 [============================>.] - ETA: 0s - loss: 0.8966 - accuracy: 0.8832\n",
            "Epoch 45: val_loss did not improve from 0.87144\n",
            "1000/1000 [==============================] - 7s 7ms/step - loss: 0.8963 - accuracy: 0.8833 - val_loss: 0.8730 - val_accuracy: 0.8912\n",
            "Epoch 46/50\n",
            "1000/1000 [==============================] - ETA: 0s - loss: 0.8943 - accuracy: 0.8841\n",
            "Epoch 46: val_loss did not improve from 0.87144\n",
            "1000/1000 [==============================] - 8s 8ms/step - loss: 0.8943 - accuracy: 0.8841 - val_loss: 0.8938 - val_accuracy: 0.8836\n",
            "Epoch 47/50\n",
            " 993/1000 [============================>.] - ETA: 0s - loss: 0.8941 - accuracy: 0.8835\n",
            "Epoch 47: val_loss improved from 0.87144 to 0.86638, saving model to mejor-modeloAL1.hdf5\n",
            "1000/1000 [==============================] - 7s 7ms/step - loss: 0.8946 - accuracy: 0.8833 - val_loss: 0.8664 - val_accuracy: 0.8920\n",
            "Epoch 48/50\n",
            " 995/1000 [============================>.] - ETA: 0s - loss: 0.8930 - accuracy: 0.8842\n",
            "Epoch 48: val_loss improved from 0.86638 to 0.86496, saving model to mejor-modeloAL1.hdf5\n",
            "1000/1000 [==============================] - 8s 8ms/step - loss: 0.8931 - accuracy: 0.8843 - val_loss: 0.8650 - val_accuracy: 0.8952\n",
            "Epoch 49/50\n",
            "1000/1000 [==============================] - ETA: 0s - loss: 0.8902 - accuracy: 0.8849\n",
            "Epoch 49: val_loss did not improve from 0.86496\n",
            "1000/1000 [==============================] - 7s 7ms/step - loss: 0.8902 - accuracy: 0.8849 - val_loss: 0.8744 - val_accuracy: 0.8895\n",
            "Epoch 50/50\n",
            " 999/1000 [============================>.] - ETA: 0s - loss: 0.8881 - accuracy: 0.8861\n",
            "Epoch 50: val_loss improved from 0.86496 to 0.85858, saving model to mejor-modeloAL1.hdf5\n",
            "1000/1000 [==============================] - 8s 8ms/step - loss: 0.8881 - accuracy: 0.8861 - val_loss: 0.8586 - val_accuracy: 0.8910\n"
          ]
        },
        {
          "output_type": "execute_result",
          "data": {
            "text/plain": [
              "<keras.src.callbacks.History at 0x78c20ed33760>"
            ]
          },
          "metadata": {},
          "execution_count": 36
        }
      ]
    },
    {
      "cell_type": "code",
      "source": [
        "experiment.log_model(\"MNIST1\", \"mejor-modeloA.hdf5\")"
      ],
      "metadata": {
        "id": "-onR7D9SK9FN",
        "colab": {
          "base_uri": "https://localhost:8080/"
        },
        "outputId": "e3120d7b-1985-42c6-8790-dbd6d6278cde"
      },
      "execution_count": 29,
      "outputs": [
        {
          "output_type": "execute_result",
          "data": {
            "text/plain": [
              "{'web': 'https://www.comet.com/api/asset/download?assetId=75bde35f3a04462d9ede6030898361b4&experimentKey=c2533d93207f45bda347ad4fc3285276',\n",
              " 'api': 'https://www.comet.com/api/rest/v2/experiment/asset/get-asset?assetId=75bde35f3a04462d9ede6030898361b4&experimentKey=c2533d93207f45bda347ad4fc3285276',\n",
              " 'assetId': '75bde35f3a04462d9ede6030898361b4'}"
            ]
          },
          "metadata": {},
          "execution_count": 29
        }
      ]
    },
    {
      "cell_type": "code",
      "source": [
        "experiment.end()"
      ],
      "metadata": {
        "colab": {
          "base_uri": "https://localhost:8080/"
        },
        "id": "aGoU0WClHoJJ",
        "outputId": "f2aaf42c-1ccd-458f-8c68-82a424087527"
      },
      "execution_count": 37,
      "outputs": [
        {
          "output_type": "stream",
          "name": "stderr",
          "text": [
            "\u001b[1;38;5;39mCOMET INFO:\u001b[0m ---------------------------------------------------------------------------------------\n",
            "\u001b[1;38;5;39mCOMET INFO:\u001b[0m Comet.ml Experiment Summary\n",
            "\u001b[1;38;5;39mCOMET INFO:\u001b[0m ---------------------------------------------------------------------------------------\n",
            "\u001b[1;38;5;39mCOMET INFO:\u001b[0m   Data:\n",
            "\u001b[1;38;5;39mCOMET INFO:\u001b[0m     display_summary_level : 1\n",
            "\u001b[1;38;5;39mCOMET INFO:\u001b[0m     url                   : https://www.comet.com/emivk/rnadigits/ba91d9751a964afa9ac5597d2531ab1b\n",
            "\u001b[1;38;5;39mCOMET INFO:\u001b[0m   Metrics [count] (min, max):\n",
            "\u001b[1;38;5;39mCOMET INFO:\u001b[0m     accuracy [50]                 : (0.7543666958808899, 0.8860666751861572)\n",
            "\u001b[1;38;5;39mCOMET INFO:\u001b[0m     batch_accuracy [5000]         : (0.0833333358168602, 0.9833333492279053)\n",
            "\u001b[1;38;5;39mCOMET INFO:\u001b[0m     batch_loss [5000]             : (0.7376344799995422, 77.46804809570312)\n",
            "\u001b[1;38;5;39mCOMET INFO:\u001b[0m     epoch_duration [50]           : (6.3316014829997584, 8.886487024999951)\n",
            "\u001b[1;38;5;39mCOMET INFO:\u001b[0m     loss [50]                     : (0.8881161212921143, 4.125594615936279)\n",
            "\u001b[1;38;5;39mCOMET INFO:\u001b[0m     val_accuracy [50]             : (0.840499997138977, 0.8952000141143799)\n",
            "\u001b[1;38;5;39mCOMET INFO:\u001b[0m     val_loss [50]                 : (0.8585847616195679, 1.3645832538604736)\n",
            "\u001b[1;38;5;39mCOMET INFO:\u001b[0m     validate_batch_accuracy [850] : (0.798826277256012, 0.9666666388511658)\n",
            "\u001b[1;38;5;39mCOMET INFO:\u001b[0m     validate_batch_loss [850]     : (0.7627336978912354, 1.474697470664978)\n",
            "\u001b[1;38;5;39mCOMET INFO:\u001b[0m   Others:\n",
            "\u001b[1;38;5;39mCOMET INFO:\u001b[0m     trainable_params : 178110\n",
            "\u001b[1;38;5;39mCOMET INFO:\u001b[0m   Parameters:\n",
            "\u001b[1;38;5;39mCOMET INFO:\u001b[0m     Adam_amsgrad                 : False\n",
            "\u001b[1;38;5;39mCOMET INFO:\u001b[0m     Adam_beta_1                  : 0.9\n",
            "\u001b[1;38;5;39mCOMET INFO:\u001b[0m     Adam_beta_2                  : 0.999\n",
            "\u001b[1;38;5;39mCOMET INFO:\u001b[0m     Adam_clipnorm                : 1\n",
            "\u001b[1;38;5;39mCOMET INFO:\u001b[0m     Adam_clipvalue               : 1\n",
            "\u001b[1;38;5;39mCOMET INFO:\u001b[0m     Adam_ema_momentum            : 0.99\n",
            "\u001b[1;38;5;39mCOMET INFO:\u001b[0m     Adam_ema_overwrite_frequency : 1\n",
            "\u001b[1;38;5;39mCOMET INFO:\u001b[0m     Adam_epsilon                 : 1e-07\n",
            "\u001b[1;38;5;39mCOMET INFO:\u001b[0m     Adam_global_clipnorm         : 1\n",
            "\u001b[1;38;5;39mCOMET INFO:\u001b[0m     Adam_is_legacy_optimizer     : False\n",
            "\u001b[1;38;5;39mCOMET INFO:\u001b[0m     Adam_jit_compile             : False\n",
            "\u001b[1;38;5;39mCOMET INFO:\u001b[0m     Adam_learning_rate           : 0.0010000000474974513\n",
            "\u001b[1;38;5;39mCOMET INFO:\u001b[0m     Adam_name                    : Adam\n",
            "\u001b[1;38;5;39mCOMET INFO:\u001b[0m     Adam_use_ema                 : False\n",
            "\u001b[1;38;5;39mCOMET INFO:\u001b[0m     Adam_weight_decay            : 1\n",
            "\u001b[1;38;5;39mCOMET INFO:\u001b[0m     batch_size                   : 60\n",
            "\u001b[1;38;5;39mCOMET INFO:\u001b[0m     epochs                       : 50\n",
            "\u001b[1;38;5;39mCOMET INFO:\u001b[0m     loss                         : categorical_crossentropy\n",
            "\u001b[1;38;5;39mCOMET INFO:\u001b[0m     optimizer                    : Adam\n",
            "\u001b[1;38;5;39mCOMET INFO:\u001b[0m     steps                        : 1000\n",
            "\u001b[1;38;5;39mCOMET INFO:\u001b[0m   Uploads:\n",
            "\u001b[1;38;5;39mCOMET INFO:\u001b[0m     environment details : 1\n",
            "\u001b[1;38;5;39mCOMET INFO:\u001b[0m     filename            : 1\n",
            "\u001b[1;38;5;39mCOMET INFO:\u001b[0m     histogram3d         : 459\n",
            "\u001b[1;38;5;39mCOMET INFO:\u001b[0m     installed packages  : 1\n",
            "\u001b[1;38;5;39mCOMET INFO:\u001b[0m     model graph         : 1\n",
            "\u001b[1;38;5;39mCOMET INFO:\u001b[0m     notebook            : 2\n",
            "\u001b[1;38;5;39mCOMET INFO:\u001b[0m     os packages         : 1\n",
            "\u001b[1;38;5;39mCOMET INFO:\u001b[0m     source_code         : 1\n",
            "\u001b[1;38;5;39mCOMET INFO:\u001b[0m \n",
            "\u001b[1;38;5;39mCOMET INFO:\u001b[0m Uploading 1 metrics, params and output messages\n"
          ]
        }
      ]
    }
  ]
}