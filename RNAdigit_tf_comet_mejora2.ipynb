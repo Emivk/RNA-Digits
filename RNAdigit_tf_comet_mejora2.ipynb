{
  "nbformat": 4,
  "nbformat_minor": 0,
  "metadata": {
    "colab": {
      "provenance": [],
      "include_colab_link": true
    },
    "kernelspec": {
      "name": "python3",
      "display_name": "Python 3"
    },
    "language_info": {
      "name": "python"
    }
  },
  "cells": [
    {
      "cell_type": "markdown",
      "metadata": {
        "id": "view-in-github",
        "colab_type": "text"
      },
      "source": [
        "<a href=\"https://colab.research.google.com/github/Emivk/RNA-Digits/blob/master/RNAdigit_tf_comet_mejora2.ipynb\" target=\"_parent\"><img src=\"https://colab.research.google.com/assets/colab-badge.svg\" alt=\"Open In Colab\"/></a>"
      ]
    },
    {
      "cell_type": "code",
      "execution_count": 1,
      "metadata": {
        "colab": {
          "base_uri": "https://localhost:8080/"
        },
        "id": "L_Zg2IxMAiPk",
        "outputId": "3a931711-23f2-46e4-acc6-6072411b728b"
      },
      "outputs": [
        {
          "output_type": "stream",
          "name": "stdout",
          "text": [
            "Requirement already satisfied: comet_ml in /usr/local/lib/python3.10/dist-packages (3.33.10)\n",
            "Requirement already satisfied: jsonschema!=3.1.0,>=2.6.0 in /usr/local/lib/python3.10/dist-packages (from comet_ml) (4.19.0)\n",
            "Requirement already satisfied: psutil>=5.6.3 in /usr/local/lib/python3.10/dist-packages (from comet_ml) (5.9.5)\n",
            "Requirement already satisfied: python-box<7.0.0 in /usr/local/lib/python3.10/dist-packages (from comet_ml) (6.1.0)\n",
            "Requirement already satisfied: requests-toolbelt>=0.8.0 in /usr/local/lib/python3.10/dist-packages (from comet_ml) (1.0.0)\n",
            "Requirement already satisfied: requests>=2.18.4 in /usr/local/lib/python3.10/dist-packages (from comet_ml) (2.31.0)\n",
            "Requirement already satisfied: semantic-version>=2.8.0 in /usr/local/lib/python3.10/dist-packages (from comet_ml) (2.10.0)\n",
            "Requirement already satisfied: sentry-sdk>=1.1.0 in /usr/local/lib/python3.10/dist-packages (from comet_ml) (1.31.0)\n",
            "Requirement already satisfied: simplejson in /usr/local/lib/python3.10/dist-packages (from comet_ml) (3.19.1)\n",
            "Requirement already satisfied: six in /usr/local/lib/python3.10/dist-packages (from comet_ml) (1.16.0)\n",
            "Requirement already satisfied: urllib3>=1.21.1 in /usr/local/lib/python3.10/dist-packages (from comet_ml) (2.0.4)\n",
            "Requirement already satisfied: websocket-client<1.4.0,>=0.55.0 in /usr/local/lib/python3.10/dist-packages (from comet_ml) (1.3.3)\n",
            "Requirement already satisfied: wrapt>=1.11.2 in /usr/local/lib/python3.10/dist-packages (from comet_ml) (1.15.0)\n",
            "Requirement already satisfied: wurlitzer>=1.0.2 in /usr/local/lib/python3.10/dist-packages (from comet_ml) (3.0.3)\n",
            "Requirement already satisfied: everett[ini]<3.2.0,>=1.0.1 in /usr/local/lib/python3.10/dist-packages (from comet_ml) (3.1.0)\n",
            "Requirement already satisfied: dulwich!=0.20.33,>=0.20.6 in /usr/local/lib/python3.10/dist-packages (from comet_ml) (0.21.6)\n",
            "Requirement already satisfied: rich>=13.3.2 in /usr/local/lib/python3.10/dist-packages (from comet_ml) (13.5.2)\n",
            "Requirement already satisfied: configobj in /usr/local/lib/python3.10/dist-packages (from everett[ini]<3.2.0,>=1.0.1->comet_ml) (5.0.8)\n",
            "Requirement already satisfied: attrs>=22.2.0 in /usr/local/lib/python3.10/dist-packages (from jsonschema!=3.1.0,>=2.6.0->comet_ml) (23.1.0)\n",
            "Requirement already satisfied: jsonschema-specifications>=2023.03.6 in /usr/local/lib/python3.10/dist-packages (from jsonschema!=3.1.0,>=2.6.0->comet_ml) (2023.7.1)\n",
            "Requirement already satisfied: referencing>=0.28.4 in /usr/local/lib/python3.10/dist-packages (from jsonschema!=3.1.0,>=2.6.0->comet_ml) (0.30.2)\n",
            "Requirement already satisfied: rpds-py>=0.7.1 in /usr/local/lib/python3.10/dist-packages (from jsonschema!=3.1.0,>=2.6.0->comet_ml) (0.10.2)\n",
            "Requirement already satisfied: charset-normalizer<4,>=2 in /usr/local/lib/python3.10/dist-packages (from requests>=2.18.4->comet_ml) (3.2.0)\n",
            "Requirement already satisfied: idna<4,>=2.5 in /usr/local/lib/python3.10/dist-packages (from requests>=2.18.4->comet_ml) (3.4)\n",
            "Requirement already satisfied: certifi>=2017.4.17 in /usr/local/lib/python3.10/dist-packages (from requests>=2.18.4->comet_ml) (2023.7.22)\n",
            "Requirement already satisfied: markdown-it-py>=2.2.0 in /usr/local/lib/python3.10/dist-packages (from rich>=13.3.2->comet_ml) (3.0.0)\n",
            "Requirement already satisfied: pygments<3.0.0,>=2.13.0 in /usr/local/lib/python3.10/dist-packages (from rich>=13.3.2->comet_ml) (2.16.1)\n",
            "Requirement already satisfied: mdurl~=0.1 in /usr/local/lib/python3.10/dist-packages (from markdown-it-py>=2.2.0->rich>=13.3.2->comet_ml) (0.1.2)\n"
          ]
        }
      ],
      "source": [
        "%pip install comet_ml"
      ]
    },
    {
      "cell_type": "code",
      "source": [
        "import comet_ml\n",
        "comet_ml.init(project_name=\"rnadigits\")"
      ],
      "metadata": {
        "id": "g6hZpUiPAtrC"
      },
      "execution_count": 2,
      "outputs": []
    },
    {
      "cell_type": "code",
      "source": [
        "import tensorflow as tf\n",
        "from tensorflow import keras\n",
        "from tensorflow.keras.datasets import mnist\n",
        "from tensorflow.keras.models import Sequential\n",
        "from tensorflow.keras.layers import Dense, Dropout, Activation, Flatten, Input\n",
        "from tensorflow.keras.optimizers import RMSprop, SGD, Adam\n",
        "from tensorflow.keras import regularizers\n",
        "from keras.callbacks import ModelCheckpoint"
      ],
      "metadata": {
        "id": "czgl5_6tA7Pe"
      },
      "execution_count": 3,
      "outputs": []
    },
    {
      "cell_type": "code",
      "source": [
        "experiment = comet_ml.Experiment(\n",
        "    auto_histogram_weight_logging=True,\n",
        "    auto_histogram_gradient_logging=True,\n",
        "    auto_histogram_activation_logging=True,\n",
        "    log_code=True,\n",
        ")"
      ],
      "metadata": {
        "colab": {
          "base_uri": "https://localhost:8080/"
        },
        "id": "j__tspO4BGYR",
        "outputId": "8505850b-d246-40c3-ae9d-8be3448a6645"
      },
      "execution_count": 4,
      "outputs": [
        {
          "output_type": "stream",
          "name": "stderr",
          "text": [
            "\u001b[1;38;5;214mCOMET WARNING:\u001b[0m As you are running in a Jupyter environment, you will need to call `experiment.end()` when finished to ensure all metrics and code are logged before exiting.\n",
            "\u001b[1;38;5;39mCOMET INFO:\u001b[0m Couldn't find a Git repository in '/content' nor in any parent directory. Set `COMET_GIT_DIRECTORY` if your Git Repository is elsewhere.\n",
            "\u001b[1;38;5;39mCOMET INFO:\u001b[0m Experiment is live on comet.com https://www.comet.com/emivk/rnadigits/62d93f5600e84568a3ddadc93b9cd716\n",
            "\n"
          ]
        }
      ]
    },
    {
      "cell_type": "code",
      "source": [
        "dataset=mnist.load_data()\n",
        "(x_train, y_train), (x_test, y_test) = dataset\n",
        "\n",
        "x_train = x_train.astype('float32')\n",
        "x_test = x_test.astype('float32')\n",
        "\n",
        "x_train /= 255  # x_trainv = x_trainv/255\n",
        "x_test /= 255\n",
        "\n",
        "num_classes=10\n",
        "y_trainc = keras.utils.to_categorical(y_train, num_classes)\n",
        "y_testc = keras.utils.to_categorical(y_test, num_classes)"
      ],
      "metadata": {
        "id": "qJNeAdHbBUM-"
      },
      "execution_count": 5,
      "outputs": []
    },
    {
      "cell_type": "code",
      "source": [
        "parameters = {\n",
        "    \"batch_size\": 60,\n",
        "    \"epochs\": 50,\n",
        "    \"optimizer\": \"Adam\",\n",
        "    \"loss\": \"categorical_crossentropy\",\n",
        "}\n",
        "\n",
        "experiment.log_parameters(parameters)"
      ],
      "metadata": {
        "id": "zbiaW1VkBHH6"
      },
      "execution_count": 6,
      "outputs": []
    },
    {
      "cell_type": "code",
      "source": [
        "model = Sequential()\n",
        "model.add(Input(shape=(28,28))) #Flaten no tiene la opcion input_shape por lo tanto se tiene que agregar esta capa\n",
        "model.add(Flatten()) #Otra forma de aplanar las imagenes\n",
        "model.add(Dense(200, activation='relu'))\n",
        "model.add(Dense(100, activation='relu'))\n",
        "#model.add(Dense(400, activation='relu', kernel_regularizer=regularizers.L1L2(l1=1e-5, l2=1e-4))) #Regularizacion L1L2\n",
        "#model.add(Dropout(0.2)) #Fraccion de enlaces a eliminar\n",
        "#model.add(Dense(200)) #Capa lineal , transformacion lineal sin funcion de activacion\n",
        "#model.add(Activation('tanh')) #Se puede agregar despues la funcion de activacion\n",
        "#model.add(Dense(400, activation='selu', kernel_regularizer=regularizers.L1(0.01) )) #Regularizacion L1\n",
        "#model.add(Dense(200, activation='elu', kernel_regularizer=regularizers.L2(l2=1e-4)) ) #Regularizacion L2\n",
        "#model.add(Dense(50,activation='exponential'))\n",
        "model.add(Dense(10, activation='softmax'))\n",
        "\n",
        "model.summary()"
      ],
      "metadata": {
        "colab": {
          "base_uri": "https://localhost:8080/"
        },
        "id": "GUl8whP1BOdy",
        "outputId": "171d2c6c-bd92-4ee8-c686-949ce84145f6"
      },
      "execution_count": 7,
      "outputs": [
        {
          "output_type": "stream",
          "name": "stdout",
          "text": [
            "Model: \"sequential\"\n",
            "_________________________________________________________________\n",
            " Layer (type)                Output Shape              Param #   \n",
            "=================================================================\n",
            " flatten (Flatten)           (None, 784)               0         \n",
            "                                                                 \n",
            " dense (Dense)               (None, 200)               157000    \n",
            "                                                                 \n",
            " dense_1 (Dense)             (None, 100)               20100     \n",
            "                                                                 \n",
            " dense_2 (Dense)             (None, 10)                1010      \n",
            "                                                                 \n",
            "=================================================================\n",
            "Total params: 178110 (695.74 KB)\n",
            "Trainable params: 178110 (695.74 KB)\n",
            "Non-trainable params: 0 (0.00 Byte)\n",
            "_________________________________________________________________\n"
          ]
        }
      ]
    },
    {
      "cell_type": "code",
      "source": [
        "# specify the path where you want to save the model\n",
        "filepath = \"mejor-modelo1.2.hdf5\"\n",
        "\n",
        "# initialize the ModelCheckpoint callback\n",
        "checkpoint = ModelCheckpoint(filepath, monitor='val_loss', verbose=1, save_best_only=True, mode='min')"
      ],
      "metadata": {
        "id": "yickXqeNHaGo"
      },
      "execution_count": 8,
      "outputs": []
    },
    {
      "cell_type": "code",
      "source": [
        "model.compile(loss=parameters['loss'],optimizer=parameters['optimizer'],metrics=['accuracy'])\n",
        "model.fit(x_train, y_trainc,\n",
        "                    batch_size=parameters['batch_size'],\n",
        "                    epochs=parameters[\"epochs\"],\n",
        "                    verbose=1,\n",
        "                    validation_data=(x_test, y_testc),\n",
        "                    callbacks=[checkpoint])"
      ],
      "metadata": {
        "colab": {
          "base_uri": "https://localhost:8080/"
        },
        "id": "RipmZnRwEznJ",
        "outputId": "dd6301b1-5a8f-46e0-e2ab-3591798f97f4"
      },
      "execution_count": 9,
      "outputs": [
        {
          "output_type": "stream",
          "name": "stderr",
          "text": [
            "\u001b[1;38;5;39mCOMET INFO:\u001b[0m Ignoring automatic log_parameter('verbose') because 'keras:verbose' is in COMET_LOGGING_PARAMETERS_IGNORE\n"
          ]
        },
        {
          "output_type": "stream",
          "name": "stdout",
          "text": [
            "Epoch 1/50\n",
            " 994/1000 [============================>.] - ETA: 0s - loss: 0.2375 - accuracy: 0.9299\n",
            "Epoch 1: val_loss improved from inf to 0.10788, saving model to mejor-modelo1.2.hdf5\n",
            "1000/1000 [==============================] - 8s 6ms/step - loss: 0.2365 - accuracy: 0.9302 - val_loss: 0.1079 - val_accuracy: 0.9665\n",
            "Epoch 2/50\n",
            "   7/1000 [..............................] - ETA: 8s - loss: 0.0996 - accuracy: 0.9714"
          ]
        },
        {
          "output_type": "stream",
          "name": "stderr",
          "text": [
            "/usr/local/lib/python3.10/dist-packages/keras/src/engine/training.py:3000: UserWarning: You are saving your model as an HDF5 file via `model.save()`. This file format is considered legacy. We recommend using instead the native Keras format, e.g. `model.save('my_model.keras')`.\n",
            "  saving_api.save_model(\n"
          ]
        },
        {
          "output_type": "stream",
          "name": "stdout",
          "text": [
            " 998/1000 [============================>.] - ETA: 0s - loss: 0.0947 - accuracy: 0.9706\n",
            "Epoch 2: val_loss improved from 0.10788 to 0.09386, saving model to mejor-modelo1.2.hdf5\n",
            "1000/1000 [==============================] - 8s 8ms/step - loss: 0.0947 - accuracy: 0.9706 - val_loss: 0.0939 - val_accuracy: 0.9703\n",
            "Epoch 3/50\n",
            "1000/1000 [==============================] - ETA: 0s - loss: 0.0650 - accuracy: 0.9800\n",
            "Epoch 3: val_loss improved from 0.09386 to 0.07332, saving model to mejor-modelo1.2.hdf5\n",
            "1000/1000 [==============================] - 6s 6ms/step - loss: 0.0650 - accuracy: 0.9800 - val_loss: 0.0733 - val_accuracy: 0.9761\n",
            "Epoch 4/50\n",
            " 993/1000 [============================>.] - ETA: 0s - loss: 0.0487 - accuracy: 0.9839\n",
            "Epoch 4: val_loss did not improve from 0.07332\n",
            "1000/1000 [==============================] - 8s 8ms/step - loss: 0.0489 - accuracy: 0.9839 - val_loss: 0.0750 - val_accuracy: 0.9740\n",
            "Epoch 5/50\n",
            " 998/1000 [============================>.] - ETA: 0s - loss: 0.0365 - accuracy: 0.9883\n",
            "Epoch 5: val_loss did not improve from 0.07332\n",
            "1000/1000 [==============================] - 6s 6ms/step - loss: 0.0365 - accuracy: 0.9883 - val_loss: 0.0750 - val_accuracy: 0.9765\n",
            "Epoch 6/50\n",
            " 996/1000 [============================>.] - ETA: 0s - loss: 0.0283 - accuracy: 0.9914\n",
            "Epoch 6: val_loss improved from 0.07332 to 0.06843, saving model to mejor-modelo1.2.hdf5\n",
            "1000/1000 [==============================] - 8s 8ms/step - loss: 0.0284 - accuracy: 0.9914 - val_loss: 0.0684 - val_accuracy: 0.9804\n",
            "Epoch 7/50\n",
            "1000/1000 [==============================] - ETA: 0s - loss: 0.0242 - accuracy: 0.9918\n",
            "Epoch 7: val_loss did not improve from 0.06843\n",
            "1000/1000 [==============================] - 6s 6ms/step - loss: 0.0242 - accuracy: 0.9918 - val_loss: 0.0847 - val_accuracy: 0.9761\n",
            "Epoch 8/50\n",
            " 991/1000 [============================>.] - ETA: 0s - loss: 0.0217 - accuracy: 0.9924\n",
            "Epoch 8: val_loss did not improve from 0.06843\n",
            "1000/1000 [==============================] - 8s 8ms/step - loss: 0.0217 - accuracy: 0.9924 - val_loss: 0.0782 - val_accuracy: 0.9790\n",
            "Epoch 9/50\n",
            " 995/1000 [============================>.] - ETA: 0s - loss: 0.0188 - accuracy: 0.9937\n",
            "Epoch 9: val_loss did not improve from 0.06843\n",
            "1000/1000 [==============================] - 6s 6ms/step - loss: 0.0188 - accuracy: 0.9937 - val_loss: 0.0797 - val_accuracy: 0.9769\n",
            "Epoch 10/50\n",
            " 993/1000 [============================>.] - ETA: 0s - loss: 0.0154 - accuracy: 0.9948\n",
            "Epoch 10: val_loss did not improve from 0.06843\n",
            "1000/1000 [==============================] - 7s 7ms/step - loss: 0.0153 - accuracy: 0.9948 - val_loss: 0.0824 - val_accuracy: 0.9776\n",
            "Epoch 11/50\n",
            " 991/1000 [============================>.] - ETA: 0s - loss: 0.0151 - accuracy: 0.9951\n",
            "Epoch 11: val_loss did not improve from 0.06843\n",
            "1000/1000 [==============================] - 6s 6ms/step - loss: 0.0152 - accuracy: 0.9950 - val_loss: 0.0999 - val_accuracy: 0.9780\n",
            "Epoch 12/50\n",
            " 991/1000 [============================>.] - ETA: 0s - loss: 0.0122 - accuracy: 0.9959\n",
            "Epoch 12: val_loss did not improve from 0.06843\n",
            "1000/1000 [==============================] - 8s 8ms/step - loss: 0.0123 - accuracy: 0.9959 - val_loss: 0.0994 - val_accuracy: 0.9749\n",
            "Epoch 13/50\n",
            " 997/1000 [============================>.] - ETA: 0s - loss: 0.0119 - accuracy: 0.9960\n",
            "Epoch 13: val_loss did not improve from 0.06843\n",
            "1000/1000 [==============================] - 6s 6ms/step - loss: 0.0119 - accuracy: 0.9960 - val_loss: 0.1011 - val_accuracy: 0.9767\n",
            "Epoch 14/50\n",
            " 992/1000 [============================>.] - ETA: 0s - loss: 0.0101 - accuracy: 0.9964\n",
            "Epoch 14: val_loss did not improve from 0.06843\n",
            "1000/1000 [==============================] - 8s 8ms/step - loss: 0.0103 - accuracy: 0.9964 - val_loss: 0.0914 - val_accuracy: 0.9809\n",
            "Epoch 15/50\n",
            " 997/1000 [============================>.] - ETA: 0s - loss: 0.0099 - accuracy: 0.9969\n",
            "Epoch 15: val_loss did not improve from 0.06843\n",
            "1000/1000 [==============================] - 6s 6ms/step - loss: 0.0099 - accuracy: 0.9969 - val_loss: 0.0812 - val_accuracy: 0.9812\n",
            "Epoch 16/50\n",
            "1000/1000 [==============================] - ETA: 0s - loss: 0.0093 - accuracy: 0.9970\n",
            "Epoch 16: val_loss did not improve from 0.06843\n",
            "1000/1000 [==============================] - 8s 8ms/step - loss: 0.0093 - accuracy: 0.9970 - val_loss: 0.1082 - val_accuracy: 0.9778\n",
            "Epoch 17/50\n",
            " 996/1000 [============================>.] - ETA: 0s - loss: 0.0109 - accuracy: 0.9966\n",
            "Epoch 17: val_loss did not improve from 0.06843\n",
            "1000/1000 [==============================] - 6s 6ms/step - loss: 0.0109 - accuracy: 0.9966 - val_loss: 0.0862 - val_accuracy: 0.9812\n",
            "Epoch 18/50\n",
            " 999/1000 [============================>.] - ETA: 0s - loss: 0.0088 - accuracy: 0.9970\n",
            "Epoch 18: val_loss did not improve from 0.06843\n",
            "1000/1000 [==============================] - 7s 7ms/step - loss: 0.0088 - accuracy: 0.9970 - val_loss: 0.0948 - val_accuracy: 0.9815\n",
            "Epoch 19/50\n",
            " 996/1000 [============================>.] - ETA: 0s - loss: 0.0084 - accuracy: 0.9973\n",
            "Epoch 19: val_loss did not improve from 0.06843\n",
            "1000/1000 [==============================] - 6s 6ms/step - loss: 0.0084 - accuracy: 0.9973 - val_loss: 0.0957 - val_accuracy: 0.9806\n",
            "Epoch 20/50\n",
            " 996/1000 [============================>.] - ETA: 0s - loss: 0.0081 - accuracy: 0.9974\n",
            "Epoch 20: val_loss did not improve from 0.06843\n",
            "1000/1000 [==============================] - 8s 8ms/step - loss: 0.0081 - accuracy: 0.9974 - val_loss: 0.1151 - val_accuracy: 0.9779\n",
            "Epoch 21/50\n",
            " 997/1000 [============================>.] - ETA: 0s - loss: 0.0098 - accuracy: 0.9968\n",
            "Epoch 21: val_loss did not improve from 0.06843\n",
            "1000/1000 [==============================] - 6s 6ms/step - loss: 0.0098 - accuracy: 0.9968 - val_loss: 0.0979 - val_accuracy: 0.9814\n",
            "Epoch 22/50\n",
            " 998/1000 [============================>.] - ETA: 0s - loss: 0.0079 - accuracy: 0.9976\n",
            "Epoch 22: val_loss did not improve from 0.06843\n",
            "1000/1000 [==============================] - 7s 7ms/step - loss: 0.0079 - accuracy: 0.9976 - val_loss: 0.0980 - val_accuracy: 0.9822\n",
            "Epoch 23/50\n",
            " 994/1000 [============================>.] - ETA: 0s - loss: 0.0063 - accuracy: 0.9980\n",
            "Epoch 23: val_loss did not improve from 0.06843\n",
            "1000/1000 [==============================] - 6s 6ms/step - loss: 0.0064 - accuracy: 0.9980 - val_loss: 0.0991 - val_accuracy: 0.9816\n",
            "Epoch 24/50\n",
            "1000/1000 [==============================] - ETA: 0s - loss: 0.0075 - accuracy: 0.9975\n",
            "Epoch 24: val_loss did not improve from 0.06843\n",
            "1000/1000 [==============================] - 7s 7ms/step - loss: 0.0075 - accuracy: 0.9975 - val_loss: 0.1078 - val_accuracy: 0.9809\n",
            "Epoch 25/50\n",
            "1000/1000 [==============================] - ETA: 0s - loss: 0.0077 - accuracy: 0.9977\n",
            "Epoch 25: val_loss did not improve from 0.06843\n",
            "1000/1000 [==============================] - 6s 6ms/step - loss: 0.0077 - accuracy: 0.9977 - val_loss: 0.1025 - val_accuracy: 0.9812\n",
            "Epoch 26/50\n",
            " 996/1000 [============================>.] - ETA: 0s - loss: 0.0048 - accuracy: 0.9986\n",
            "Epoch 26: val_loss did not improve from 0.06843\n",
            "1000/1000 [==============================] - 7s 7ms/step - loss: 0.0048 - accuracy: 0.9986 - val_loss: 0.0993 - val_accuracy: 0.9817\n",
            "Epoch 27/50\n",
            " 999/1000 [============================>.] - ETA: 0s - loss: 0.0078 - accuracy: 0.9975\n",
            "Epoch 27: val_loss did not improve from 0.06843\n",
            "1000/1000 [==============================] - 6s 6ms/step - loss: 0.0078 - accuracy: 0.9975 - val_loss: 0.1106 - val_accuracy: 0.9813\n",
            "Epoch 28/50\n",
            " 998/1000 [============================>.] - ETA: 0s - loss: 0.0067 - accuracy: 0.9980\n",
            "Epoch 28: val_loss did not improve from 0.06843\n",
            "1000/1000 [==============================] - 7s 7ms/step - loss: 0.0067 - accuracy: 0.9980 - val_loss: 0.1134 - val_accuracy: 0.9803\n",
            "Epoch 29/50\n",
            "1000/1000 [==============================] - ETA: 0s - loss: 0.0064 - accuracy: 0.9977\n",
            "Epoch 29: val_loss did not improve from 0.06843\n",
            "1000/1000 [==============================] - 6s 6ms/step - loss: 0.0064 - accuracy: 0.9977 - val_loss: 0.1150 - val_accuracy: 0.9798\n",
            "Epoch 30/50\n",
            " 996/1000 [============================>.] - ETA: 0s - loss: 0.0063 - accuracy: 0.9980\n",
            "Epoch 30: val_loss did not improve from 0.06843\n",
            "1000/1000 [==============================] - 6s 6ms/step - loss: 0.0064 - accuracy: 0.9980 - val_loss: 0.1475 - val_accuracy: 0.9770\n",
            "Epoch 31/50\n",
            " 992/1000 [============================>.] - ETA: 0s - loss: 0.0075 - accuracy: 0.9980\n",
            "Epoch 31: val_loss did not improve from 0.06843\n",
            "1000/1000 [==============================] - 7s 7ms/step - loss: 0.0075 - accuracy: 0.9980 - val_loss: 0.1110 - val_accuracy: 0.9819\n",
            "Epoch 32/50\n",
            " 992/1000 [============================>.] - ETA: 0s - loss: 0.0032 - accuracy: 0.9990\n",
            "Epoch 32: val_loss did not improve from 0.06843\n",
            "1000/1000 [==============================] - 6s 6ms/step - loss: 0.0032 - accuracy: 0.9990 - val_loss: 0.1295 - val_accuracy: 0.9808\n",
            "Epoch 33/50\n",
            " 993/1000 [============================>.] - ETA: 0s - loss: 0.0074 - accuracy: 0.9978\n",
            "Epoch 33: val_loss did not improve from 0.06843\n",
            "1000/1000 [==============================] - 7s 7ms/step - loss: 0.0075 - accuracy: 0.9977 - val_loss: 0.1173 - val_accuracy: 0.9832\n",
            "Epoch 34/50\n",
            " 994/1000 [============================>.] - ETA: 0s - loss: 0.0042 - accuracy: 0.9986\n",
            "Epoch 34: val_loss did not improve from 0.06843\n",
            "1000/1000 [==============================] - 6s 6ms/step - loss: 0.0042 - accuracy: 0.9986 - val_loss: 0.1117 - val_accuracy: 0.9799\n",
            "Epoch 35/50\n",
            " 998/1000 [============================>.] - ETA: 0s - loss: 0.0035 - accuracy: 0.9989\n",
            "Epoch 35: val_loss did not improve from 0.06843\n",
            "1000/1000 [==============================] - 8s 8ms/step - loss: 0.0035 - accuracy: 0.9989 - val_loss: 0.1220 - val_accuracy: 0.9794\n",
            "Epoch 36/50\n",
            " 999/1000 [============================>.] - ETA: 0s - loss: 0.0066 - accuracy: 0.9981\n",
            "Epoch 36: val_loss did not improve from 0.06843\n",
            "1000/1000 [==============================] - 6s 6ms/step - loss: 0.0066 - accuracy: 0.9981 - val_loss: 0.1327 - val_accuracy: 0.9791\n",
            "Epoch 37/50\n",
            " 996/1000 [============================>.] - ETA: 0s - loss: 0.0058 - accuracy: 0.9983\n",
            "Epoch 37: val_loss did not improve from 0.06843\n",
            "1000/1000 [==============================] - 7s 7ms/step - loss: 0.0058 - accuracy: 0.9983 - val_loss: 0.1403 - val_accuracy: 0.9781\n",
            "Epoch 38/50\n",
            " 994/1000 [============================>.] - ETA: 0s - loss: 0.0060 - accuracy: 0.9982\n",
            "Epoch 38: val_loss did not improve from 0.06843\n",
            "1000/1000 [==============================] - 6s 6ms/step - loss: 0.0060 - accuracy: 0.9982 - val_loss: 0.1313 - val_accuracy: 0.9799\n",
            "Epoch 39/50\n",
            " 995/1000 [============================>.] - ETA: 0s - loss: 0.0042 - accuracy: 0.9987\n",
            "Epoch 39: val_loss did not improve from 0.06843\n",
            "1000/1000 [==============================] - 8s 8ms/step - loss: 0.0043 - accuracy: 0.9987 - val_loss: 0.1178 - val_accuracy: 0.9815\n",
            "Epoch 40/50\n",
            " 996/1000 [============================>.] - ETA: 0s - loss: 0.0039 - accuracy: 0.9988\n",
            "Epoch 40: val_loss did not improve from 0.06843\n",
            "1000/1000 [==============================] - 6s 6ms/step - loss: 0.0039 - accuracy: 0.9988 - val_loss: 0.1307 - val_accuracy: 0.9803\n",
            "Epoch 41/50\n",
            " 999/1000 [============================>.] - ETA: 0s - loss: 0.0054 - accuracy: 0.9983\n",
            "Epoch 41: val_loss did not improve from 0.06843\n",
            "1000/1000 [==============================] - 8s 8ms/step - loss: 0.0054 - accuracy: 0.9984 - val_loss: 0.1682 - val_accuracy: 0.9760\n",
            "Epoch 42/50\n",
            " 994/1000 [============================>.] - ETA: 0s - loss: 0.0055 - accuracy: 0.9984\n",
            "Epoch 42: val_loss did not improve from 0.06843\n",
            "1000/1000 [==============================] - 6s 6ms/step - loss: 0.0055 - accuracy: 0.9984 - val_loss: 0.1426 - val_accuracy: 0.9806\n",
            "Epoch 43/50\n",
            "1000/1000 [==============================] - ETA: 0s - loss: 0.0034 - accuracy: 0.9991\n",
            "Epoch 43: val_loss did not improve from 0.06843\n",
            "1000/1000 [==============================] - 8s 8ms/step - loss: 0.0034 - accuracy: 0.9991 - val_loss: 0.1336 - val_accuracy: 0.9812\n",
            "Epoch 44/50\n",
            " 992/1000 [============================>.] - ETA: 0s - loss: 0.0052 - accuracy: 0.9986\n",
            "Epoch 44: val_loss did not improve from 0.06843\n",
            "1000/1000 [==============================] - 6s 6ms/step - loss: 0.0051 - accuracy: 0.9985 - val_loss: 0.1458 - val_accuracy: 0.9783\n",
            "Epoch 45/50\n",
            " 995/1000 [============================>.] - ETA: 0s - loss: 0.0071 - accuracy: 0.9979\n",
            "Epoch 45: val_loss did not improve from 0.06843\n",
            "1000/1000 [==============================] - 8s 8ms/step - loss: 0.0070 - accuracy: 0.9980 - val_loss: 0.1557 - val_accuracy: 0.9794\n",
            "Epoch 46/50\n",
            " 993/1000 [============================>.] - ETA: 0s - loss: 0.0032 - accuracy: 0.9992\n",
            "Epoch 46: val_loss did not improve from 0.06843\n",
            "1000/1000 [==============================] - 6s 6ms/step - loss: 0.0031 - accuracy: 0.9992 - val_loss: 0.1536 - val_accuracy: 0.9808\n",
            "Epoch 47/50\n",
            " 997/1000 [============================>.] - ETA: 0s - loss: 0.0031 - accuracy: 0.9990\n",
            "Epoch 47: val_loss did not improve from 0.06843\n",
            "1000/1000 [==============================] - 8s 8ms/step - loss: 0.0031 - accuracy: 0.9990 - val_loss: 0.1408 - val_accuracy: 0.9792\n",
            "Epoch 48/50\n",
            " 992/1000 [============================>.] - ETA: 0s - loss: 0.0058 - accuracy: 0.9983\n",
            "Epoch 48: val_loss did not improve from 0.06843\n",
            "1000/1000 [==============================] - 6s 6ms/step - loss: 0.0059 - accuracy: 0.9983 - val_loss: 0.1606 - val_accuracy: 0.9784\n",
            "Epoch 49/50\n",
            " 991/1000 [============================>.] - ETA: 0s - loss: 0.0061 - accuracy: 0.9983\n",
            "Epoch 49: val_loss did not improve from 0.06843\n",
            "1000/1000 [==============================] - 8s 8ms/step - loss: 0.0061 - accuracy: 0.9983 - val_loss: 0.1630 - val_accuracy: 0.9794\n",
            "Epoch 50/50\n",
            " 997/1000 [============================>.] - ETA: 0s - loss: 0.0030 - accuracy: 0.9991\n",
            "Epoch 50: val_loss did not improve from 0.06843\n",
            "1000/1000 [==============================] - 6s 6ms/step - loss: 0.0031 - accuracy: 0.9991 - val_loss: 0.1546 - val_accuracy: 0.9790\n"
          ]
        },
        {
          "output_type": "execute_result",
          "data": {
            "text/plain": [
              "<keras.src.callbacks.History at 0x78c208a30430>"
            ]
          },
          "metadata": {},
          "execution_count": 9
        }
      ]
    },
    {
      "cell_type": "code",
      "source": [
        "experiment.log_model(\"MNIST1\", \"mejor-modelo1.2.hdf5\")"
      ],
      "metadata": {
        "id": "-onR7D9SK9FN",
        "colab": {
          "base_uri": "https://localhost:8080/"
        },
        "outputId": "79b34d1a-4bab-48be-89da-61621b061cf9"
      },
      "execution_count": 11,
      "outputs": [
        {
          "output_type": "execute_result",
          "data": {
            "text/plain": [
              "{'web': 'https://www.comet.com/api/asset/download?assetId=38adea7faf3340af86955ab2f68b52a2&experimentKey=62d93f5600e84568a3ddadc93b9cd716',\n",
              " 'api': 'https://www.comet.com/api/rest/v2/experiment/asset/get-asset?assetId=38adea7faf3340af86955ab2f68b52a2&experimentKey=62d93f5600e84568a3ddadc93b9cd716',\n",
              " 'assetId': '38adea7faf3340af86955ab2f68b52a2'}"
            ]
          },
          "metadata": {},
          "execution_count": 11
        }
      ]
    },
    {
      "cell_type": "code",
      "source": [
        "experiment.end()"
      ],
      "metadata": {
        "colab": {
          "base_uri": "https://localhost:8080/"
        },
        "id": "aGoU0WClHoJJ",
        "outputId": "ecce9f86-9eab-4c4b-82af-b9d141ecf0d6"
      },
      "execution_count": 12,
      "outputs": [
        {
          "output_type": "stream",
          "name": "stderr",
          "text": [
            "\u001b[1;38;5;39mCOMET INFO:\u001b[0m ---------------------------------------------------------------------------------------\n",
            "\u001b[1;38;5;39mCOMET INFO:\u001b[0m Comet.ml Experiment Summary\n",
            "\u001b[1;38;5;39mCOMET INFO:\u001b[0m ---------------------------------------------------------------------------------------\n",
            "\u001b[1;38;5;39mCOMET INFO:\u001b[0m   Data:\n",
            "\u001b[1;38;5;39mCOMET INFO:\u001b[0m     display_summary_level : 1\n",
            "\u001b[1;38;5;39mCOMET INFO:\u001b[0m     url                   : https://www.comet.com/emivk/rnadigits/62d93f5600e84568a3ddadc93b9cd716\n",
            "\u001b[1;38;5;39mCOMET INFO:\u001b[0m   Metrics [count] (min, max):\n",
            "\u001b[1;38;5;39mCOMET INFO:\u001b[0m     accuracy [50]                 : (0.9302166700363159, 0.9991666674613953)\n",
            "\u001b[1;38;5;39mCOMET INFO:\u001b[0m     batch_accuracy [5000]         : (0.11666666716337204, 1.0)\n",
            "\u001b[1;38;5;39mCOMET INFO:\u001b[0m     batch_loss [5000]             : (3.377595092501906e-08, 2.346312999725342)\n",
            "\u001b[1;38;5;39mCOMET INFO:\u001b[0m     epoch_duration [50]           : (5.72204496500035, 8.203189859999839)\n",
            "\u001b[1;38;5;39mCOMET INFO:\u001b[0m     loss [50]                     : (0.003077890258282423, 0.23650723695755005)\n",
            "\u001b[1;38;5;39mCOMET INFO:\u001b[0m     val_accuracy [50]             : (0.9664999842643738, 0.9832000136375427)\n",
            "\u001b[1;38;5;39mCOMET INFO:\u001b[0m     val_loss [50]                 : (0.06842758506536484, 0.1681869924068451)\n",
            "\u001b[1;38;5;39mCOMET INFO:\u001b[0m     validate_batch_accuracy [850] : (0.9536585211753845, 1.0)\n",
            "\u001b[1;38;5;39mCOMET INFO:\u001b[0m     validate_batch_loss [850]     : (9.619489901524503e-06, 0.2624199390411377)\n",
            "\u001b[1;38;5;39mCOMET INFO:\u001b[0m   Others:\n",
            "\u001b[1;38;5;39mCOMET INFO:\u001b[0m     trainable_params : 178110\n",
            "\u001b[1;38;5;39mCOMET INFO:\u001b[0m   Parameters:\n",
            "\u001b[1;38;5;39mCOMET INFO:\u001b[0m     Adam_amsgrad                 : False\n",
            "\u001b[1;38;5;39mCOMET INFO:\u001b[0m     Adam_beta_1                  : 0.9\n",
            "\u001b[1;38;5;39mCOMET INFO:\u001b[0m     Adam_beta_2                  : 0.999\n",
            "\u001b[1;38;5;39mCOMET INFO:\u001b[0m     Adam_clipnorm                : 1\n",
            "\u001b[1;38;5;39mCOMET INFO:\u001b[0m     Adam_clipvalue               : 1\n",
            "\u001b[1;38;5;39mCOMET INFO:\u001b[0m     Adam_ema_momentum            : 0.99\n",
            "\u001b[1;38;5;39mCOMET INFO:\u001b[0m     Adam_ema_overwrite_frequency : 1\n",
            "\u001b[1;38;5;39mCOMET INFO:\u001b[0m     Adam_epsilon                 : 1e-07\n",
            "\u001b[1;38;5;39mCOMET INFO:\u001b[0m     Adam_global_clipnorm         : 1\n",
            "\u001b[1;38;5;39mCOMET INFO:\u001b[0m     Adam_is_legacy_optimizer     : False\n",
            "\u001b[1;38;5;39mCOMET INFO:\u001b[0m     Adam_jit_compile             : False\n",
            "\u001b[1;38;5;39mCOMET INFO:\u001b[0m     Adam_learning_rate           : 0.0010000000474974513\n",
            "\u001b[1;38;5;39mCOMET INFO:\u001b[0m     Adam_name                    : Adam\n",
            "\u001b[1;38;5;39mCOMET INFO:\u001b[0m     Adam_use_ema                 : False\n",
            "\u001b[1;38;5;39mCOMET INFO:\u001b[0m     Adam_weight_decay            : 1\n",
            "\u001b[1;38;5;39mCOMET INFO:\u001b[0m     batch_size                   : 60\n",
            "\u001b[1;38;5;39mCOMET INFO:\u001b[0m     epochs                       : 50\n",
            "\u001b[1;38;5;39mCOMET INFO:\u001b[0m     loss                         : categorical_crossentropy\n",
            "\u001b[1;38;5;39mCOMET INFO:\u001b[0m     optimizer                    : Adam\n",
            "\u001b[1;38;5;39mCOMET INFO:\u001b[0m     steps                        : 1000\n",
            "\u001b[1;38;5;39mCOMET INFO:\u001b[0m   Uploads:\n",
            "\u001b[1;38;5;39mCOMET INFO:\u001b[0m     environment details : 1\n",
            "\u001b[1;38;5;39mCOMET INFO:\u001b[0m     filename            : 1\n",
            "\u001b[1;38;5;39mCOMET INFO:\u001b[0m     histogram3d         : 459\n",
            "\u001b[1;38;5;39mCOMET INFO:\u001b[0m     installed packages  : 1\n",
            "\u001b[1;38;5;39mCOMET INFO:\u001b[0m     model graph         : 1\n",
            "\u001b[1;38;5;39mCOMET INFO:\u001b[0m     model-element       : 1 (2.07 MB)\n",
            "\u001b[1;38;5;39mCOMET INFO:\u001b[0m     notebook            : 2\n",
            "\u001b[1;38;5;39mCOMET INFO:\u001b[0m     os packages         : 1\n",
            "\u001b[1;38;5;39mCOMET INFO:\u001b[0m     source_code         : 1\n",
            "\u001b[1;38;5;39mCOMET INFO:\u001b[0m \n",
            "\u001b[1;38;5;39mCOMET INFO:\u001b[0m Please wait for metadata to finish uploading (timeout is 3600 seconds)\n"
          ]
        }
      ]
    }
  ]
}