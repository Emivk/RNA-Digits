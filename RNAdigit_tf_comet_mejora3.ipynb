{
  "nbformat": 4,
  "nbformat_minor": 0,
  "metadata": {
    "colab": {
      "provenance": [],
      "include_colab_link": true
    },
    "kernelspec": {
      "name": "python3",
      "display_name": "Python 3"
    },
    "language_info": {
      "name": "python"
    }
  },
  "cells": [
    {
      "cell_type": "markdown",
      "metadata": {
        "id": "view-in-github",
        "colab_type": "text"
      },
      "source": [
        "<a href=\"https://colab.research.google.com/github/Emivk/RNA-Digits/blob/master/RNAdigit_tf_comet_mejora3.ipynb\" target=\"_parent\"><img src=\"https://colab.research.google.com/assets/colab-badge.svg\" alt=\"Open In Colab\"/></a>"
      ]
    },
    {
      "cell_type": "code",
      "execution_count": 1,
      "metadata": {
        "colab": {
          "base_uri": "https://localhost:8080/"
        },
        "id": "L_Zg2IxMAiPk",
        "outputId": "3a931711-23f2-46e4-acc6-6072411b728b"
      },
      "outputs": [
        {
          "output_type": "stream",
          "name": "stdout",
          "text": [
            "Requirement already satisfied: comet_ml in /usr/local/lib/python3.10/dist-packages (3.33.10)\n",
            "Requirement already satisfied: jsonschema!=3.1.0,>=2.6.0 in /usr/local/lib/python3.10/dist-packages (from comet_ml) (4.19.0)\n",
            "Requirement already satisfied: psutil>=5.6.3 in /usr/local/lib/python3.10/dist-packages (from comet_ml) (5.9.5)\n",
            "Requirement already satisfied: python-box<7.0.0 in /usr/local/lib/python3.10/dist-packages (from comet_ml) (6.1.0)\n",
            "Requirement already satisfied: requests-toolbelt>=0.8.0 in /usr/local/lib/python3.10/dist-packages (from comet_ml) (1.0.0)\n",
            "Requirement already satisfied: requests>=2.18.4 in /usr/local/lib/python3.10/dist-packages (from comet_ml) (2.31.0)\n",
            "Requirement already satisfied: semantic-version>=2.8.0 in /usr/local/lib/python3.10/dist-packages (from comet_ml) (2.10.0)\n",
            "Requirement already satisfied: sentry-sdk>=1.1.0 in /usr/local/lib/python3.10/dist-packages (from comet_ml) (1.31.0)\n",
            "Requirement already satisfied: simplejson in /usr/local/lib/python3.10/dist-packages (from comet_ml) (3.19.1)\n",
            "Requirement already satisfied: six in /usr/local/lib/python3.10/dist-packages (from comet_ml) (1.16.0)\n",
            "Requirement already satisfied: urllib3>=1.21.1 in /usr/local/lib/python3.10/dist-packages (from comet_ml) (2.0.4)\n",
            "Requirement already satisfied: websocket-client<1.4.0,>=0.55.0 in /usr/local/lib/python3.10/dist-packages (from comet_ml) (1.3.3)\n",
            "Requirement already satisfied: wrapt>=1.11.2 in /usr/local/lib/python3.10/dist-packages (from comet_ml) (1.15.0)\n",
            "Requirement already satisfied: wurlitzer>=1.0.2 in /usr/local/lib/python3.10/dist-packages (from comet_ml) (3.0.3)\n",
            "Requirement already satisfied: everett[ini]<3.2.0,>=1.0.1 in /usr/local/lib/python3.10/dist-packages (from comet_ml) (3.1.0)\n",
            "Requirement already satisfied: dulwich!=0.20.33,>=0.20.6 in /usr/local/lib/python3.10/dist-packages (from comet_ml) (0.21.6)\n",
            "Requirement already satisfied: rich>=13.3.2 in /usr/local/lib/python3.10/dist-packages (from comet_ml) (13.5.2)\n",
            "Requirement already satisfied: configobj in /usr/local/lib/python3.10/dist-packages (from everett[ini]<3.2.0,>=1.0.1->comet_ml) (5.0.8)\n",
            "Requirement already satisfied: attrs>=22.2.0 in /usr/local/lib/python3.10/dist-packages (from jsonschema!=3.1.0,>=2.6.0->comet_ml) (23.1.0)\n",
            "Requirement already satisfied: jsonschema-specifications>=2023.03.6 in /usr/local/lib/python3.10/dist-packages (from jsonschema!=3.1.0,>=2.6.0->comet_ml) (2023.7.1)\n",
            "Requirement already satisfied: referencing>=0.28.4 in /usr/local/lib/python3.10/dist-packages (from jsonschema!=3.1.0,>=2.6.0->comet_ml) (0.30.2)\n",
            "Requirement already satisfied: rpds-py>=0.7.1 in /usr/local/lib/python3.10/dist-packages (from jsonschema!=3.1.0,>=2.6.0->comet_ml) (0.10.2)\n",
            "Requirement already satisfied: charset-normalizer<4,>=2 in /usr/local/lib/python3.10/dist-packages (from requests>=2.18.4->comet_ml) (3.2.0)\n",
            "Requirement already satisfied: idna<4,>=2.5 in /usr/local/lib/python3.10/dist-packages (from requests>=2.18.4->comet_ml) (3.4)\n",
            "Requirement already satisfied: certifi>=2017.4.17 in /usr/local/lib/python3.10/dist-packages (from requests>=2.18.4->comet_ml) (2023.7.22)\n",
            "Requirement already satisfied: markdown-it-py>=2.2.0 in /usr/local/lib/python3.10/dist-packages (from rich>=13.3.2->comet_ml) (3.0.0)\n",
            "Requirement already satisfied: pygments<3.0.0,>=2.13.0 in /usr/local/lib/python3.10/dist-packages (from rich>=13.3.2->comet_ml) (2.16.1)\n",
            "Requirement already satisfied: mdurl~=0.1 in /usr/local/lib/python3.10/dist-packages (from markdown-it-py>=2.2.0->rich>=13.3.2->comet_ml) (0.1.2)\n"
          ]
        }
      ],
      "source": [
        "%pip install comet_ml"
      ]
    },
    {
      "cell_type": "code",
      "source": [
        "import comet_ml\n",
        "comet_ml.init(project_name=\"rnadigits\")"
      ],
      "metadata": {
        "id": "g6hZpUiPAtrC"
      },
      "execution_count": 13,
      "outputs": []
    },
    {
      "cell_type": "code",
      "source": [
        "import tensorflow as tf\n",
        "from tensorflow import keras\n",
        "from tensorflow.keras.datasets import mnist\n",
        "from tensorflow.keras.models import Sequential\n",
        "from tensorflow.keras.layers import Dense, Dropout, Activation, Flatten, Input\n",
        "from tensorflow.keras.optimizers import RMSprop, SGD, Adam\n",
        "from tensorflow.keras import regularizers\n",
        "from keras.callbacks import ModelCheckpoint"
      ],
      "metadata": {
        "id": "czgl5_6tA7Pe"
      },
      "execution_count": 14,
      "outputs": []
    },
    {
      "cell_type": "code",
      "source": [
        "experiment = comet_ml.Experiment(\n",
        "    auto_histogram_weight_logging=True,\n",
        "    auto_histogram_gradient_logging=True,\n",
        "    auto_histogram_activation_logging=True,\n",
        "    log_code=True,\n",
        ")"
      ],
      "metadata": {
        "colab": {
          "base_uri": "https://localhost:8080/"
        },
        "id": "j__tspO4BGYR",
        "outputId": "31f23a2e-c85f-4042-a238-e3f9a672d4fa"
      },
      "execution_count": 15,
      "outputs": [
        {
          "output_type": "stream",
          "name": "stderr",
          "text": [
            "\u001b[1;38;5;214mCOMET WARNING:\u001b[0m As you are running in a Jupyter environment, you will need to call `experiment.end()` when finished to ensure all metrics and code are logged before exiting.\n",
            "\u001b[1;38;5;39mCOMET INFO:\u001b[0m Couldn't find a Git repository in '/content' nor in any parent directory. Set `COMET_GIT_DIRECTORY` if your Git Repository is elsewhere.\n",
            "\u001b[1;38;5;39mCOMET INFO:\u001b[0m Experiment is live on comet.com https://www.comet.com/emivk/rnadigits/be39483ae43342598bc144e65a468348\n",
            "\n"
          ]
        }
      ]
    },
    {
      "cell_type": "code",
      "source": [
        "dataset=mnist.load_data()\n",
        "(x_train, y_train), (x_test, y_test) = dataset\n",
        "\n",
        "x_train = x_train.astype('float32')\n",
        "x_test = x_test.astype('float32')\n",
        "\n",
        "x_train /= 255  # x_trainv = x_trainv/255\n",
        "x_test /= 255\n",
        "\n",
        "num_classes=10\n",
        "y_trainc = keras.utils.to_categorical(y_train, num_classes)\n",
        "y_testc = keras.utils.to_categorical(y_test, num_classes)"
      ],
      "metadata": {
        "id": "qJNeAdHbBUM-"
      },
      "execution_count": 16,
      "outputs": []
    },
    {
      "cell_type": "code",
      "source": [
        "parameters = {\n",
        "    \"batch_size\": 60,\n",
        "    \"epochs\": 50,\n",
        "    \"optimizer\": \"Adam\",\n",
        "    \"loss\": \"categorical_crossentropy\",\n",
        "}\n",
        "\n",
        "experiment.log_parameters(parameters)"
      ],
      "metadata": {
        "id": "zbiaW1VkBHH6"
      },
      "execution_count": 17,
      "outputs": []
    },
    {
      "cell_type": "code",
      "source": [
        "model = Sequential()\n",
        "model.add(Input(shape=(28,28))) #Flaten no tiene la opcion input_shape por lo tanto se tiene que agregar esta capa\n",
        "model.add(Flatten()) #Otra forma de aplanar las imagenes\n",
        "model.add(Dense(200, activation='relu'))\n",
        "model.add(Dense(100, activation='relu'))\n",
        "model.add(Dense(50, activation='relu'))\n",
        "\n",
        "#model.add(Dense(400, activation='relu', kernel_regularizer=regularizers.L1L2(l1=1e-5, l2=1e-4))) #Regularizacion L1L2\n",
        "#model.add(Dropout(0.2)) #Fraccion de enlaces a eliminar\n",
        "#model.add(Dense(200)) #Capa lineal , transformacion lineal sin funcion de activacion\n",
        "#model.add(Activation('tanh')) #Se puede agregar despues la funcion de activacion\n",
        "#model.add(Dense(400, activation='selu', kernel_regularizer=regularizers.L1(0.01) )) #Regularizacion L1\n",
        "#model.add(Dense(200, activation='elu', kernel_regularizer=regularizers.L2(l2=1e-4)) ) #Regularizacion L2\n",
        "#model.add(Dense(50,activation='exponential'))\n",
        "model.add(Dense(10, activation='softmax'))\n",
        "\n",
        "model.summary()"
      ],
      "metadata": {
        "colab": {
          "base_uri": "https://localhost:8080/"
        },
        "id": "GUl8whP1BOdy",
        "outputId": "cba65bcf-8354-41cb-964c-a8009dfdf8e7"
      },
      "execution_count": 18,
      "outputs": [
        {
          "output_type": "stream",
          "name": "stdout",
          "text": [
            "Model: \"sequential_1\"\n",
            "_________________________________________________________________\n",
            " Layer (type)                Output Shape              Param #   \n",
            "=================================================================\n",
            " flatten_1 (Flatten)         (None, 784)               0         \n",
            "                                                                 \n",
            " dense_3 (Dense)             (None, 200)               157000    \n",
            "                                                                 \n",
            " dense_4 (Dense)             (None, 100)               20100     \n",
            "                                                                 \n",
            " dense_5 (Dense)             (None, 50)                5050      \n",
            "                                                                 \n",
            " dense_6 (Dense)             (None, 10)                510       \n",
            "                                                                 \n",
            "=================================================================\n",
            "Total params: 182660 (713.52 KB)\n",
            "Trainable params: 182660 (713.52 KB)\n",
            "Non-trainable params: 0 (0.00 Byte)\n",
            "_________________________________________________________________\n"
          ]
        }
      ]
    },
    {
      "cell_type": "code",
      "source": [
        "# specify the path where you want to save the model\n",
        "filepath = \"mejor-modelo13.hdf5\"\n",
        "\n",
        "# initialize the ModelCheckpoint callback\n",
        "checkpoint = ModelCheckpoint(filepath, monitor='val_loss', verbose=1, save_best_only=True, mode='min')"
      ],
      "metadata": {
        "id": "yickXqeNHaGo"
      },
      "execution_count": 19,
      "outputs": []
    },
    {
      "cell_type": "code",
      "source": [
        "model.compile(loss=parameters['loss'],optimizer=parameters['optimizer'],metrics=['accuracy'])\n",
        "model.fit(x_train, y_trainc,\n",
        "                    batch_size=parameters['batch_size'],\n",
        "                    epochs=parameters[\"epochs\"],\n",
        "                    verbose=1,\n",
        "                    validation_data=(x_test, y_testc),\n",
        "                    callbacks=[checkpoint])"
      ],
      "metadata": {
        "colab": {
          "base_uri": "https://localhost:8080/"
        },
        "id": "RipmZnRwEznJ",
        "outputId": "cf822a34-0a32-4167-ca25-c1b749d7c5ea"
      },
      "execution_count": 20,
      "outputs": [
        {
          "output_type": "stream",
          "name": "stdout",
          "text": [
            "Epoch 1/50\n",
            " 993/1000 [============================>.] - ETA: 0s - loss: 0.2497 - accuracy: 0.9268\n",
            "Epoch 1: val_loss improved from inf to 0.12278, saving model to mejor-modelo13.hdf5\n",
            "1000/1000 [==============================] - 10s 9ms/step - loss: 0.2489 - accuracy: 0.9269 - val_loss: 0.1228 - val_accuracy: 0.9615\n",
            "Epoch 2/50\n",
            " 993/1000 [============================>.] - ETA: 0s - loss: 0.0999 - accuracy: 0.9698\n",
            "Epoch 2: val_loss improved from 0.12278 to 0.09604, saving model to mejor-modelo13.hdf5\n",
            "1000/1000 [==============================] - 6s 6ms/step - loss: 0.1001 - accuracy: 0.9698 - val_loss: 0.0960 - val_accuracy: 0.9706\n",
            "Epoch 3/50\n",
            " 994/1000 [============================>.] - ETA: 0s - loss: 0.0701 - accuracy: 0.9775\n",
            "Epoch 3: val_loss improved from 0.09604 to 0.08198, saving model to mejor-modelo13.hdf5\n",
            "1000/1000 [==============================] - 8s 8ms/step - loss: 0.0701 - accuracy: 0.9776 - val_loss: 0.0820 - val_accuracy: 0.9732\n",
            "Epoch 4/50\n",
            " 991/1000 [============================>.] - ETA: 0s - loss: 0.0516 - accuracy: 0.9838\n",
            "Epoch 4: val_loss improved from 0.08198 to 0.07431, saving model to mejor-modelo13.hdf5\n",
            "1000/1000 [==============================] - 7s 7ms/step - loss: 0.0517 - accuracy: 0.9837 - val_loss: 0.0743 - val_accuracy: 0.9772\n",
            "Epoch 5/50\n",
            "1000/1000 [==============================] - ETA: 0s - loss: 0.0418 - accuracy: 0.9862\n",
            "Epoch 5: val_loss did not improve from 0.07431\n",
            "1000/1000 [==============================] - 8s 8ms/step - loss: 0.0418 - accuracy: 0.9862 - val_loss: 0.0781 - val_accuracy: 0.9765\n",
            "Epoch 6/50\n",
            " 996/1000 [============================>.] - ETA: 0s - loss: 0.0348 - accuracy: 0.9891\n",
            "Epoch 6: val_loss did not improve from 0.07431\n",
            "1000/1000 [==============================] - 6s 6ms/step - loss: 0.0348 - accuracy: 0.9891 - val_loss: 0.0778 - val_accuracy: 0.9767\n",
            "Epoch 7/50\n",
            " 995/1000 [============================>.] - ETA: 0s - loss: 0.0303 - accuracy: 0.9900\n",
            "Epoch 7: val_loss did not improve from 0.07431\n",
            "1000/1000 [==============================] - 7s 7ms/step - loss: 0.0302 - accuracy: 0.9900 - val_loss: 0.0756 - val_accuracy: 0.9774\n",
            "Epoch 8/50\n",
            " 999/1000 [============================>.] - ETA: 0s - loss: 0.0228 - accuracy: 0.9924\n",
            "Epoch 8: val_loss did not improve from 0.07431\n",
            "1000/1000 [==============================] - 6s 6ms/step - loss: 0.0228 - accuracy: 0.9924 - val_loss: 0.0837 - val_accuracy: 0.9771\n",
            "Epoch 9/50\n",
            " 998/1000 [============================>.] - ETA: 0s - loss: 0.0227 - accuracy: 0.9924\n",
            "Epoch 9: val_loss did not improve from 0.07431\n",
            "1000/1000 [==============================] - 8s 8ms/step - loss: 0.0227 - accuracy: 0.9924 - val_loss: 0.1136 - val_accuracy: 0.9732\n",
            "Epoch 10/50\n",
            " 995/1000 [============================>.] - ETA: 0s - loss: 0.0196 - accuracy: 0.9935\n",
            "Epoch 10: val_loss did not improve from 0.07431\n",
            "1000/1000 [==============================] - 6s 6ms/step - loss: 0.0195 - accuracy: 0.9935 - val_loss: 0.0973 - val_accuracy: 0.9773\n",
            "Epoch 11/50\n",
            "1000/1000 [==============================] - ETA: 0s - loss: 0.0168 - accuracy: 0.9945\n",
            "Epoch 11: val_loss did not improve from 0.07431\n",
            "1000/1000 [==============================] - 7s 7ms/step - loss: 0.0168 - accuracy: 0.9945 - val_loss: 0.0964 - val_accuracy: 0.9760\n",
            "Epoch 12/50\n",
            " 996/1000 [============================>.] - ETA: 0s - loss: 0.0156 - accuracy: 0.9951\n",
            "Epoch 12: val_loss did not improve from 0.07431\n",
            "1000/1000 [==============================] - 7s 7ms/step - loss: 0.0158 - accuracy: 0.9951 - val_loss: 0.0888 - val_accuracy: 0.9792\n",
            "Epoch 13/50\n",
            " 993/1000 [============================>.] - ETA: 0s - loss: 0.0157 - accuracy: 0.9948\n",
            "Epoch 13: val_loss did not improve from 0.07431\n",
            "1000/1000 [==============================] - 7s 7ms/step - loss: 0.0157 - accuracy: 0.9948 - val_loss: 0.0983 - val_accuracy: 0.9773\n",
            "Epoch 14/50\n",
            " 997/1000 [============================>.] - ETA: 0s - loss: 0.0134 - accuracy: 0.9955\n",
            "Epoch 14: val_loss did not improve from 0.07431\n",
            "1000/1000 [==============================] - 6s 6ms/step - loss: 0.0134 - accuracy: 0.9955 - val_loss: 0.1154 - val_accuracy: 0.9733\n",
            "Epoch 15/50\n",
            " 997/1000 [============================>.] - ETA: 0s - loss: 0.0157 - accuracy: 0.9949\n",
            "Epoch 15: val_loss did not improve from 0.07431\n",
            "1000/1000 [==============================] - 7s 7ms/step - loss: 0.0156 - accuracy: 0.9949 - val_loss: 0.0846 - val_accuracy: 0.9795\n",
            "Epoch 16/50\n",
            " 995/1000 [============================>.] - ETA: 0s - loss: 0.0123 - accuracy: 0.9961\n",
            "Epoch 16: val_loss did not improve from 0.07431\n",
            "1000/1000 [==============================] - 6s 6ms/step - loss: 0.0122 - accuracy: 0.9961 - val_loss: 0.0873 - val_accuracy: 0.9812\n",
            "Epoch 17/50\n",
            " 997/1000 [============================>.] - ETA: 0s - loss: 0.0110 - accuracy: 0.9965\n",
            "Epoch 17: val_loss did not improve from 0.07431\n",
            "1000/1000 [==============================] - 8s 8ms/step - loss: 0.0110 - accuracy: 0.9965 - val_loss: 0.0845 - val_accuracy: 0.9826\n",
            "Epoch 18/50\n",
            "1000/1000 [==============================] - ETA: 0s - loss: 0.0133 - accuracy: 0.9957\n",
            "Epoch 18: val_loss did not improve from 0.07431\n",
            "1000/1000 [==============================] - 7s 7ms/step - loss: 0.0133 - accuracy: 0.9957 - val_loss: 0.0941 - val_accuracy: 0.9788\n",
            "Epoch 19/50\n",
            " 993/1000 [============================>.] - ETA: 0s - loss: 0.0085 - accuracy: 0.9971\n",
            "Epoch 19: val_loss did not improve from 0.07431\n",
            "1000/1000 [==============================] - 7s 7ms/step - loss: 0.0085 - accuracy: 0.9971 - val_loss: 0.0995 - val_accuracy: 0.9803\n",
            "Epoch 20/50\n",
            " 996/1000 [============================>.] - ETA: 0s - loss: 0.0098 - accuracy: 0.9969\n",
            "Epoch 20: val_loss did not improve from 0.07431\n",
            "1000/1000 [==============================] - 7s 7ms/step - loss: 0.0099 - accuracy: 0.9969 - val_loss: 0.1149 - val_accuracy: 0.9786\n",
            "Epoch 21/50\n",
            " 994/1000 [============================>.] - ETA: 0s - loss: 0.0122 - accuracy: 0.9960\n",
            "Epoch 21: val_loss did not improve from 0.07431\n",
            "1000/1000 [==============================] - 7s 7ms/step - loss: 0.0122 - accuracy: 0.9961 - val_loss: 0.1012 - val_accuracy: 0.9809\n",
            "Epoch 22/50\n",
            " 999/1000 [============================>.] - ETA: 0s - loss: 0.0065 - accuracy: 0.9978\n",
            "Epoch 22: val_loss did not improve from 0.07431\n",
            "1000/1000 [==============================] - 7s 7ms/step - loss: 0.0065 - accuracy: 0.9978 - val_loss: 0.1398 - val_accuracy: 0.9755\n",
            "Epoch 23/50\n",
            " 992/1000 [============================>.] - ETA: 0s - loss: 0.0104 - accuracy: 0.9967\n",
            "Epoch 23: val_loss did not improve from 0.07431\n",
            "1000/1000 [==============================] - 7s 7ms/step - loss: 0.0104 - accuracy: 0.9967 - val_loss: 0.1064 - val_accuracy: 0.9815\n",
            "Epoch 24/50\n",
            "1000/1000 [==============================] - ETA: 0s - loss: 0.0075 - accuracy: 0.9973\n",
            "Epoch 24: val_loss did not improve from 0.07431\n",
            "1000/1000 [==============================] - 7s 7ms/step - loss: 0.0075 - accuracy: 0.9973 - val_loss: 0.1098 - val_accuracy: 0.9798\n",
            "Epoch 25/50\n",
            " 991/1000 [============================>.] - ETA: 0s - loss: 0.0125 - accuracy: 0.9963\n",
            "Epoch 25: val_loss did not improve from 0.07431\n",
            "1000/1000 [==============================] - 7s 7ms/step - loss: 0.0124 - accuracy: 0.9963 - val_loss: 0.1022 - val_accuracy: 0.9796\n",
            "Epoch 26/50\n",
            "1000/1000 [==============================] - ETA: 0s - loss: 0.0048 - accuracy: 0.9983\n",
            "Epoch 26: val_loss did not improve from 0.07431\n",
            "1000/1000 [==============================] - 7s 7ms/step - loss: 0.0048 - accuracy: 0.9983 - val_loss: 0.1135 - val_accuracy: 0.9819\n",
            "Epoch 27/50\n",
            " 999/1000 [============================>.] - ETA: 0s - loss: 0.0096 - accuracy: 0.9973\n",
            "Epoch 27: val_loss did not improve from 0.07431\n",
            "1000/1000 [==============================] - 7s 7ms/step - loss: 0.0096 - accuracy: 0.9973 - val_loss: 0.1083 - val_accuracy: 0.9796\n",
            "Epoch 28/50\n",
            " 995/1000 [============================>.] - ETA: 0s - loss: 0.0077 - accuracy: 0.9978\n",
            "Epoch 28: val_loss did not improve from 0.07431\n",
            "1000/1000 [==============================] - 7s 7ms/step - loss: 0.0077 - accuracy: 0.9978 - val_loss: 0.1184 - val_accuracy: 0.9789\n",
            "Epoch 29/50\n",
            " 991/1000 [============================>.] - ETA: 0s - loss: 0.0096 - accuracy: 0.9968\n",
            "Epoch 29: val_loss did not improve from 0.07431\n",
            "1000/1000 [==============================] - 7s 7ms/step - loss: 0.0097 - accuracy: 0.9968 - val_loss: 0.1175 - val_accuracy: 0.9789\n",
            "Epoch 30/50\n",
            " 998/1000 [============================>.] - ETA: 0s - loss: 0.0050 - accuracy: 0.9983\n",
            "Epoch 30: val_loss did not improve from 0.07431\n",
            "1000/1000 [==============================] - 8s 8ms/step - loss: 0.0050 - accuracy: 0.9983 - val_loss: 0.1089 - val_accuracy: 0.9807\n",
            "Epoch 31/50\n",
            " 998/1000 [============================>.] - ETA: 0s - loss: 0.0087 - accuracy: 0.9972\n",
            "Epoch 31: val_loss did not improve from 0.07431\n",
            "1000/1000 [==============================] - 7s 7ms/step - loss: 0.0087 - accuracy: 0.9972 - val_loss: 0.1090 - val_accuracy: 0.9810\n",
            "Epoch 32/50\n",
            " 998/1000 [============================>.] - ETA: 0s - loss: 0.0033 - accuracy: 0.9990\n",
            "Epoch 32: val_loss did not improve from 0.07431\n",
            "1000/1000 [==============================] - 8s 8ms/step - loss: 0.0033 - accuracy: 0.9990 - val_loss: 0.1588 - val_accuracy: 0.9755\n",
            "Epoch 33/50\n",
            " 993/1000 [============================>.] - ETA: 0s - loss: 0.0096 - accuracy: 0.9969\n",
            "Epoch 33: val_loss did not improve from 0.07431\n",
            "1000/1000 [==============================] - 7s 7ms/step - loss: 0.0096 - accuracy: 0.9970 - val_loss: 0.1273 - val_accuracy: 0.9805\n",
            "Epoch 34/50\n",
            " 991/1000 [============================>.] - ETA: 0s - loss: 0.0046 - accuracy: 0.9986\n",
            "Epoch 34: val_loss did not improve from 0.07431\n",
            "1000/1000 [==============================] - 8s 8ms/step - loss: 0.0046 - accuracy: 0.9986 - val_loss: 0.1432 - val_accuracy: 0.9783\n",
            "Epoch 35/50\n",
            " 991/1000 [============================>.] - ETA: 0s - loss: 0.0058 - accuracy: 0.9984\n",
            "Epoch 35: val_loss did not improve from 0.07431\n",
            "1000/1000 [==============================] - 7s 7ms/step - loss: 0.0057 - accuracy: 0.9984 - val_loss: 0.1236 - val_accuracy: 0.9801\n",
            "Epoch 36/50\n",
            " 997/1000 [============================>.] - ETA: 0s - loss: 0.0069 - accuracy: 0.9978\n",
            "Epoch 36: val_loss did not improve from 0.07431\n",
            "1000/1000 [==============================] - 8s 8ms/step - loss: 0.0069 - accuracy: 0.9978 - val_loss: 0.1054 - val_accuracy: 0.9819\n",
            "Epoch 37/50\n",
            " 997/1000 [============================>.] - ETA: 0s - loss: 0.0084 - accuracy: 0.9976\n",
            "Epoch 37: val_loss did not improve from 0.07431\n",
            "1000/1000 [==============================] - 7s 7ms/step - loss: 0.0084 - accuracy: 0.9976 - val_loss: 0.1130 - val_accuracy: 0.9812\n",
            "Epoch 38/50\n",
            " 995/1000 [============================>.] - ETA: 0s - loss: 0.0063 - accuracy: 0.9982\n",
            "Epoch 38: val_loss did not improve from 0.07431\n",
            "1000/1000 [==============================] - 8s 8ms/step - loss: 0.0063 - accuracy: 0.9982 - val_loss: 0.1185 - val_accuracy: 0.9808\n",
            "Epoch 39/50\n",
            " 995/1000 [============================>.] - ETA: 0s - loss: 0.0044 - accuracy: 0.9988\n",
            "Epoch 39: val_loss did not improve from 0.07431\n",
            "1000/1000 [==============================] - 7s 7ms/step - loss: 0.0044 - accuracy: 0.9988 - val_loss: 0.1280 - val_accuracy: 0.9814\n",
            "Epoch 40/50\n",
            " 993/1000 [============================>.] - ETA: 0s - loss: 0.0074 - accuracy: 0.9976\n",
            "Epoch 40: val_loss did not improve from 0.07431\n",
            "1000/1000 [==============================] - 8s 8ms/step - loss: 0.0074 - accuracy: 0.9977 - val_loss: 0.1168 - val_accuracy: 0.9801\n",
            "Epoch 41/50\n",
            " 997/1000 [============================>.] - ETA: 0s - loss: 0.0039 - accuracy: 0.9988\n",
            "Epoch 41: val_loss did not improve from 0.07431\n",
            "1000/1000 [==============================] - 7s 7ms/step - loss: 0.0039 - accuracy: 0.9988 - val_loss: 0.1309 - val_accuracy: 0.9792\n",
            "Epoch 42/50\n",
            " 998/1000 [============================>.] - ETA: 0s - loss: 0.0045 - accuracy: 0.9986\n",
            "Epoch 42: val_loss did not improve from 0.07431\n",
            "1000/1000 [==============================] - 7s 7ms/step - loss: 0.0046 - accuracy: 0.9986 - val_loss: 0.1358 - val_accuracy: 0.9776\n",
            "Epoch 43/50\n",
            " 998/1000 [============================>.] - ETA: 0s - loss: 0.0067 - accuracy: 0.9981\n",
            "Epoch 43: val_loss did not improve from 0.07431\n",
            "1000/1000 [==============================] - 7s 7ms/step - loss: 0.0067 - accuracy: 0.9981 - val_loss: 0.1271 - val_accuracy: 0.9803\n",
            "Epoch 44/50\n",
            " 993/1000 [============================>.] - ETA: 0s - loss: 0.0057 - accuracy: 0.9983\n",
            "Epoch 44: val_loss did not improve from 0.07431\n",
            "1000/1000 [==============================] - 7s 7ms/step - loss: 0.0057 - accuracy: 0.9983 - val_loss: 0.1350 - val_accuracy: 0.9820\n",
            "Epoch 45/50\n",
            "1000/1000 [==============================] - ETA: 0s - loss: 0.0041 - accuracy: 0.9987\n",
            "Epoch 45: val_loss did not improve from 0.07431\n",
            "1000/1000 [==============================] - 8s 8ms/step - loss: 0.0041 - accuracy: 0.9987 - val_loss: 0.1195 - val_accuracy: 0.9817\n",
            "Epoch 46/50\n",
            " 995/1000 [============================>.] - ETA: 0s - loss: 0.0039 - accuracy: 0.9990\n",
            "Epoch 46: val_loss did not improve from 0.07431\n",
            "1000/1000 [==============================] - 7s 7ms/step - loss: 0.0039 - accuracy: 0.9990 - val_loss: 0.1287 - val_accuracy: 0.9802\n",
            "Epoch 47/50\n",
            "1000/1000 [==============================] - ETA: 0s - loss: 0.0079 - accuracy: 0.9980\n",
            "Epoch 47: val_loss did not improve from 0.07431\n",
            "1000/1000 [==============================] - 8s 8ms/step - loss: 0.0079 - accuracy: 0.9980 - val_loss: 0.1226 - val_accuracy: 0.9803\n",
            "Epoch 48/50\n",
            " 996/1000 [============================>.] - ETA: 0s - loss: 0.0040 - accuracy: 0.9986\n",
            "Epoch 48: val_loss did not improve from 0.07431\n",
            "1000/1000 [==============================] - 7s 7ms/step - loss: 0.0040 - accuracy: 0.9986 - val_loss: 0.1490 - val_accuracy: 0.9775\n",
            "Epoch 49/50\n",
            " 996/1000 [============================>.] - ETA: 0s - loss: 0.0048 - accuracy: 0.9985\n",
            "Epoch 49: val_loss did not improve from 0.07431\n",
            "1000/1000 [==============================] - 8s 8ms/step - loss: 0.0048 - accuracy: 0.9985 - val_loss: 0.1390 - val_accuracy: 0.9792\n",
            "Epoch 50/50\n",
            " 992/1000 [============================>.] - ETA: 0s - loss: 0.0048 - accuracy: 0.9986\n",
            "Epoch 50: val_loss did not improve from 0.07431\n",
            "1000/1000 [==============================] - 6s 6ms/step - loss: 0.0048 - accuracy: 0.9987 - val_loss: 0.1458 - val_accuracy: 0.9791\n"
          ]
        },
        {
          "output_type": "execute_result",
          "data": {
            "text/plain": [
              "<keras.src.callbacks.History at 0x78c204d72d40>"
            ]
          },
          "metadata": {},
          "execution_count": 20
        }
      ]
    },
    {
      "cell_type": "code",
      "source": [
        "experiment.log_model(\"MNIST1\", \"mejor-modelo13.hdf5\")"
      ],
      "metadata": {
        "id": "-onR7D9SK9FN",
        "colab": {
          "base_uri": "https://localhost:8080/"
        },
        "outputId": "f95938d2-b57a-46ab-f594-9fe50a4fbdac"
      },
      "execution_count": 21,
      "outputs": [
        {
          "output_type": "execute_result",
          "data": {
            "text/plain": [
              "{'web': 'https://www.comet.com/api/asset/download?assetId=87f29228df81422e87bb4d0a3b5af209&experimentKey=be39483ae43342598bc144e65a468348',\n",
              " 'api': 'https://www.comet.com/api/rest/v2/experiment/asset/get-asset?assetId=87f29228df81422e87bb4d0a3b5af209&experimentKey=be39483ae43342598bc144e65a468348',\n",
              " 'assetId': '87f29228df81422e87bb4d0a3b5af209'}"
            ]
          },
          "metadata": {},
          "execution_count": 21
        }
      ]
    },
    {
      "cell_type": "code",
      "source": [
        "experiment.end()"
      ],
      "metadata": {
        "colab": {
          "base_uri": "https://localhost:8080/"
        },
        "id": "aGoU0WClHoJJ",
        "outputId": "32613c99-d8b1-4092-af62-19d9efa684f5"
      },
      "execution_count": 22,
      "outputs": [
        {
          "output_type": "stream",
          "name": "stderr",
          "text": [
            "\u001b[1;38;5;39mCOMET INFO:\u001b[0m ---------------------------------------------------------------------------------------\n",
            "\u001b[1;38;5;39mCOMET INFO:\u001b[0m Comet.ml Experiment Summary\n",
            "\u001b[1;38;5;39mCOMET INFO:\u001b[0m ---------------------------------------------------------------------------------------\n",
            "\u001b[1;38;5;39mCOMET INFO:\u001b[0m   Data:\n",
            "\u001b[1;38;5;39mCOMET INFO:\u001b[0m     display_summary_level : 1\n",
            "\u001b[1;38;5;39mCOMET INFO:\u001b[0m     url                   : https://www.comet.com/emivk/rnadigits/be39483ae43342598bc144e65a468348\n",
            "\u001b[1;38;5;39mCOMET INFO:\u001b[0m   Metrics [count] (min, max):\n",
            "\u001b[1;38;5;39mCOMET INFO:\u001b[0m     accuracy [50]                 : (0.9269333481788635, 0.9990166425704956)\n",
            "\u001b[1;38;5;39mCOMET INFO:\u001b[0m     batch_accuracy [5000]         : (0.15000000596046448, 1.0)\n",
            "\u001b[1;38;5;39mCOMET INFO:\u001b[0m     batch_loss [5000]             : (1.4662406329080113e-06, 2.297135829925537)\n",
            "\u001b[1;38;5;39mCOMET INFO:\u001b[0m     epoch_duration [50]           : (6.174004930999217, 10.175494545999754)\n",
            "\u001b[1;38;5;39mCOMET INFO:\u001b[0m     loss [50]                     : (0.003281401004642248, 0.2488764524459839)\n",
            "\u001b[1;38;5;39mCOMET INFO:\u001b[0m     val_accuracy [50]             : (0.9614999890327454, 0.9825999736785889)\n",
            "\u001b[1;38;5;39mCOMET INFO:\u001b[0m     val_loss [50]                 : (0.07431308180093765, 0.15880192816257477)\n",
            "\u001b[1;38;5;39mCOMET INFO:\u001b[0m     validate_batch_accuracy [850] : (0.9483739733695984, 1.0)\n",
            "\u001b[1;38;5;39mCOMET INFO:\u001b[0m     validate_batch_loss [850]     : (8.841267344905646e-07, 0.25133758783340454)\n",
            "\u001b[1;38;5;39mCOMET INFO:\u001b[0m   Others:\n",
            "\u001b[1;38;5;39mCOMET INFO:\u001b[0m     trainable_params : 182660\n",
            "\u001b[1;38;5;39mCOMET INFO:\u001b[0m   Parameters:\n",
            "\u001b[1;38;5;39mCOMET INFO:\u001b[0m     Adam_amsgrad                 : False\n",
            "\u001b[1;38;5;39mCOMET INFO:\u001b[0m     Adam_beta_1                  : 0.9\n",
            "\u001b[1;38;5;39mCOMET INFO:\u001b[0m     Adam_beta_2                  : 0.999\n",
            "\u001b[1;38;5;39mCOMET INFO:\u001b[0m     Adam_clipnorm                : 1\n",
            "\u001b[1;38;5;39mCOMET INFO:\u001b[0m     Adam_clipvalue               : 1\n",
            "\u001b[1;38;5;39mCOMET INFO:\u001b[0m     Adam_ema_momentum            : 0.99\n",
            "\u001b[1;38;5;39mCOMET INFO:\u001b[0m     Adam_ema_overwrite_frequency : 1\n",
            "\u001b[1;38;5;39mCOMET INFO:\u001b[0m     Adam_epsilon                 : 1e-07\n",
            "\u001b[1;38;5;39mCOMET INFO:\u001b[0m     Adam_global_clipnorm         : 1\n",
            "\u001b[1;38;5;39mCOMET INFO:\u001b[0m     Adam_is_legacy_optimizer     : False\n",
            "\u001b[1;38;5;39mCOMET INFO:\u001b[0m     Adam_jit_compile             : False\n",
            "\u001b[1;38;5;39mCOMET INFO:\u001b[0m     Adam_learning_rate           : 0.0010000000474974513\n",
            "\u001b[1;38;5;39mCOMET INFO:\u001b[0m     Adam_name                    : Adam\n",
            "\u001b[1;38;5;39mCOMET INFO:\u001b[0m     Adam_use_ema                 : False\n",
            "\u001b[1;38;5;39mCOMET INFO:\u001b[0m     Adam_weight_decay            : 1\n",
            "\u001b[1;38;5;39mCOMET INFO:\u001b[0m     batch_size                   : 60\n",
            "\u001b[1;38;5;39mCOMET INFO:\u001b[0m     epochs                       : 50\n",
            "\u001b[1;38;5;39mCOMET INFO:\u001b[0m     loss                         : categorical_crossentropy\n",
            "\u001b[1;38;5;39mCOMET INFO:\u001b[0m     optimizer                    : Adam\n",
            "\u001b[1;38;5;39mCOMET INFO:\u001b[0m     steps                        : 1000\n",
            "\u001b[1;38;5;39mCOMET INFO:\u001b[0m   Uploads:\n",
            "\u001b[1;38;5;39mCOMET INFO:\u001b[0m     environment details : 1\n",
            "\u001b[1;38;5;39mCOMET INFO:\u001b[0m     filename            : 1\n",
            "\u001b[1;38;5;39mCOMET INFO:\u001b[0m     histogram3d         : 561\n",
            "\u001b[1;38;5;39mCOMET INFO:\u001b[0m     installed packages  : 1\n",
            "\u001b[1;38;5;39mCOMET INFO:\u001b[0m     model graph         : 1\n",
            "\u001b[1;38;5;39mCOMET INFO:\u001b[0m     model-element       : 1 (2.13 MB)\n",
            "\u001b[1;38;5;39mCOMET INFO:\u001b[0m     notebook            : 2\n",
            "\u001b[1;38;5;39mCOMET INFO:\u001b[0m     os packages         : 1\n",
            "\u001b[1;38;5;39mCOMET INFO:\u001b[0m     source_code         : 1\n",
            "\u001b[1;38;5;39mCOMET INFO:\u001b[0m \n",
            "\u001b[1;38;5;39mCOMET INFO:\u001b[0m Uploading 1 metrics, params and output messages\n"
          ]
        }
      ]
    }
  ]
}