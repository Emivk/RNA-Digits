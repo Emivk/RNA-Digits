{
  "nbformat": 4,
  "nbformat_minor": 0,
  "metadata": {
    "colab": {
      "provenance": [],
      "include_colab_link": true
    },
    "kernelspec": {
      "name": "python3",
      "display_name": "Python 3"
    },
    "language_info": {
      "name": "python"
    }
  },
  "cells": [
    {
      "cell_type": "markdown",
      "metadata": {
        "id": "view-in-github",
        "colab_type": "text"
      },
      "source": [
        "<a href=\"https://colab.research.google.com/github/Emivk/RNA-Digits/blob/master/RNAdigit_tf_comet_an%C3%A1lisisAL2.ipynb\" target=\"_parent\"><img src=\"https://colab.research.google.com/assets/colab-badge.svg\" alt=\"Open In Colab\"/></a>"
      ]
    },
    {
      "cell_type": "code",
      "execution_count": 1,
      "metadata": {
        "colab": {
          "base_uri": "https://localhost:8080/"
        },
        "id": "L_Zg2IxMAiPk",
        "outputId": "3a931711-23f2-46e4-acc6-6072411b728b"
      },
      "outputs": [
        {
          "output_type": "stream",
          "name": "stdout",
          "text": [
            "Requirement already satisfied: comet_ml in /usr/local/lib/python3.10/dist-packages (3.33.10)\n",
            "Requirement already satisfied: jsonschema!=3.1.0,>=2.6.0 in /usr/local/lib/python3.10/dist-packages (from comet_ml) (4.19.0)\n",
            "Requirement already satisfied: psutil>=5.6.3 in /usr/local/lib/python3.10/dist-packages (from comet_ml) (5.9.5)\n",
            "Requirement already satisfied: python-box<7.0.0 in /usr/local/lib/python3.10/dist-packages (from comet_ml) (6.1.0)\n",
            "Requirement already satisfied: requests-toolbelt>=0.8.0 in /usr/local/lib/python3.10/dist-packages (from comet_ml) (1.0.0)\n",
            "Requirement already satisfied: requests>=2.18.4 in /usr/local/lib/python3.10/dist-packages (from comet_ml) (2.31.0)\n",
            "Requirement already satisfied: semantic-version>=2.8.0 in /usr/local/lib/python3.10/dist-packages (from comet_ml) (2.10.0)\n",
            "Requirement already satisfied: sentry-sdk>=1.1.0 in /usr/local/lib/python3.10/dist-packages (from comet_ml) (1.31.0)\n",
            "Requirement already satisfied: simplejson in /usr/local/lib/python3.10/dist-packages (from comet_ml) (3.19.1)\n",
            "Requirement already satisfied: six in /usr/local/lib/python3.10/dist-packages (from comet_ml) (1.16.0)\n",
            "Requirement already satisfied: urllib3>=1.21.1 in /usr/local/lib/python3.10/dist-packages (from comet_ml) (2.0.4)\n",
            "Requirement already satisfied: websocket-client<1.4.0,>=0.55.0 in /usr/local/lib/python3.10/dist-packages (from comet_ml) (1.3.3)\n",
            "Requirement already satisfied: wrapt>=1.11.2 in /usr/local/lib/python3.10/dist-packages (from comet_ml) (1.15.0)\n",
            "Requirement already satisfied: wurlitzer>=1.0.2 in /usr/local/lib/python3.10/dist-packages (from comet_ml) (3.0.3)\n",
            "Requirement already satisfied: everett[ini]<3.2.0,>=1.0.1 in /usr/local/lib/python3.10/dist-packages (from comet_ml) (3.1.0)\n",
            "Requirement already satisfied: dulwich!=0.20.33,>=0.20.6 in /usr/local/lib/python3.10/dist-packages (from comet_ml) (0.21.6)\n",
            "Requirement already satisfied: rich>=13.3.2 in /usr/local/lib/python3.10/dist-packages (from comet_ml) (13.5.2)\n",
            "Requirement already satisfied: configobj in /usr/local/lib/python3.10/dist-packages (from everett[ini]<3.2.0,>=1.0.1->comet_ml) (5.0.8)\n",
            "Requirement already satisfied: attrs>=22.2.0 in /usr/local/lib/python3.10/dist-packages (from jsonschema!=3.1.0,>=2.6.0->comet_ml) (23.1.0)\n",
            "Requirement already satisfied: jsonschema-specifications>=2023.03.6 in /usr/local/lib/python3.10/dist-packages (from jsonschema!=3.1.0,>=2.6.0->comet_ml) (2023.7.1)\n",
            "Requirement already satisfied: referencing>=0.28.4 in /usr/local/lib/python3.10/dist-packages (from jsonschema!=3.1.0,>=2.6.0->comet_ml) (0.30.2)\n",
            "Requirement already satisfied: rpds-py>=0.7.1 in /usr/local/lib/python3.10/dist-packages (from jsonschema!=3.1.0,>=2.6.0->comet_ml) (0.10.2)\n",
            "Requirement already satisfied: charset-normalizer<4,>=2 in /usr/local/lib/python3.10/dist-packages (from requests>=2.18.4->comet_ml) (3.2.0)\n",
            "Requirement already satisfied: idna<4,>=2.5 in /usr/local/lib/python3.10/dist-packages (from requests>=2.18.4->comet_ml) (3.4)\n",
            "Requirement already satisfied: certifi>=2017.4.17 in /usr/local/lib/python3.10/dist-packages (from requests>=2.18.4->comet_ml) (2023.7.22)\n",
            "Requirement already satisfied: markdown-it-py>=2.2.0 in /usr/local/lib/python3.10/dist-packages (from rich>=13.3.2->comet_ml) (3.0.0)\n",
            "Requirement already satisfied: pygments<3.0.0,>=2.13.0 in /usr/local/lib/python3.10/dist-packages (from rich>=13.3.2->comet_ml) (2.16.1)\n",
            "Requirement already satisfied: mdurl~=0.1 in /usr/local/lib/python3.10/dist-packages (from markdown-it-py>=2.2.0->rich>=13.3.2->comet_ml) (0.1.2)\n"
          ]
        }
      ],
      "source": [
        "%pip install comet_ml"
      ]
    },
    {
      "cell_type": "code",
      "source": [
        "import comet_ml\n",
        "comet_ml.init(project_name=\"rnadigits\")"
      ],
      "metadata": {
        "id": "g6hZpUiPAtrC"
      },
      "execution_count": 13,
      "outputs": []
    },
    {
      "cell_type": "code",
      "source": [
        "import tensorflow as tf\n",
        "from tensorflow import keras\n",
        "from tensorflow.keras.datasets import mnist\n",
        "from tensorflow.keras.models import Sequential\n",
        "from tensorflow.keras.layers import Dense, Dropout, Activation, Flatten, Input\n",
        "from tensorflow.keras.optimizers import RMSprop, SGD, Adam\n",
        "from tensorflow.keras import regularizers\n",
        "from keras.callbacks import ModelCheckpoint"
      ],
      "metadata": {
        "id": "czgl5_6tA7Pe"
      },
      "execution_count": 14,
      "outputs": []
    },
    {
      "cell_type": "code",
      "source": [
        "experiment = comet_ml.Experiment(\n",
        "    auto_histogram_weight_logging=True,\n",
        "    auto_histogram_gradient_logging=True,\n",
        "    auto_histogram_activation_logging=True,\n",
        "    log_code=True,\n",
        ")"
      ],
      "metadata": {
        "colab": {
          "base_uri": "https://localhost:8080/"
        },
        "id": "j__tspO4BGYR",
        "outputId": "ef850c72-47fc-4b5d-d027-8db1ca6c123c"
      },
      "execution_count": 38,
      "outputs": [
        {
          "output_type": "stream",
          "name": "stderr",
          "text": [
            "\u001b[1;38;5;214mCOMET WARNING:\u001b[0m As you are running in a Jupyter environment, you will need to call `experiment.end()` when finished to ensure all metrics and code are logged before exiting.\n",
            "\u001b[1;38;5;39mCOMET INFO:\u001b[0m Couldn't find a Git repository in '/content' nor in any parent directory. Set `COMET_GIT_DIRECTORY` if your Git Repository is elsewhere.\n",
            "\u001b[1;38;5;39mCOMET INFO:\u001b[0m Experiment is live on comet.com https://www.comet.com/emivk/rnadigits/2a7e8da2488e48789636acbd0c53a1a7\n",
            "\n"
          ]
        }
      ]
    },
    {
      "cell_type": "code",
      "source": [
        "dataset=mnist.load_data()\n",
        "(x_train, y_train), (x_test, y_test) = dataset\n",
        "\n",
        "x_train = x_train.astype('float32')\n",
        "x_test = x_test.astype('float32')\n",
        "\n",
        "x_train /= 255  # x_trainv = x_trainv/255\n",
        "x_test /= 255\n",
        "\n",
        "num_classes=10\n",
        "y_trainc = keras.utils.to_categorical(y_train, num_classes)\n",
        "y_testc = keras.utils.to_categorical(y_test, num_classes)"
      ],
      "metadata": {
        "id": "qJNeAdHbBUM-"
      },
      "execution_count": 32,
      "outputs": []
    },
    {
      "cell_type": "code",
      "source": [
        "parameters = {\n",
        "    \"batch_size\": 60,\n",
        "    \"epochs\": 50,\n",
        "    \"optimizer\": \"Adam\",\n",
        "    \"loss\": \"categorical_crossentropy\",\n",
        "}\n",
        "\n",
        "experiment.log_parameters(parameters)"
      ],
      "metadata": {
        "id": "zbiaW1VkBHH6"
      },
      "execution_count": 33,
      "outputs": []
    },
    {
      "cell_type": "code",
      "source": [
        "model = Sequential()\n",
        "model.add(Input(shape=(28,28))) #Flaten no tiene la opcion input_shape por lo tanto se tiene que agregar esta capa\n",
        "model.add(Flatten()) #Otra forma de aplanar las imagenes\n",
        "model.add(Dense(200, activation='relu', kernel_regularizer=regularizers.L2(l2=1e-4)))\n",
        "model.add(Dense(100, activation='relu', kernel_regularizer=regularizers.L2(l2=1e-4)))\n",
        "\n",
        "#model.add(Dense(400, activation='relu', kernel_regularizer=regularizers.L1L2(l1=1e-5, l2=1e-4))) #Regularizacion L1L2\n",
        "#model.add(Dropout(0.2)) #Fraccion de enlaces a eliminar\n",
        "#model.add(Dense(200)) #Capa lineal , transformacion lineal sin funcion de activacion\n",
        "#model.add(Activation('tanh')) #Se puede agregar despues la funcion de activacion\n",
        "#model.add(Dense(400, activation='selu', kernel_regularizer=regularizers.L1(0.01) )) #Regularizacion L1\n",
        "#model.add(Dense(200, activation='elu', kernel_regularizer=regularizers.L2(l2=1e-4)) ) #Regularizacion L2\n",
        "#model.add(Dense(50,activation='exponential'))\n",
        "model.add(Dense(10, activation='softmax'))\n",
        "\n",
        "model.summary()"
      ],
      "metadata": {
        "colab": {
          "base_uri": "https://localhost:8080/"
        },
        "id": "GUl8whP1BOdy",
        "outputId": "10d00328-ea20-453d-c8cc-3225c657d689"
      },
      "execution_count": 39,
      "outputs": [
        {
          "output_type": "stream",
          "name": "stdout",
          "text": [
            "Model: \"sequential_4\"\n",
            "_________________________________________________________________\n",
            " Layer (type)                Output Shape              Param #   \n",
            "=================================================================\n",
            " flatten_4 (Flatten)         (None, 784)               0         \n",
            "                                                                 \n",
            " dense_13 (Dense)            (None, 200)               157000    \n",
            "                                                                 \n",
            " dense_14 (Dense)            (None, 100)               20100     \n",
            "                                                                 \n",
            " dense_15 (Dense)            (None, 10)                1010      \n",
            "                                                                 \n",
            "=================================================================\n",
            "Total params: 178110 (695.74 KB)\n",
            "Trainable params: 178110 (695.74 KB)\n",
            "Non-trainable params: 0 (0.00 Byte)\n",
            "_________________________________________________________________\n"
          ]
        }
      ]
    },
    {
      "cell_type": "code",
      "source": [
        "# specify the path where you want to save the model\n",
        "filepath = \"mejor-modeloAL2.hdf5\"\n",
        "\n",
        "# initialize the ModelCheckpoint callback\n",
        "checkpoint = ModelCheckpoint(filepath, monitor='val_loss', verbose=1, save_best_only=True, mode='min')"
      ],
      "metadata": {
        "id": "yickXqeNHaGo"
      },
      "execution_count": 40,
      "outputs": []
    },
    {
      "cell_type": "code",
      "source": [
        "model.compile(loss=parameters['loss'],optimizer=parameters['optimizer'],metrics=['accuracy'])\n",
        "model.fit(x_train, y_trainc,\n",
        "                    batch_size=parameters['batch_size'],\n",
        "                    epochs=parameters[\"epochs\"],\n",
        "                    verbose=1,\n",
        "                    validation_data=(x_test, y_testc),\n",
        "                    callbacks=[checkpoint])"
      ],
      "metadata": {
        "colab": {
          "base_uri": "https://localhost:8080/"
        },
        "id": "RipmZnRwEznJ",
        "outputId": "8b494907-2146-4d0a-c45d-e2d77acdef14"
      },
      "execution_count": 41,
      "outputs": [
        {
          "output_type": "stream",
          "name": "stdout",
          "text": [
            "Epoch 1/50\n",
            " 997/1000 [============================>.] - ETA: 0s - loss: 0.2823 - accuracy: 0.9295\n",
            "Epoch 1: val_loss improved from inf to 0.16215, saving model to mejor-modeloAL2.hdf5\n",
            "1000/1000 [==============================] - 9s 7ms/step - loss: 0.2818 - accuracy: 0.9297 - val_loss: 0.1622 - val_accuracy: 0.9634\n",
            "Epoch 2/50\n",
            " 999/1000 [============================>.] - ETA: 0s - loss: 0.1425 - accuracy: 0.9695\n",
            "Epoch 2: val_loss improved from 0.16215 to 0.13472, saving model to mejor-modeloAL2.hdf5\n",
            "1000/1000 [==============================] - 6s 6ms/step - loss: 0.1426 - accuracy: 0.9695 - val_loss: 0.1347 - val_accuracy: 0.9704\n",
            "Epoch 3/50\n",
            " 996/1000 [============================>.] - ETA: 0s - loss: 0.1165 - accuracy: 0.9778\n",
            "Epoch 3: val_loss improved from 0.13472 to 0.12573, saving model to mejor-modeloAL2.hdf5\n",
            "1000/1000 [==============================] - 8s 8ms/step - loss: 0.1164 - accuracy: 0.9779 - val_loss: 0.1257 - val_accuracy: 0.9743\n",
            "Epoch 4/50\n",
            " 994/1000 [============================>.] - ETA: 0s - loss: 0.1033 - accuracy: 0.9819\n",
            "Epoch 4: val_loss did not improve from 0.12573\n",
            "1000/1000 [==============================] - 6s 6ms/step - loss: 0.1033 - accuracy: 0.9819 - val_loss: 0.1374 - val_accuracy: 0.9718\n",
            "Epoch 5/50\n",
            " 996/1000 [============================>.] - ETA: 0s - loss: 0.0941 - accuracy: 0.9847\n",
            "Epoch 5: val_loss improved from 0.12573 to 0.12199, saving model to mejor-modeloAL2.hdf5\n",
            "1000/1000 [==============================] - 8s 8ms/step - loss: 0.0940 - accuracy: 0.9848 - val_loss: 0.1220 - val_accuracy: 0.9751\n",
            "Epoch 6/50\n",
            " 993/1000 [============================>.] - ETA: 0s - loss: 0.0862 - accuracy: 0.9873\n",
            "Epoch 6: val_loss improved from 0.12199 to 0.11357, saving model to mejor-modeloAL2.hdf5\n",
            "1000/1000 [==============================] - 6s 6ms/step - loss: 0.0861 - accuracy: 0.9873 - val_loss: 0.1136 - val_accuracy: 0.9784\n",
            "Epoch 7/50\n",
            " 997/1000 [============================>.] - ETA: 0s - loss: 0.0833 - accuracy: 0.9881\n",
            "Epoch 7: val_loss did not improve from 0.11357\n",
            "1000/1000 [==============================] - 7s 7ms/step - loss: 0.0833 - accuracy: 0.9881 - val_loss: 0.1213 - val_accuracy: 0.9775\n",
            "Epoch 8/50\n",
            "1000/1000 [==============================] - ETA: 0s - loss: 0.0801 - accuracy: 0.9890\n",
            "Epoch 8: val_loss did not improve from 0.11357\n",
            "1000/1000 [==============================] - 6s 6ms/step - loss: 0.0801 - accuracy: 0.9890 - val_loss: 0.1175 - val_accuracy: 0.9778\n",
            "Epoch 9/50\n",
            " 992/1000 [============================>.] - ETA: 0s - loss: 0.0769 - accuracy: 0.9894\n",
            "Epoch 9: val_loss improved from 0.11357 to 0.11108, saving model to mejor-modeloAL2.hdf5\n",
            "1000/1000 [==============================] - 8s 8ms/step - loss: 0.0770 - accuracy: 0.9894 - val_loss: 0.1111 - val_accuracy: 0.9797\n",
            "Epoch 10/50\n",
            " 992/1000 [============================>.] - ETA: 0s - loss: 0.0734 - accuracy: 0.9906\n",
            "Epoch 10: val_loss improved from 0.11108 to 0.11085, saving model to mejor-modeloAL2.hdf5\n",
            "1000/1000 [==============================] - 6s 6ms/step - loss: 0.0734 - accuracy: 0.9906 - val_loss: 0.1108 - val_accuracy: 0.9809\n",
            "Epoch 11/50\n",
            " 992/1000 [============================>.] - ETA: 0s - loss: 0.0721 - accuracy: 0.9903\n",
            "Epoch 11: val_loss improved from 0.11085 to 0.10746, saving model to mejor-modeloAL2.hdf5\n",
            "1000/1000 [==============================] - 7s 7ms/step - loss: 0.0720 - accuracy: 0.9904 - val_loss: 0.1075 - val_accuracy: 0.9807\n",
            "Epoch 12/50\n",
            " 995/1000 [============================>.] - ETA: 0s - loss: 0.0684 - accuracy: 0.9919\n",
            "Epoch 12: val_loss did not improve from 0.10746\n",
            "1000/1000 [==============================] - 7s 7ms/step - loss: 0.0686 - accuracy: 0.9919 - val_loss: 0.1147 - val_accuracy: 0.9787\n",
            "Epoch 13/50\n",
            " 998/1000 [============================>.] - ETA: 0s - loss: 0.0667 - accuracy: 0.9917\n",
            "Epoch 13: val_loss did not improve from 0.10746\n",
            "1000/1000 [==============================] - 7s 7ms/step - loss: 0.0667 - accuracy: 0.9917 - val_loss: 0.1180 - val_accuracy: 0.9777\n",
            "Epoch 14/50\n",
            " 998/1000 [============================>.] - ETA: 0s - loss: 0.0662 - accuracy: 0.9916\n",
            "Epoch 14: val_loss improved from 0.10746 to 0.10739, saving model to mejor-modeloAL2.hdf5\n",
            "1000/1000 [==============================] - 6s 6ms/step - loss: 0.0662 - accuracy: 0.9916 - val_loss: 0.1074 - val_accuracy: 0.9805\n",
            "Epoch 15/50\n",
            " 994/1000 [============================>.] - ETA: 0s - loss: 0.0635 - accuracy: 0.9928\n",
            "Epoch 15: val_loss improved from 0.10739 to 0.10590, saving model to mejor-modeloAL2.hdf5\n",
            "1000/1000 [==============================] - 7s 7ms/step - loss: 0.0635 - accuracy: 0.9929 - val_loss: 0.1059 - val_accuracy: 0.9805\n",
            "Epoch 16/50\n",
            " 998/1000 [============================>.] - ETA: 0s - loss: 0.0638 - accuracy: 0.9924\n",
            "Epoch 16: val_loss did not improve from 0.10590\n",
            "1000/1000 [==============================] - 6s 6ms/step - loss: 0.0638 - accuracy: 0.9923 - val_loss: 0.1251 - val_accuracy: 0.9753\n",
            "Epoch 17/50\n",
            " 998/1000 [============================>.] - ETA: 0s - loss: 0.0622 - accuracy: 0.9926\n",
            "Epoch 17: val_loss did not improve from 0.10590\n",
            "1000/1000 [==============================] - 8s 7ms/step - loss: 0.0622 - accuracy: 0.9926 - val_loss: 0.1108 - val_accuracy: 0.9798\n",
            "Epoch 18/50\n",
            " 993/1000 [============================>.] - ETA: 0s - loss: 0.0612 - accuracy: 0.9927\n",
            "Epoch 18: val_loss did not improve from 0.10590\n",
            "1000/1000 [==============================] - 6s 6ms/step - loss: 0.0614 - accuracy: 0.9927 - val_loss: 0.1078 - val_accuracy: 0.9798\n",
            "Epoch 19/50\n",
            " 997/1000 [============================>.] - ETA: 0s - loss: 0.0599 - accuracy: 0.9933\n",
            "Epoch 19: val_loss did not improve from 0.10590\n",
            "1000/1000 [==============================] - 7s 7ms/step - loss: 0.0600 - accuracy: 0.9933 - val_loss: 0.1244 - val_accuracy: 0.9763\n",
            "Epoch 20/50\n",
            "1000/1000 [==============================] - ETA: 0s - loss: 0.0598 - accuracy: 0.9930\n",
            "Epoch 20: val_loss improved from 0.10590 to 0.10588, saving model to mejor-modeloAL2.hdf5\n",
            "1000/1000 [==============================] - 6s 6ms/step - loss: 0.0598 - accuracy: 0.9930 - val_loss: 0.1059 - val_accuracy: 0.9816\n",
            "Epoch 21/50\n",
            "1000/1000 [==============================] - ETA: 0s - loss: 0.0583 - accuracy: 0.9934\n",
            "Epoch 21: val_loss did not improve from 0.10588\n",
            "1000/1000 [==============================] - 8s 8ms/step - loss: 0.0583 - accuracy: 0.9934 - val_loss: 0.1165 - val_accuracy: 0.9787\n",
            "Epoch 22/50\n",
            " 996/1000 [============================>.] - ETA: 0s - loss: 0.0571 - accuracy: 0.9937\n",
            "Epoch 22: val_loss did not improve from 0.10588\n",
            "1000/1000 [==============================] - 7s 7ms/step - loss: 0.0572 - accuracy: 0.9937 - val_loss: 0.1271 - val_accuracy: 0.9757\n",
            "Epoch 23/50\n",
            " 993/1000 [============================>.] - ETA: 0s - loss: 0.0571 - accuracy: 0.9934\n",
            "Epoch 23: val_loss did not improve from 0.10588\n",
            "1000/1000 [==============================] - 7s 7ms/step - loss: 0.0571 - accuracy: 0.9935 - val_loss: 0.1081 - val_accuracy: 0.9817\n",
            "Epoch 24/50\n",
            " 995/1000 [============================>.] - ETA: 0s - loss: 0.0553 - accuracy: 0.9939\n",
            "Epoch 24: val_loss did not improve from 0.10588\n",
            "1000/1000 [==============================] - 7s 7ms/step - loss: 0.0553 - accuracy: 0.9940 - val_loss: 0.1204 - val_accuracy: 0.9777\n",
            "Epoch 25/50\n",
            " 992/1000 [============================>.] - ETA: 0s - loss: 0.0570 - accuracy: 0.9933\n",
            "Epoch 25: val_loss did not improve from 0.10588\n",
            "1000/1000 [==============================] - 7s 7ms/step - loss: 0.0571 - accuracy: 0.9933 - val_loss: 0.1066 - val_accuracy: 0.9806\n",
            "Epoch 26/50\n",
            "1000/1000 [==============================] - ETA: 0s - loss: 0.0558 - accuracy: 0.9940\n",
            "Epoch 26: val_loss did not improve from 0.10588\n",
            "1000/1000 [==============================] - 7s 7ms/step - loss: 0.0558 - accuracy: 0.9940 - val_loss: 0.1166 - val_accuracy: 0.9782\n",
            "Epoch 27/50\n",
            " 997/1000 [============================>.] - ETA: 0s - loss: 0.0562 - accuracy: 0.9936\n",
            "Epoch 27: val_loss did not improve from 0.10588\n",
            "1000/1000 [==============================] - 7s 7ms/step - loss: 0.0562 - accuracy: 0.9936 - val_loss: 0.1126 - val_accuracy: 0.9792\n",
            "Epoch 28/50\n",
            "1000/1000 [==============================] - ETA: 0s - loss: 0.0572 - accuracy: 0.9932\n",
            "Epoch 28: val_loss did not improve from 0.10588\n",
            "1000/1000 [==============================] - 7s 7ms/step - loss: 0.0572 - accuracy: 0.9932 - val_loss: 0.1093 - val_accuracy: 0.9785\n",
            "Epoch 29/50\n",
            " 996/1000 [============================>.] - ETA: 0s - loss: 0.0529 - accuracy: 0.9946\n",
            "Epoch 29: val_loss did not improve from 0.10588\n",
            "1000/1000 [==============================] - 7s 7ms/step - loss: 0.0530 - accuracy: 0.9945 - val_loss: 0.1089 - val_accuracy: 0.9800\n",
            "Epoch 30/50\n",
            "1000/1000 [==============================] - ETA: 0s - loss: 0.0550 - accuracy: 0.9934\n",
            "Epoch 30: val_loss did not improve from 0.10588\n",
            "1000/1000 [==============================] - 7s 7ms/step - loss: 0.0550 - accuracy: 0.9934 - val_loss: 0.1161 - val_accuracy: 0.9790\n",
            "Epoch 31/50\n",
            " 996/1000 [============================>.] - ETA: 0s - loss: 0.0536 - accuracy: 0.9943\n",
            "Epoch 31: val_loss did not improve from 0.10588\n",
            "1000/1000 [==============================] - 7s 7ms/step - loss: 0.0535 - accuracy: 0.9943 - val_loss: 0.1088 - val_accuracy: 0.9803\n",
            "Epoch 32/50\n",
            " 997/1000 [============================>.] - ETA: 0s - loss: 0.0526 - accuracy: 0.9940\n",
            "Epoch 32: val_loss did not improve from 0.10588\n",
            "1000/1000 [==============================] - 7s 7ms/step - loss: 0.0527 - accuracy: 0.9940 - val_loss: 0.1184 - val_accuracy: 0.9771\n",
            "Epoch 33/50\n",
            " 993/1000 [============================>.] - ETA: 0s - loss: 0.0537 - accuracy: 0.9936\n",
            "Epoch 33: val_loss did not improve from 0.10588\n",
            "1000/1000 [==============================] - 7s 7ms/step - loss: 0.0537 - accuracy: 0.9937 - val_loss: 0.1117 - val_accuracy: 0.9794\n",
            "Epoch 34/50\n",
            "1000/1000 [==============================] - ETA: 0s - loss: 0.0512 - accuracy: 0.9946\n",
            "Epoch 34: val_loss improved from 0.10588 to 0.10271, saving model to mejor-modeloAL2.hdf5\n",
            "1000/1000 [==============================] - 8s 8ms/step - loss: 0.0512 - accuracy: 0.9946 - val_loss: 0.1027 - val_accuracy: 0.9819\n",
            "Epoch 35/50\n",
            " 994/1000 [============================>.] - ETA: 0s - loss: 0.0539 - accuracy: 0.9935\n",
            "Epoch 35: val_loss did not improve from 0.10271\n",
            "1000/1000 [==============================] - 7s 6ms/step - loss: 0.0538 - accuracy: 0.9936 - val_loss: 0.1104 - val_accuracy: 0.9790\n",
            "Epoch 36/50\n",
            " 998/1000 [============================>.] - ETA: 0s - loss: 0.0486 - accuracy: 0.9955\n",
            "Epoch 36: val_loss did not improve from 0.10271\n",
            "1000/1000 [==============================] - 8s 8ms/step - loss: 0.0486 - accuracy: 0.9955 - val_loss: 0.1080 - val_accuracy: 0.9791\n",
            "Epoch 37/50\n",
            " 992/1000 [============================>.] - ETA: 0s - loss: 0.0533 - accuracy: 0.9935\n",
            "Epoch 37: val_loss did not improve from 0.10271\n",
            "1000/1000 [==============================] - 7s 7ms/step - loss: 0.0534 - accuracy: 0.9934 - val_loss: 0.1075 - val_accuracy: 0.9811\n",
            "Epoch 38/50\n",
            " 993/1000 [============================>.] - ETA: 0s - loss: 0.0482 - accuracy: 0.9953\n",
            "Epoch 38: val_loss did not improve from 0.10271\n",
            "1000/1000 [==============================] - 8s 8ms/step - loss: 0.0481 - accuracy: 0.9953 - val_loss: 0.1385 - val_accuracy: 0.9736\n",
            "Epoch 39/50\n",
            " 997/1000 [============================>.] - ETA: 0s - loss: 0.0549 - accuracy: 0.9931\n",
            "Epoch 39: val_loss did not improve from 0.10271\n",
            "1000/1000 [==============================] - 7s 7ms/step - loss: 0.0549 - accuracy: 0.9931 - val_loss: 0.1083 - val_accuracy: 0.9795\n",
            "Epoch 40/50\n",
            " 997/1000 [============================>.] - ETA: 0s - loss: 0.0496 - accuracy: 0.9949\n",
            "Epoch 40: val_loss improved from 0.10271 to 0.09629, saving model to mejor-modeloAL2.hdf5\n",
            "1000/1000 [==============================] - 8s 8ms/step - loss: 0.0496 - accuracy: 0.9948 - val_loss: 0.0963 - val_accuracy: 0.9837\n",
            "Epoch 41/50\n",
            " 995/1000 [============================>.] - ETA: 0s - loss: 0.0502 - accuracy: 0.9943\n",
            "Epoch 41: val_loss did not improve from 0.09629\n",
            "1000/1000 [==============================] - 6s 6ms/step - loss: 0.0502 - accuracy: 0.9943 - val_loss: 0.1019 - val_accuracy: 0.9822\n",
            "Epoch 42/50\n",
            " 995/1000 [============================>.] - ETA: 0s - loss: 0.0516 - accuracy: 0.9940\n",
            "Epoch 42: val_loss did not improve from 0.09629\n",
            "1000/1000 [==============================] - 8s 8ms/step - loss: 0.0516 - accuracy: 0.9939 - val_loss: 0.1138 - val_accuracy: 0.9797\n",
            "Epoch 43/50\n",
            " 999/1000 [============================>.] - ETA: 0s - loss: 0.0498 - accuracy: 0.9945\n",
            "Epoch 43: val_loss did not improve from 0.09629\n",
            "1000/1000 [==============================] - 7s 7ms/step - loss: 0.0498 - accuracy: 0.9945 - val_loss: 0.1100 - val_accuracy: 0.9795\n",
            "Epoch 44/50\n",
            " 998/1000 [============================>.] - ETA: 0s - loss: 0.0483 - accuracy: 0.9948\n",
            "Epoch 44: val_loss did not improve from 0.09629\n",
            "1000/1000 [==============================] - 8s 8ms/step - loss: 0.0483 - accuracy: 0.9948 - val_loss: 0.1067 - val_accuracy: 0.9826\n",
            "Epoch 45/50\n",
            " 998/1000 [============================>.] - ETA: 0s - loss: 0.0494 - accuracy: 0.9946\n",
            "Epoch 45: val_loss did not improve from 0.09629\n",
            "1000/1000 [==============================] - 6s 6ms/step - loss: 0.0493 - accuracy: 0.9946 - val_loss: 0.1133 - val_accuracy: 0.9792\n",
            "Epoch 46/50\n",
            " 992/1000 [============================>.] - ETA: 0s - loss: 0.0510 - accuracy: 0.9941\n",
            "Epoch 46: val_loss did not improve from 0.09629\n",
            "1000/1000 [==============================] - 8s 8ms/step - loss: 0.0509 - accuracy: 0.9941 - val_loss: 0.1035 - val_accuracy: 0.9805\n",
            "Epoch 47/50\n",
            " 996/1000 [============================>.] - ETA: 0s - loss: 0.0481 - accuracy: 0.9949\n",
            "Epoch 47: val_loss did not improve from 0.09629\n",
            "1000/1000 [==============================] - 6s 6ms/step - loss: 0.0481 - accuracy: 0.9949 - val_loss: 0.1163 - val_accuracy: 0.9787\n",
            "Epoch 48/50\n",
            " 998/1000 [============================>.] - ETA: 0s - loss: 0.0495 - accuracy: 0.9948\n",
            "Epoch 48: val_loss did not improve from 0.09629\n",
            "1000/1000 [==============================] - 8s 8ms/step - loss: 0.0496 - accuracy: 0.9948 - val_loss: 0.0986 - val_accuracy: 0.9828\n",
            "Epoch 49/50\n",
            " 999/1000 [============================>.] - ETA: 0s - loss: 0.0501 - accuracy: 0.9945\n",
            "Epoch 49: val_loss did not improve from 0.09629\n",
            "1000/1000 [==============================] - 6s 6ms/step - loss: 0.0501 - accuracy: 0.9945 - val_loss: 0.1141 - val_accuracy: 0.9801\n",
            "Epoch 50/50\n",
            " 993/1000 [============================>.] - ETA: 0s - loss: 0.0489 - accuracy: 0.9947\n",
            "Epoch 50: val_loss did not improve from 0.09629\n",
            "1000/1000 [==============================] - 8s 8ms/step - loss: 0.0489 - accuracy: 0.9947 - val_loss: 0.1150 - val_accuracy: 0.9786\n"
          ]
        },
        {
          "output_type": "execute_result",
          "data": {
            "text/plain": [
              "<keras.src.callbacks.History at 0x78c2044823e0>"
            ]
          },
          "metadata": {},
          "execution_count": 41
        }
      ]
    },
    {
      "cell_type": "code",
      "source": [
        "experiment.log_model(\"MNIST1\", \"mejor-modeloAL2.hdf5\")"
      ],
      "metadata": {
        "id": "-onR7D9SK9FN",
        "colab": {
          "base_uri": "https://localhost:8080/"
        },
        "outputId": "1622de07-c6c0-4b9d-dc62-154c2c772529"
      },
      "execution_count": 42,
      "outputs": [
        {
          "output_type": "execute_result",
          "data": {
            "text/plain": [
              "{'web': 'https://www.comet.com/api/asset/download?assetId=c221db8b75f041dea59e8dada2e25e3b&experimentKey=2a7e8da2488e48789636acbd0c53a1a7',\n",
              " 'api': 'https://www.comet.com/api/rest/v2/experiment/asset/get-asset?assetId=c221db8b75f041dea59e8dada2e25e3b&experimentKey=2a7e8da2488e48789636acbd0c53a1a7',\n",
              " 'assetId': 'c221db8b75f041dea59e8dada2e25e3b'}"
            ]
          },
          "metadata": {},
          "execution_count": 42
        }
      ]
    },
    {
      "cell_type": "code",
      "source": [
        "experiment.end()"
      ],
      "metadata": {
        "colab": {
          "base_uri": "https://localhost:8080/"
        },
        "id": "aGoU0WClHoJJ",
        "outputId": "9e32e9aa-bd48-49da-d1b3-900f3342f91f"
      },
      "execution_count": 43,
      "outputs": [
        {
          "output_type": "stream",
          "name": "stderr",
          "text": [
            "\u001b[1;38;5;39mCOMET INFO:\u001b[0m ---------------------------------------------------------------------------------------\n",
            "\u001b[1;38;5;39mCOMET INFO:\u001b[0m Comet.ml Experiment Summary\n",
            "\u001b[1;38;5;39mCOMET INFO:\u001b[0m ---------------------------------------------------------------------------------------\n",
            "\u001b[1;38;5;39mCOMET INFO:\u001b[0m   Data:\n",
            "\u001b[1;38;5;39mCOMET INFO:\u001b[0m     display_summary_level : 1\n",
            "\u001b[1;38;5;39mCOMET INFO:\u001b[0m     url                   : https://www.comet.com/emivk/rnadigits/2a7e8da2488e48789636acbd0c53a1a7\n",
            "\u001b[1;38;5;39mCOMET INFO:\u001b[0m   Metrics [count] (min, max):\n",
            "\u001b[1;38;5;39mCOMET INFO:\u001b[0m     accuracy [50]                 : (0.9296666383743286, 0.9955333471298218)\n",
            "\u001b[1;38;5;39mCOMET INFO:\u001b[0m     batch_accuracy [5000]         : (0.06666667014360428, 1.0)\n",
            "\u001b[1;38;5;39mCOMET INFO:\u001b[0m     batch_loss [5000]             : (0.03401156887412071, 2.402461051940918)\n",
            "\u001b[1;38;5;39mCOMET INFO:\u001b[0m     epoch_duration [50]           : (5.95871480400092, 8.788730361999114)\n",
            "\u001b[1;38;5;39mCOMET INFO:\u001b[0m     loss [50]                     : (0.048107292503118515, 0.2817830741405487)\n",
            "\u001b[1;38;5;39mCOMET INFO:\u001b[0m     val_accuracy [50]             : (0.9634000062942505, 0.9836999773979187)\n",
            "\u001b[1;38;5;39mCOMET INFO:\u001b[0m     val_loss [50]                 : (0.09629494696855545, 0.16215060651302338)\n",
            "\u001b[1;38;5;39mCOMET INFO:\u001b[0m     validate_batch_accuracy [850] : (0.9487804770469666, 1.0)\n",
            "\u001b[1;38;5;39mCOMET INFO:\u001b[0m     validate_batch_loss [850]     : (0.034232500940561295, 0.20790770649909973)\n",
            "\u001b[1;38;5;39mCOMET INFO:\u001b[0m   Others:\n",
            "\u001b[1;38;5;39mCOMET INFO:\u001b[0m     trainable_params : 178110\n",
            "\u001b[1;38;5;39mCOMET INFO:\u001b[0m   Parameters:\n",
            "\u001b[1;38;5;39mCOMET INFO:\u001b[0m     Adam_amsgrad                 : False\n",
            "\u001b[1;38;5;39mCOMET INFO:\u001b[0m     Adam_beta_1                  : 0.9\n",
            "\u001b[1;38;5;39mCOMET INFO:\u001b[0m     Adam_beta_2                  : 0.999\n",
            "\u001b[1;38;5;39mCOMET INFO:\u001b[0m     Adam_clipnorm                : 1\n",
            "\u001b[1;38;5;39mCOMET INFO:\u001b[0m     Adam_clipvalue               : 1\n",
            "\u001b[1;38;5;39mCOMET INFO:\u001b[0m     Adam_ema_momentum            : 0.99\n",
            "\u001b[1;38;5;39mCOMET INFO:\u001b[0m     Adam_ema_overwrite_frequency : 1\n",
            "\u001b[1;38;5;39mCOMET INFO:\u001b[0m     Adam_epsilon                 : 1e-07\n",
            "\u001b[1;38;5;39mCOMET INFO:\u001b[0m     Adam_global_clipnorm         : 1\n",
            "\u001b[1;38;5;39mCOMET INFO:\u001b[0m     Adam_is_legacy_optimizer     : False\n",
            "\u001b[1;38;5;39mCOMET INFO:\u001b[0m     Adam_jit_compile             : False\n",
            "\u001b[1;38;5;39mCOMET INFO:\u001b[0m     Adam_learning_rate           : 0.0010000000474974513\n",
            "\u001b[1;38;5;39mCOMET INFO:\u001b[0m     Adam_name                    : Adam\n",
            "\u001b[1;38;5;39mCOMET INFO:\u001b[0m     Adam_use_ema                 : False\n",
            "\u001b[1;38;5;39mCOMET INFO:\u001b[0m     Adam_weight_decay            : 1\n",
            "\u001b[1;38;5;39mCOMET INFO:\u001b[0m     epochs                       : 50\n",
            "\u001b[1;38;5;39mCOMET INFO:\u001b[0m     steps                        : 1000\n",
            "\u001b[1;38;5;39mCOMET INFO:\u001b[0m   Uploads:\n",
            "\u001b[1;38;5;39mCOMET INFO:\u001b[0m     environment details : 1\n",
            "\u001b[1;38;5;39mCOMET INFO:\u001b[0m     filename            : 1\n",
            "\u001b[1;38;5;39mCOMET INFO:\u001b[0m     histogram3d         : 459\n",
            "\u001b[1;38;5;39mCOMET INFO:\u001b[0m     installed packages  : 1\n",
            "\u001b[1;38;5;39mCOMET INFO:\u001b[0m     model graph         : 1\n",
            "\u001b[1;38;5;39mCOMET INFO:\u001b[0m     model-element       : 1 (2.07 MB)\n",
            "\u001b[1;38;5;39mCOMET INFO:\u001b[0m     notebook            : 2\n",
            "\u001b[1;38;5;39mCOMET INFO:\u001b[0m     os packages         : 1\n",
            "\u001b[1;38;5;39mCOMET INFO:\u001b[0m     source_code         : 1\n",
            "\u001b[1;38;5;39mCOMET INFO:\u001b[0m \n",
            "\u001b[1;38;5;39mCOMET INFO:\u001b[0m Uploading 1 metrics, params and output messages\n"
          ]
        }
      ]
    }
  ]
}