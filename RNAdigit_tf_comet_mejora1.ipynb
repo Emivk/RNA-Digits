{
  "nbformat": 4,
  "nbformat_minor": 0,
  "metadata": {
    "colab": {
      "provenance": [],
      "include_colab_link": true
    },
    "kernelspec": {
      "name": "python3",
      "display_name": "Python 3"
    },
    "language_info": {
      "name": "python"
    }
  },
  "cells": [
    {
      "cell_type": "markdown",
      "metadata": {
        "id": "view-in-github",
        "colab_type": "text"
      },
      "source": [
        "<a href=\"https://colab.research.google.com/github/Emivk/RNA-Digits/blob/master/RNAdigit_tf_comet_mejora1.ipynb\" target=\"_parent\"><img src=\"https://colab.research.google.com/assets/colab-badge.svg\" alt=\"Open In Colab\"/></a>"
      ]
    },
    {
      "cell_type": "code",
      "execution_count": 1,
      "metadata": {
        "colab": {
          "base_uri": "https://localhost:8080/"
        },
        "id": "L_Zg2IxMAiPk",
        "outputId": "ea8135bb-8023-4b89-d351-a675506e930f"
      },
      "outputs": [
        {
          "output_type": "stream",
          "name": "stdout",
          "text": [
            "Collecting comet_ml\n",
            "  Downloading comet_ml-3.33.10-py3-none-any.whl (561 kB)\n",
            "\u001b[2K     \u001b[90m━━━━━━━━━━━━━━━━━━━━━━━━━━━━━━━━━━━━━━━\u001b[0m \u001b[32m561.9/561.9 kB\u001b[0m \u001b[31m5.3 MB/s\u001b[0m eta \u001b[36m0:00:00\u001b[0m\n",
            "\u001b[?25hRequirement already satisfied: jsonschema!=3.1.0,>=2.6.0 in /usr/local/lib/python3.10/dist-packages (from comet_ml) (4.19.0)\n",
            "Requirement already satisfied: psutil>=5.6.3 in /usr/local/lib/python3.10/dist-packages (from comet_ml) (5.9.5)\n",
            "Collecting python-box<7.0.0 (from comet_ml)\n",
            "  Downloading python_box-6.1.0-cp310-cp310-manylinux_2_17_x86_64.manylinux2014_x86_64.whl (3.3 MB)\n",
            "\u001b[2K     \u001b[90m━━━━━━━━━━━━━━━━━━━━━━━━━━━━━━━━━━━━━━━━\u001b[0m \u001b[32m3.3/3.3 MB\u001b[0m \u001b[31m15.3 MB/s\u001b[0m eta \u001b[36m0:00:00\u001b[0m\n",
            "\u001b[?25hCollecting requests-toolbelt>=0.8.0 (from comet_ml)\n",
            "  Downloading requests_toolbelt-1.0.0-py2.py3-none-any.whl (54 kB)\n",
            "\u001b[2K     \u001b[90m━━━━━━━━━━━━━━━━━━━━━━━━━━━━━━━━━━━━━━━━\u001b[0m \u001b[32m54.5/54.5 kB\u001b[0m \u001b[31m6.1 MB/s\u001b[0m eta \u001b[36m0:00:00\u001b[0m\n",
            "\u001b[?25hRequirement already satisfied: requests>=2.18.4 in /usr/local/lib/python3.10/dist-packages (from comet_ml) (2.31.0)\n",
            "Collecting semantic-version>=2.8.0 (from comet_ml)\n",
            "  Downloading semantic_version-2.10.0-py2.py3-none-any.whl (15 kB)\n",
            "Collecting sentry-sdk>=1.1.0 (from comet_ml)\n",
            "  Downloading sentry_sdk-1.31.0-py2.py3-none-any.whl (224 kB)\n",
            "\u001b[2K     \u001b[90m━━━━━━━━━━━━━━━━━━━━━━━━━━━━━━━━━━━━━━\u001b[0m \u001b[32m224.8/224.8 kB\u001b[0m \u001b[31m18.9 MB/s\u001b[0m eta \u001b[36m0:00:00\u001b[0m\n",
            "\u001b[?25hCollecting simplejson (from comet_ml)\n",
            "  Downloading simplejson-3.19.1-cp310-cp310-manylinux_2_5_x86_64.manylinux1_x86_64.manylinux_2_17_x86_64.manylinux2014_x86_64.whl (137 kB)\n",
            "\u001b[2K     \u001b[90m━━━━━━━━━━━━━━━━━━━━━━━━━━━━━━━━━━━━━━━\u001b[0m \u001b[32m137.9/137.9 kB\u001b[0m \u001b[31m9.7 MB/s\u001b[0m eta \u001b[36m0:00:00\u001b[0m\n",
            "\u001b[?25hRequirement already satisfied: six in /usr/local/lib/python3.10/dist-packages (from comet_ml) (1.16.0)\n",
            "Requirement already satisfied: urllib3>=1.21.1 in /usr/local/lib/python3.10/dist-packages (from comet_ml) (2.0.4)\n",
            "Collecting websocket-client<1.4.0,>=0.55.0 (from comet_ml)\n",
            "  Downloading websocket_client-1.3.3-py3-none-any.whl (54 kB)\n",
            "\u001b[2K     \u001b[90m━━━━━━━━━━━━━━━━━━━━━━━━━━━━━━━━━━━━━━━━\u001b[0m \u001b[32m54.3/54.3 kB\u001b[0m \u001b[31m5.3 MB/s\u001b[0m eta \u001b[36m0:00:00\u001b[0m\n",
            "\u001b[?25hRequirement already satisfied: wrapt>=1.11.2 in /usr/local/lib/python3.10/dist-packages (from comet_ml) (1.15.0)\n",
            "Collecting wurlitzer>=1.0.2 (from comet_ml)\n",
            "  Downloading wurlitzer-3.0.3-py3-none-any.whl (7.3 kB)\n",
            "Collecting everett[ini]<3.2.0,>=1.0.1 (from comet_ml)\n",
            "  Downloading everett-3.1.0-py2.py3-none-any.whl (35 kB)\n",
            "Collecting dulwich!=0.20.33,>=0.20.6 (from comet_ml)\n",
            "  Downloading dulwich-0.21.6-cp310-cp310-manylinux_2_17_x86_64.manylinux2014_x86_64.whl (512 kB)\n",
            "\u001b[2K     \u001b[90m━━━━━━━━━━━━━━━━━━━━━━━━━━━━━━━━━━━━━━\u001b[0m \u001b[32m512.2/512.2 kB\u001b[0m \u001b[31m11.2 MB/s\u001b[0m eta \u001b[36m0:00:00\u001b[0m\n",
            "\u001b[?25hRequirement already satisfied: rich>=13.3.2 in /usr/local/lib/python3.10/dist-packages (from comet_ml) (13.5.2)\n",
            "Collecting configobj (from everett[ini]<3.2.0,>=1.0.1->comet_ml)\n",
            "  Downloading configobj-5.0.8-py2.py3-none-any.whl (36 kB)\n",
            "Requirement already satisfied: attrs>=22.2.0 in /usr/local/lib/python3.10/dist-packages (from jsonschema!=3.1.0,>=2.6.0->comet_ml) (23.1.0)\n",
            "Requirement already satisfied: jsonschema-specifications>=2023.03.6 in /usr/local/lib/python3.10/dist-packages (from jsonschema!=3.1.0,>=2.6.0->comet_ml) (2023.7.1)\n",
            "Requirement already satisfied: referencing>=0.28.4 in /usr/local/lib/python3.10/dist-packages (from jsonschema!=3.1.0,>=2.6.0->comet_ml) (0.30.2)\n",
            "Requirement already satisfied: rpds-py>=0.7.1 in /usr/local/lib/python3.10/dist-packages (from jsonschema!=3.1.0,>=2.6.0->comet_ml) (0.10.2)\n",
            "Requirement already satisfied: charset-normalizer<4,>=2 in /usr/local/lib/python3.10/dist-packages (from requests>=2.18.4->comet_ml) (3.2.0)\n",
            "Requirement already satisfied: idna<4,>=2.5 in /usr/local/lib/python3.10/dist-packages (from requests>=2.18.4->comet_ml) (3.4)\n",
            "Requirement already satisfied: certifi>=2017.4.17 in /usr/local/lib/python3.10/dist-packages (from requests>=2.18.4->comet_ml) (2023.7.22)\n",
            "Requirement already satisfied: markdown-it-py>=2.2.0 in /usr/local/lib/python3.10/dist-packages (from rich>=13.3.2->comet_ml) (3.0.0)\n",
            "Requirement already satisfied: pygments<3.0.0,>=2.13.0 in /usr/local/lib/python3.10/dist-packages (from rich>=13.3.2->comet_ml) (2.16.1)\n",
            "Requirement already satisfied: mdurl~=0.1 in /usr/local/lib/python3.10/dist-packages (from markdown-it-py>=2.2.0->rich>=13.3.2->comet_ml) (0.1.2)\n",
            "Installing collected packages: everett, wurlitzer, websocket-client, simplejson, sentry-sdk, semantic-version, python-box, dulwich, configobj, requests-toolbelt, comet_ml\n",
            "  Attempting uninstall: websocket-client\n",
            "    Found existing installation: websocket-client 1.6.2\n",
            "    Uninstalling websocket-client-1.6.2:\n",
            "      Successfully uninstalled websocket-client-1.6.2\n",
            "  Attempting uninstall: python-box\n",
            "    Found existing installation: python-box 7.1.1\n",
            "    Uninstalling python-box-7.1.1:\n",
            "      Successfully uninstalled python-box-7.1.1\n",
            "Successfully installed comet_ml-3.33.10 configobj-5.0.8 dulwich-0.21.6 everett-3.1.0 python-box-6.1.0 requests-toolbelt-1.0.0 semantic-version-2.10.0 sentry-sdk-1.31.0 simplejson-3.19.1 websocket-client-1.3.3 wurlitzer-3.0.3\n"
          ]
        }
      ],
      "source": [
        "%pip install comet_ml"
      ]
    },
    {
      "cell_type": "code",
      "source": [
        "import comet_ml\n",
        "comet_ml.init(project_name=\"rnadigits\")"
      ],
      "metadata": {
        "id": "g6hZpUiPAtrC"
      },
      "execution_count": 20,
      "outputs": []
    },
    {
      "cell_type": "code",
      "source": [
        "import tensorflow as tf\n",
        "from tensorflow import keras\n",
        "from tensorflow.keras.datasets import mnist\n",
        "from tensorflow.keras.models import Sequential\n",
        "from tensorflow.keras.layers import Dense, Dropout, Activation, Flatten, Input\n",
        "from tensorflow.keras.optimizers import RMSprop, SGD, Adam\n",
        "from tensorflow.keras import regularizers\n",
        "from keras.callbacks import ModelCheckpoint"
      ],
      "metadata": {
        "id": "czgl5_6tA7Pe"
      },
      "execution_count": 23,
      "outputs": []
    },
    {
      "cell_type": "code",
      "source": [
        "experiment = comet_ml.Experiment(\n",
        "    auto_histogram_weight_logging=True,\n",
        "    auto_histogram_gradient_logging=True,\n",
        "    auto_histogram_activation_logging=True,\n",
        "    log_code=True,\n",
        ")"
      ],
      "metadata": {
        "colab": {
          "base_uri": "https://localhost:8080/"
        },
        "id": "j__tspO4BGYR",
        "outputId": "00f82def-eef2-4368-9831-d1afcbd782c3"
      },
      "execution_count": 24,
      "outputs": [
        {
          "output_type": "stream",
          "name": "stderr",
          "text": [
            "\u001b[1;38;5;39mCOMET INFO:\u001b[0m ---------------------------------------------------------------------------------------\n",
            "\u001b[1;38;5;39mCOMET INFO:\u001b[0m Comet.ml Experiment Summary\n",
            "\u001b[1;38;5;39mCOMET INFO:\u001b[0m ---------------------------------------------------------------------------------------\n",
            "\u001b[1;38;5;39mCOMET INFO:\u001b[0m   Data:\n",
            "\u001b[1;38;5;39mCOMET INFO:\u001b[0m     display_summary_level : 1\n",
            "\u001b[1;38;5;39mCOMET INFO:\u001b[0m     url                   : https://www.comet.com/emivk/rnadigits/e1b395c7c0b74c90b7a506088e533fac\n",
            "\u001b[1;38;5;39mCOMET INFO:\u001b[0m   Uploads:\n",
            "\u001b[1;38;5;39mCOMET INFO:\u001b[0m     environment details : 1\n",
            "\u001b[1;38;5;39mCOMET INFO:\u001b[0m     filename            : 1\n",
            "\u001b[1;38;5;39mCOMET INFO:\u001b[0m     installed packages  : 1\n",
            "\u001b[1;38;5;39mCOMET INFO:\u001b[0m     notebook            : 2\n",
            "\u001b[1;38;5;39mCOMET INFO:\u001b[0m     os packages         : 1\n",
            "\u001b[1;38;5;39mCOMET INFO:\u001b[0m     source_code         : 1\n",
            "\u001b[1;38;5;39mCOMET INFO:\u001b[0m \n",
            "\u001b[1;38;5;214mCOMET WARNING:\u001b[0m As you are running in a Jupyter environment, you will need to call `experiment.end()` when finished to ensure all metrics and code are logged before exiting.\n",
            "\u001b[1;38;5;39mCOMET INFO:\u001b[0m Couldn't find a Git repository in '/content' nor in any parent directory. Set `COMET_GIT_DIRECTORY` if your Git Repository is elsewhere.\n",
            "\u001b[1;38;5;39mCOMET INFO:\u001b[0m Experiment is live on comet.com https://www.comet.com/emivk/rnadigits/68e6c9e21c3142e2aa61c59f6a326d7e\n",
            "\n"
          ]
        }
      ]
    },
    {
      "cell_type": "code",
      "source": [
        "dataset=mnist.load_data()\n",
        "(x_train, y_train), (x_test, y_test) = dataset\n",
        "\n",
        "x_train = x_train.astype('float32')\n",
        "x_test = x_test.astype('float32')\n",
        "\n",
        "x_train /= 255  # x_trainv = x_trainv/255\n",
        "x_test /= 255\n",
        "\n",
        "num_classes=10\n",
        "y_trainc = keras.utils.to_categorical(y_train, num_classes)\n",
        "y_testc = keras.utils.to_categorical(y_test, num_classes)"
      ],
      "metadata": {
        "id": "qJNeAdHbBUM-"
      },
      "execution_count": 25,
      "outputs": []
    },
    {
      "cell_type": "code",
      "source": [
        "parameters = {\n",
        "    \"batch_size\": 100,\n",
        "    \"epochs\": 50,\n",
        "    \"optimizer\": \"RMSprop\",\n",
        "    \"loss\": \"categorical_crossentropy\",\n",
        "}\n",
        "\n",
        "experiment.log_parameters(parameters)"
      ],
      "metadata": {
        "id": "zbiaW1VkBHH6"
      },
      "execution_count": 26,
      "outputs": []
    },
    {
      "cell_type": "code",
      "source": [
        "model = Sequential()\n",
        "model.add(Input(shape=(28,28))) #Flaten no tiene la opcion input_shape por lo tanto se tiene que agregar esta capa\n",
        "model.add(Flatten()) #Otra forma de aplanar las imagenes\n",
        "model.add(Dense(100, activation='relu'))\n",
        "#model.add(Dense(400, activation='relu', kernel_regularizer=regularizers.L1L2(l1=1e-5, l2=1e-4))) #Regularizacion L1L2\n",
        "#model.add(Dropout(0.2)) #Fraccion de enlaces a eliminar\n",
        "#model.add(Dense(200)) #Capa lineal , transformacion lineal sin funcion de activacion\n",
        "#model.add(Activation('tanh')) #Se puede agregar despues la funcion de activacion\n",
        "#model.add(Dense(400, activation='selu', kernel_regularizer=regularizers.L1(0.01) )) #Regularizacion L1\n",
        "#model.add(Dense(200, activation='elu', kernel_regularizer=regularizers.L2(l2=1e-4)) ) #Regularizacion L2\n",
        "#model.add(Dense(50,activation='exponential'))\n",
        "model.add(Dense(10, activation='softmax'))\n",
        "\n",
        "model.summary()"
      ],
      "metadata": {
        "colab": {
          "base_uri": "https://localhost:8080/"
        },
        "id": "GUl8whP1BOdy",
        "outputId": "b3f5c77f-cb63-4087-cd1d-af784592297f"
      },
      "execution_count": 27,
      "outputs": [
        {
          "output_type": "stream",
          "name": "stdout",
          "text": [
            "Model: \"sequential_2\"\n",
            "_________________________________________________________________\n",
            " Layer (type)                Output Shape              Param #   \n",
            "=================================================================\n",
            " flatten_2 (Flatten)         (None, 784)               0         \n",
            "                                                                 \n",
            " dense_4 (Dense)             (None, 100)               78500     \n",
            "                                                                 \n",
            " dense_5 (Dense)             (None, 10)                1010      \n",
            "                                                                 \n",
            "=================================================================\n",
            "Total params: 79510 (310.59 KB)\n",
            "Trainable params: 79510 (310.59 KB)\n",
            "Non-trainable params: 0 (0.00 Byte)\n",
            "_________________________________________________________________\n"
          ]
        }
      ]
    },
    {
      "cell_type": "code",
      "source": [
        "# specify the path where you want to save the model\n",
        "filepath = \"mejor-modelo1.2.hdf5\"\n",
        "\n",
        "# initialize the ModelCheckpoint callback\n",
        "checkpoint = ModelCheckpoint(filepath, monitor='val_loss', verbose=1, save_best_only=True, mode='min')"
      ],
      "metadata": {
        "id": "yickXqeNHaGo"
      },
      "execution_count": 28,
      "outputs": []
    },
    {
      "cell_type": "code",
      "source": [
        "model.compile(loss=parameters['loss'],optimizer=parameters['optimizer'],metrics=['accuracy'])\n",
        "model.fit(x_train, y_trainc,\n",
        "                    batch_size=parameters['batch_size'],\n",
        "                    epochs=parameters[\"epochs\"],\n",
        "                    verbose=1,\n",
        "                    validation_data=(x_test, y_testc),\n",
        "                    callbacks=[checkpoint])"
      ],
      "metadata": {
        "colab": {
          "base_uri": "https://localhost:8080/"
        },
        "id": "RipmZnRwEznJ",
        "outputId": "6c3f8060-3ae1-413d-e062-a406ad68cd10"
      },
      "execution_count": 29,
      "outputs": [
        {
          "output_type": "stream",
          "name": "stdout",
          "text": [
            "Epoch 1/50\n",
            "587/600 [============================>.] - ETA: 0s - loss: 0.3336 - accuracy: 0.9077\n",
            "Epoch 1: val_loss improved from inf to 0.18817, saving model to mejor-modelo1.2.hdf5\n",
            "600/600 [==============================] - 4s 5ms/step - loss: 0.3300 - accuracy: 0.9086 - val_loss: 0.1882 - val_accuracy: 0.9440\n",
            "Epoch 2/50\n",
            "597/600 [============================>.] - ETA: 0s - loss: 0.1612 - accuracy: 0.9529\n",
            "Epoch 2: val_loss improved from 0.18817 to 0.13514, saving model to mejor-modelo1.2.hdf5\n",
            "600/600 [==============================] - 4s 6ms/step - loss: 0.1610 - accuracy: 0.9530 - val_loss: 0.1351 - val_accuracy: 0.9612\n",
            "Epoch 3/50\n",
            "599/600 [============================>.] - ETA: 0s - loss: 0.1176 - accuracy: 0.9657\n",
            "Epoch 3: val_loss improved from 0.13514 to 0.10478, saving model to mejor-modelo1.2.hdf5\n",
            "600/600 [==============================] - 3s 5ms/step - loss: 0.1175 - accuracy: 0.9657 - val_loss: 0.1048 - val_accuracy: 0.9688\n",
            "Epoch 4/50\n",
            "589/600 [============================>.] - ETA: 0s - loss: 0.0942 - accuracy: 0.9729\n",
            "Epoch 4: val_loss improved from 0.10478 to 0.09799, saving model to mejor-modelo1.2.hdf5\n",
            "600/600 [==============================] - 3s 4ms/step - loss: 0.0941 - accuracy: 0.9728 - val_loss: 0.0980 - val_accuracy: 0.9711\n",
            "Epoch 5/50\n",
            "597/600 [============================>.] - ETA: 0s - loss: 0.0774 - accuracy: 0.9777\n",
            "Epoch 5: val_loss improved from 0.09799 to 0.08464, saving model to mejor-modelo1.2.hdf5\n",
            "600/600 [==============================] - 3s 4ms/step - loss: 0.0774 - accuracy: 0.9778 - val_loss: 0.0846 - val_accuracy: 0.9747\n",
            "Epoch 6/50\n",
            "599/600 [============================>.] - ETA: 0s - loss: 0.0647 - accuracy: 0.9813\n",
            "Epoch 6: val_loss did not improve from 0.08464\n",
            "600/600 [==============================] - 3s 5ms/step - loss: 0.0647 - accuracy: 0.9813 - val_loss: 0.0852 - val_accuracy: 0.9743\n",
            "Epoch 7/50\n",
            "595/600 [============================>.] - ETA: 0s - loss: 0.0557 - accuracy: 0.9842\n",
            "Epoch 7: val_loss improved from 0.08464 to 0.08317, saving model to mejor-modelo1.2.hdf5\n",
            "600/600 [==============================] - 4s 7ms/step - loss: 0.0557 - accuracy: 0.9841 - val_loss: 0.0832 - val_accuracy: 0.9757\n",
            "Epoch 8/50\n",
            "597/600 [============================>.] - ETA: 0s - loss: 0.0488 - accuracy: 0.9861\n",
            "Epoch 8: val_loss improved from 0.08317 to 0.08094, saving model to mejor-modelo1.2.hdf5\n",
            "600/600 [==============================] - 3s 4ms/step - loss: 0.0488 - accuracy: 0.9861 - val_loss: 0.0809 - val_accuracy: 0.9756\n",
            "Epoch 9/50\n",
            "592/600 [============================>.] - ETA: 0s - loss: 0.0426 - accuracy: 0.9879\n",
            "Epoch 9: val_loss improved from 0.08094 to 0.07884, saving model to mejor-modelo1.2.hdf5\n",
            "600/600 [==============================] - 3s 4ms/step - loss: 0.0426 - accuracy: 0.9879 - val_loss: 0.0788 - val_accuracy: 0.9769\n",
            "Epoch 10/50\n",
            "590/600 [============================>.] - ETA: 0s - loss: 0.0381 - accuracy: 0.9897\n",
            "Epoch 10: val_loss improved from 0.07884 to 0.07476, saving model to mejor-modelo1.2.hdf5\n",
            "600/600 [==============================] - 3s 5ms/step - loss: 0.0378 - accuracy: 0.9898 - val_loss: 0.0748 - val_accuracy: 0.9785\n",
            "Epoch 11/50\n",
            "593/600 [============================>.] - ETA: 0s - loss: 0.0328 - accuracy: 0.9909\n",
            "Epoch 11: val_loss did not improve from 0.07476\n",
            "600/600 [==============================] - 3s 6ms/step - loss: 0.0329 - accuracy: 0.9908 - val_loss: 0.0749 - val_accuracy: 0.9779\n",
            "Epoch 12/50\n",
            "600/600 [==============================] - ETA: 0s - loss: 0.0292 - accuracy: 0.9921\n",
            "Epoch 12: val_loss did not improve from 0.07476\n",
            "600/600 [==============================] - 3s 6ms/step - loss: 0.0292 - accuracy: 0.9921 - val_loss: 0.0760 - val_accuracy: 0.9790\n",
            "Epoch 13/50\n",
            "588/600 [============================>.] - ETA: 0s - loss: 0.0258 - accuracy: 0.9931\n",
            "Epoch 13: val_loss did not improve from 0.07476\n",
            "600/600 [==============================] - 3s 4ms/step - loss: 0.0259 - accuracy: 0.9931 - val_loss: 0.0777 - val_accuracy: 0.9781\n",
            "Epoch 14/50\n",
            "588/600 [============================>.] - ETA: 0s - loss: 0.0226 - accuracy: 0.9940\n",
            "Epoch 14: val_loss did not improve from 0.07476\n",
            "600/600 [==============================] - 3s 4ms/step - loss: 0.0228 - accuracy: 0.9939 - val_loss: 0.0824 - val_accuracy: 0.9773\n",
            "Epoch 15/50\n",
            "590/600 [============================>.] - ETA: 0s - loss: 0.0202 - accuracy: 0.9945\n",
            "Epoch 15: val_loss did not improve from 0.07476\n",
            "600/600 [==============================] - 3s 4ms/step - loss: 0.0201 - accuracy: 0.9945 - val_loss: 0.0848 - val_accuracy: 0.9778\n",
            "Epoch 16/50\n",
            "599/600 [============================>.] - ETA: 0s - loss: 0.0178 - accuracy: 0.9951\n",
            "Epoch 16: val_loss did not improve from 0.07476\n",
            "600/600 [==============================] - 4s 6ms/step - loss: 0.0178 - accuracy: 0.9951 - val_loss: 0.0841 - val_accuracy: 0.9772\n",
            "Epoch 17/50\n",
            "596/600 [============================>.] - ETA: 0s - loss: 0.0158 - accuracy: 0.9958\n",
            "Epoch 17: val_loss did not improve from 0.07476\n",
            "600/600 [==============================] - 3s 5ms/step - loss: 0.0159 - accuracy: 0.9957 - val_loss: 0.0853 - val_accuracy: 0.9763\n",
            "Epoch 18/50\n",
            "597/600 [============================>.] - ETA: 0s - loss: 0.0139 - accuracy: 0.9964\n",
            "Epoch 18: val_loss did not improve from 0.07476\n",
            "600/600 [==============================] - 3s 5ms/step - loss: 0.0140 - accuracy: 0.9964 - val_loss: 0.0860 - val_accuracy: 0.9775\n",
            "Epoch 19/50\n",
            "595/600 [============================>.] - ETA: 0s - loss: 0.0126 - accuracy: 0.9969\n",
            "Epoch 19: val_loss did not improve from 0.07476\n",
            "600/600 [==============================] - 3s 5ms/step - loss: 0.0127 - accuracy: 0.9969 - val_loss: 0.0833 - val_accuracy: 0.9785\n",
            "Epoch 20/50\n",
            "593/600 [============================>.] - ETA: 0s - loss: 0.0110 - accuracy: 0.9973\n",
            "Epoch 20: val_loss did not improve from 0.07476\n",
            "600/600 [==============================] - 3s 5ms/step - loss: 0.0110 - accuracy: 0.9973 - val_loss: 0.0946 - val_accuracy: 0.9772\n",
            "Epoch 21/50\n",
            "587/600 [============================>.] - ETA: 0s - loss: 0.0094 - accuracy: 0.9978\n",
            "Epoch 21: val_loss did not improve from 0.07476\n",
            "600/600 [==============================] - 3s 5ms/step - loss: 0.0095 - accuracy: 0.9978 - val_loss: 0.0854 - val_accuracy: 0.9794\n",
            "Epoch 22/50\n",
            "596/600 [============================>.] - ETA: 0s - loss: 0.0083 - accuracy: 0.9981\n",
            "Epoch 22: val_loss did not improve from 0.07476\n",
            "600/600 [==============================] - 3s 4ms/step - loss: 0.0083 - accuracy: 0.9981 - val_loss: 0.0898 - val_accuracy: 0.9784\n",
            "Epoch 23/50\n",
            "590/600 [============================>.] - ETA: 0s - loss: 0.0074 - accuracy: 0.9985\n",
            "Epoch 23: val_loss did not improve from 0.07476\n",
            "600/600 [==============================] - 3s 4ms/step - loss: 0.0074 - accuracy: 0.9985 - val_loss: 0.0920 - val_accuracy: 0.9783\n",
            "Epoch 24/50\n",
            "589/600 [============================>.] - ETA: 0s - loss: 0.0065 - accuracy: 0.9986\n",
            "Epoch 24: val_loss did not improve from 0.07476\n",
            "600/600 [==============================] - 3s 4ms/step - loss: 0.0064 - accuracy: 0.9986 - val_loss: 0.1002 - val_accuracy: 0.9756\n",
            "Epoch 25/50\n",
            "594/600 [============================>.] - ETA: 0s - loss: 0.0056 - accuracy: 0.9988\n",
            "Epoch 25: val_loss did not improve from 0.07476\n",
            "600/600 [==============================] - 3s 6ms/step - loss: 0.0056 - accuracy: 0.9988 - val_loss: 0.0991 - val_accuracy: 0.9759\n",
            "Epoch 26/50\n",
            "588/600 [============================>.] - ETA: 0s - loss: 0.0049 - accuracy: 0.9990\n",
            "Epoch 26: val_loss did not improve from 0.07476\n",
            "600/600 [==============================] - 3s 5ms/step - loss: 0.0049 - accuracy: 0.9991 - val_loss: 0.0941 - val_accuracy: 0.9787\n",
            "Epoch 27/50\n",
            "598/600 [============================>.] - ETA: 0s - loss: 0.0041 - accuracy: 0.9993\n",
            "Epoch 27: val_loss did not improve from 0.07476\n",
            "600/600 [==============================] - 3s 4ms/step - loss: 0.0041 - accuracy: 0.9993 - val_loss: 0.0934 - val_accuracy: 0.9790\n",
            "Epoch 28/50\n",
            "595/600 [============================>.] - ETA: 0s - loss: 0.0038 - accuracy: 0.9993\n",
            "Epoch 28: val_loss did not improve from 0.07476\n",
            "600/600 [==============================] - 3s 4ms/step - loss: 0.0038 - accuracy: 0.9993 - val_loss: 0.0980 - val_accuracy: 0.9788\n",
            "Epoch 29/50\n",
            "589/600 [============================>.] - ETA: 0s - loss: 0.0033 - accuracy: 0.9994\n",
            "Epoch 29: val_loss did not improve from 0.07476\n",
            "600/600 [==============================] - 3s 4ms/step - loss: 0.0033 - accuracy: 0.9995 - val_loss: 0.1040 - val_accuracy: 0.9780\n",
            "Epoch 30/50\n",
            "596/600 [============================>.] - ETA: 0s - loss: 0.0026 - accuracy: 0.9997\n",
            "Epoch 30: val_loss did not improve from 0.07476\n",
            "600/600 [==============================] - 4s 7ms/step - loss: 0.0026 - accuracy: 0.9997 - val_loss: 0.0992 - val_accuracy: 0.9791\n",
            "Epoch 31/50\n",
            "586/600 [============================>.] - ETA: 0s - loss: 0.0024 - accuracy: 0.9995\n",
            "Epoch 31: val_loss did not improve from 0.07476\n",
            "600/600 [==============================] - 3s 5ms/step - loss: 0.0024 - accuracy: 0.9995 - val_loss: 0.1044 - val_accuracy: 0.9778\n",
            "Epoch 32/50\n",
            "589/600 [============================>.] - ETA: 0s - loss: 0.0020 - accuracy: 0.9998\n",
            "Epoch 32: val_loss did not improve from 0.07476\n",
            "600/600 [==============================] - 3s 4ms/step - loss: 0.0020 - accuracy: 0.9998 - val_loss: 0.1050 - val_accuracy: 0.9778\n",
            "Epoch 33/50\n",
            "594/600 [============================>.] - ETA: 0s - loss: 0.0018 - accuracy: 0.9997\n",
            "Epoch 33: val_loss did not improve from 0.07476\n",
            "600/600 [==============================] - 3s 4ms/step - loss: 0.0018 - accuracy: 0.9997 - val_loss: 0.1090 - val_accuracy: 0.9774\n",
            "Epoch 34/50\n",
            "594/600 [============================>.] - ETA: 0s - loss: 0.0012 - accuracy: 0.9999\n",
            "Epoch 34: val_loss did not improve from 0.07476\n",
            "600/600 [==============================] - 3s 5ms/step - loss: 0.0012 - accuracy: 0.9999 - val_loss: 0.1079 - val_accuracy: 0.9787\n",
            "Epoch 35/50\n",
            "597/600 [============================>.] - ETA: 0s - loss: 0.0011 - accuracy: 0.9999\n",
            "Epoch 35: val_loss did not improve from 0.07476\n",
            "600/600 [==============================] - 4s 6ms/step - loss: 0.0011 - accuracy: 0.9999 - val_loss: 0.1076 - val_accuracy: 0.9792\n",
            "Epoch 36/50\n",
            "586/600 [============================>.] - ETA: 0s - loss: 9.4968e-04 - accuracy: 0.9999\n",
            "Epoch 36: val_loss did not improve from 0.07476\n",
            "600/600 [==============================] - 3s 4ms/step - loss: 9.4685e-04 - accuracy: 0.9999 - val_loss: 0.1080 - val_accuracy: 0.9791\n",
            "Epoch 37/50\n",
            "592/600 [============================>.] - ETA: 0s - loss: 7.0467e-04 - accuracy: 0.9999\n",
            "Epoch 37: val_loss did not improve from 0.07476\n",
            "600/600 [==============================] - 3s 4ms/step - loss: 7.0197e-04 - accuracy: 0.9999 - val_loss: 0.1123 - val_accuracy: 0.9784\n",
            "Epoch 38/50\n",
            "589/600 [============================>.] - ETA: 0s - loss: 6.9085e-04 - accuracy: 0.9999\n",
            "Epoch 38: val_loss did not improve from 0.07476\n",
            "600/600 [==============================] - 3s 5ms/step - loss: 6.8726e-04 - accuracy: 0.9999 - val_loss: 0.1132 - val_accuracy: 0.9779\n",
            "Epoch 39/50\n",
            "593/600 [============================>.] - ETA: 0s - loss: 5.0685e-04 - accuracy: 0.9999\n",
            "Epoch 39: val_loss did not improve from 0.07476\n",
            "600/600 [==============================] - 3s 6ms/step - loss: 5.0518e-04 - accuracy: 0.9999 - val_loss: 0.1129 - val_accuracy: 0.9789\n",
            "Epoch 40/50\n",
            "600/600 [==============================] - ETA: 0s - loss: 4.5541e-04 - accuracy: 1.0000\n",
            "Epoch 40: val_loss did not improve from 0.07476\n",
            "600/600 [==============================] - 3s 5ms/step - loss: 4.5541e-04 - accuracy: 1.0000 - val_loss: 0.1132 - val_accuracy: 0.9786\n",
            "Epoch 41/50\n",
            "594/600 [============================>.] - ETA: 0s - loss: 3.2887e-04 - accuracy: 1.0000\n",
            "Epoch 41: val_loss did not improve from 0.07476\n",
            "600/600 [==============================] - 3s 4ms/step - loss: 3.2822e-04 - accuracy: 1.0000 - val_loss: 0.1136 - val_accuracy: 0.9796\n",
            "Epoch 42/50\n",
            "589/600 [============================>.] - ETA: 0s - loss: 2.7656e-04 - accuracy: 1.0000\n",
            "Epoch 42: val_loss did not improve from 0.07476\n",
            "600/600 [==============================] - 3s 5ms/step - loss: 2.7772e-04 - accuracy: 1.0000 - val_loss: 0.1154 - val_accuracy: 0.9794\n",
            "Epoch 43/50\n",
            "596/600 [============================>.] - ETA: 0s - loss: 2.6181e-04 - accuracy: 1.0000\n",
            "Epoch 43: val_loss did not improve from 0.07476\n",
            "600/600 [==============================] - 3s 4ms/step - loss: 2.6179e-04 - accuracy: 1.0000 - val_loss: 0.1145 - val_accuracy: 0.9791\n",
            "Epoch 44/50\n",
            "600/600 [==============================] - ETA: 0s - loss: 2.3351e-04 - accuracy: 1.0000\n",
            "Epoch 44: val_loss did not improve from 0.07476\n",
            "600/600 [==============================] - 4s 6ms/step - loss: 2.3351e-04 - accuracy: 1.0000 - val_loss: 0.1170 - val_accuracy: 0.9793\n",
            "Epoch 45/50\n",
            "599/600 [============================>.] - ETA: 0s - loss: 2.0526e-04 - accuracy: 1.0000\n",
            "Epoch 45: val_loss did not improve from 0.07476\n",
            "600/600 [==============================] - 3s 5ms/step - loss: 2.0518e-04 - accuracy: 1.0000 - val_loss: 0.1166 - val_accuracy: 0.9796\n",
            "Epoch 46/50\n",
            "593/600 [============================>.] - ETA: 0s - loss: 1.8416e-04 - accuracy: 1.0000\n",
            "Epoch 46: val_loss did not improve from 0.07476\n",
            "600/600 [==============================] - 3s 4ms/step - loss: 1.8470e-04 - accuracy: 1.0000 - val_loss: 0.1179 - val_accuracy: 0.9796\n",
            "Epoch 47/50\n",
            "591/600 [============================>.] - ETA: 0s - loss: 1.6813e-04 - accuracy: 1.0000\n",
            "Epoch 47: val_loss did not improve from 0.07476\n",
            "600/600 [==============================] - 3s 4ms/step - loss: 1.6783e-04 - accuracy: 1.0000 - val_loss: 0.1201 - val_accuracy: 0.9793\n",
            "Epoch 48/50\n",
            "586/600 [============================>.] - ETA: 0s - loss: 1.6121e-04 - accuracy: 1.0000\n",
            "Epoch 48: val_loss did not improve from 0.07476\n",
            "600/600 [==============================] - 3s 4ms/step - loss: 1.6094e-04 - accuracy: 1.0000 - val_loss: 0.1194 - val_accuracy: 0.9791\n",
            "Epoch 49/50\n",
            "598/600 [============================>.] - ETA: 0s - loss: 1.5096e-04 - accuracy: 1.0000\n",
            "Epoch 49: val_loss did not improve from 0.07476\n",
            "600/600 [==============================] - 4s 7ms/step - loss: 1.5064e-04 - accuracy: 1.0000 - val_loss: 0.1190 - val_accuracy: 0.9792\n",
            "Epoch 50/50\n",
            "591/600 [============================>.] - ETA: 0s - loss: 1.3773e-04 - accuracy: 1.0000\n",
            "Epoch 50: val_loss did not improve from 0.07476\n",
            "600/600 [==============================] - 3s 5ms/step - loss: 1.3807e-04 - accuracy: 1.0000 - val_loss: 0.1204 - val_accuracy: 0.9793\n"
          ]
        },
        {
          "output_type": "execute_result",
          "data": {
            "text/plain": [
              "<keras.src.callbacks.History at 0x7b1c4eec20b0>"
            ]
          },
          "metadata": {},
          "execution_count": 29
        }
      ]
    },
    {
      "cell_type": "code",
      "source": [
        "experiment.log_model(\"MNIST1\", \"mejor-modelo1.1.hdf5\")"
      ],
      "metadata": {
        "id": "-onR7D9SK9FN",
        "colab": {
          "base_uri": "https://localhost:8080/"
        },
        "outputId": "69a44b66-9ea7-4967-b246-8158e12bec47"
      },
      "execution_count": 30,
      "outputs": [
        {
          "output_type": "execute_result",
          "data": {
            "text/plain": [
              "{'web': 'https://www.comet.com/api/asset/download?assetId=6853f711258c43beb571530a4d1719a8&experimentKey=68e6c9e21c3142e2aa61c59f6a326d7e',\n",
              " 'api': 'https://www.comet.com/api/rest/v2/experiment/asset/get-asset?assetId=6853f711258c43beb571530a4d1719a8&experimentKey=68e6c9e21c3142e2aa61c59f6a326d7e',\n",
              " 'assetId': '6853f711258c43beb571530a4d1719a8'}"
            ]
          },
          "metadata": {},
          "execution_count": 30
        }
      ]
    },
    {
      "cell_type": "code",
      "source": [
        "experiment.end()"
      ],
      "metadata": {
        "colab": {
          "base_uri": "https://localhost:8080/"
        },
        "id": "aGoU0WClHoJJ",
        "outputId": "196dcbd4-d72e-424f-91ce-79251c388d48"
      },
      "execution_count": 31,
      "outputs": [
        {
          "output_type": "stream",
          "name": "stderr",
          "text": [
            "\u001b[1;38;5;39mCOMET INFO:\u001b[0m ---------------------------------------------------------------------------------------\n",
            "\u001b[1;38;5;39mCOMET INFO:\u001b[0m Comet.ml Experiment Summary\n",
            "\u001b[1;38;5;39mCOMET INFO:\u001b[0m ---------------------------------------------------------------------------------------\n",
            "\u001b[1;38;5;39mCOMET INFO:\u001b[0m   Data:\n",
            "\u001b[1;38;5;39mCOMET INFO:\u001b[0m     display_summary_level : 1\n",
            "\u001b[1;38;5;39mCOMET INFO:\u001b[0m     url                   : https://www.comet.com/emivk/rnadigits/68e6c9e21c3142e2aa61c59f6a326d7e\n",
            "\u001b[1;38;5;39mCOMET INFO:\u001b[0m   Metrics [count] (min, max):\n",
            "\u001b[1;38;5;39mCOMET INFO:\u001b[0m     accuracy [50]                 : (0.9086166620254517, 1.0)\n",
            "\u001b[1;38;5;39mCOMET INFO:\u001b[0m     batch_accuracy [3000]         : (0.09000000357627869, 1.0)\n",
            "\u001b[1;38;5;39mCOMET INFO:\u001b[0m     batch_loss [3000]             : (6.43274761387147e-05, 2.439486503601074)\n",
            "\u001b[1;38;5;39mCOMET INFO:\u001b[0m     epoch_duration [50]           : (2.4658994330002315, 4.254926769999656)\n",
            "\u001b[1;38;5;39mCOMET INFO:\u001b[0m     loss [50]                     : (0.00013807039067614824, 0.33002814650535583)\n",
            "\u001b[1;38;5;39mCOMET INFO:\u001b[0m     val_accuracy [50]             : (0.9440000057220459, 0.9796000123023987)\n",
            "\u001b[1;38;5;39mCOMET INFO:\u001b[0m     val_loss [50]                 : (0.07475532591342926, 0.18817204236984253)\n",
            "\u001b[1;38;5;39mCOMET INFO:\u001b[0m     validate_batch_accuracy [500] : (0.9276190400123596, 1.0)\n",
            "\u001b[1;38;5;39mCOMET INFO:\u001b[0m     validate_batch_loss [500]     : (0.01882587932050228, 0.2427036166191101)\n",
            "\u001b[1;38;5;39mCOMET INFO:\u001b[0m   Others:\n",
            "\u001b[1;38;5;39mCOMET INFO:\u001b[0m     trainable_params : 79510\n",
            "\u001b[1;38;5;39mCOMET INFO:\u001b[0m   Parameters:\n",
            "\u001b[1;38;5;39mCOMET INFO:\u001b[0m     RMSprop_centered                : False\n",
            "\u001b[1;38;5;39mCOMET INFO:\u001b[0m     RMSprop_clipnorm                : 1\n",
            "\u001b[1;38;5;39mCOMET INFO:\u001b[0m     RMSprop_clipvalue               : 1\n",
            "\u001b[1;38;5;39mCOMET INFO:\u001b[0m     RMSprop_ema_momentum            : 0.99\n",
            "\u001b[1;38;5;39mCOMET INFO:\u001b[0m     RMSprop_ema_overwrite_frequency : 100\n",
            "\u001b[1;38;5;39mCOMET INFO:\u001b[0m     RMSprop_epsilon                 : 1e-07\n",
            "\u001b[1;38;5;39mCOMET INFO:\u001b[0m     RMSprop_global_clipnorm         : 1\n",
            "\u001b[1;38;5;39mCOMET INFO:\u001b[0m     RMSprop_is_legacy_optimizer     : False\n",
            "\u001b[1;38;5;39mCOMET INFO:\u001b[0m     RMSprop_jit_compile             : False\n",
            "\u001b[1;38;5;39mCOMET INFO:\u001b[0m     RMSprop_learning_rate           : 0.0010000000474974513\n",
            "\u001b[1;38;5;39mCOMET INFO:\u001b[0m     RMSprop_momentum                : 0.0\n",
            "\u001b[1;38;5;39mCOMET INFO:\u001b[0m     RMSprop_name                    : RMSprop\n",
            "\u001b[1;38;5;39mCOMET INFO:\u001b[0m     RMSprop_rho                     : 0.9\n",
            "\u001b[1;38;5;39mCOMET INFO:\u001b[0m     RMSprop_use_ema                 : False\n",
            "\u001b[1;38;5;39mCOMET INFO:\u001b[0m     RMSprop_weight_decay            : 1\n",
            "\u001b[1;38;5;39mCOMET INFO:\u001b[0m     batch_size                      : 100\n",
            "\u001b[1;38;5;39mCOMET INFO:\u001b[0m     epochs                          : 50\n",
            "\u001b[1;38;5;39mCOMET INFO:\u001b[0m     loss                            : categorical_crossentropy\n",
            "\u001b[1;38;5;39mCOMET INFO:\u001b[0m     optimizer                       : RMSprop\n",
            "\u001b[1;38;5;39mCOMET INFO:\u001b[0m     steps                           : 600\n",
            "\u001b[1;38;5;39mCOMET INFO:\u001b[0m   Uploads:\n",
            "\u001b[1;38;5;39mCOMET INFO:\u001b[0m     environment details : 1\n",
            "\u001b[1;38;5;39mCOMET INFO:\u001b[0m     filename            : 1\n",
            "\u001b[1;38;5;39mCOMET INFO:\u001b[0m     histogram3d         : 357\n",
            "\u001b[1;38;5;39mCOMET INFO:\u001b[0m     installed packages  : 1\n",
            "\u001b[1;38;5;39mCOMET INFO:\u001b[0m     model graph         : 1\n",
            "\u001b[1;38;5;39mCOMET INFO:\u001b[0m     model-element       : 1 (332.69 KB)\n",
            "\u001b[1;38;5;39mCOMET INFO:\u001b[0m     notebook            : 2\n",
            "\u001b[1;38;5;39mCOMET INFO:\u001b[0m     os packages         : 1\n",
            "\u001b[1;38;5;39mCOMET INFO:\u001b[0m     source_code         : 1\n",
            "\u001b[1;38;5;39mCOMET INFO:\u001b[0m \n",
            "\u001b[1;38;5;39mCOMET INFO:\u001b[0m Uploading 1 metrics, params and output messages\n"
          ]
        }
      ]
    }
  ]
}